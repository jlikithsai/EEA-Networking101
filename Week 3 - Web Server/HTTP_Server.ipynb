{
  "cells": [
    {
      "cell_type": "markdown",
      "metadata": {
        "id": "c8CHcu3q5FE4"
      },
      "source": [
        "# **Web Server Assigment**"
      ]
    },
    {
      "cell_type": "markdown",
      "metadata": {
        "id": "RzTpYLhf0GOZ"
      },
      "source": [
        "# 1\n",
        "\n",
        "\n"
      ]
    },
    {
      "cell_type": "markdown",
      "metadata": {
        "id": "c2zLL7vK5tte"
      },
      "source": [
        "## Overview\n",
        "In this assignment, you will explore the fundamentals of socket programming for TCP connections in Python. You will learn how to create a socket, bind it to a specific address and port, and send and receive HTTP packets. Additionally, you will gain an understanding of the basic structure of HTTP header formats.\n",
        "\n",
        "Your task is to develop a web server that processes one HTTP request at a time. The web server should:\n",
        "\n",
        "1. Accept and parse the incoming HTTP request.\n",
        "2. Retrieve the requested file from the server’s file system.\n",
        "3. Construct an HTTP response message comprising the requested file preceded by appropriate header lines.\n",
        "4. Send the response directly to the client.\n",
        "\n",
        "If the requested file is not found on the server, the web server must return an HTTP \"404 Not Found\" message to the client."
      ]
    },
    {
      "cell_type": "markdown",
      "metadata": {
        "id": "EV5Zl1ad5w7p"
      },
      "source": [
        "## Code\n",
        "Below is a skeleton code for the web server. Your task is to complete the code. The sections where you need to add your implementation are marked with `#-----#`. Some sections may require multiple lines of code."
      ]
    },
    {
      "cell_type": "markdown",
      "metadata": {
        "id": "GwYenthY557w"
      },
      "source": [
        "## Running the Server\n",
        "1. Place an HTML file (e.g., `HelloWorld.html`) in the same directory as the server program.\n",
        "2. Execute the server program.\n",
        "3. Determine the IP address of the machine running the server (e.g., `128.238.251.26`).\n",
        "4. From a different machine or the same machine, open a web browser and navigate to the URL corresponding to the server. For example:\n",
        "   ```\n",
        "   http://128.238.251.26:6789/HelloWorld.html\n",
        "   ```\n",
        "   In this example, `HelloWorld.html` is the name of the HTML file you placed in the server directory. Note the port number `6789` used after the colon. Replace this port number with the one configured in your server code.\n",
        "\n",
        "5. The browser should display the contents of `HelloWorld.html`. If the port number is omitted (e.g., `http://128.238.251.26/HelloWorld.html`), the browser will default to port 80. In this case, ensure your server is listening on port 80.\n",
        "6. Test requesting a file that is not present on the server. You should receive a \"404 Not Found\" message in the browser.\n"
      ]
    },
    {
      "cell_type": "markdown",
      "metadata": {
        "id": "wg4Mrtkp52At"
      },
      "source": [
        "## What to Submit\n",
        "Submit the following items:\n",
        "\n",
        "1. The complete server code.\n",
        "2. Screenshots of your client browser demonstrating:\n",
        "   - Successful retrieval of the HTML file content from the server.\n",
        "   - Receiving a \"404 Not Found\" message for a non-existent file.\n",
        "\n",
        "---"
      ]
    },
    {
      "cell_type": "code",
      "execution_count": 1,
      "metadata": {
        "id": "7UjnxBoctKGQ"
      },
      "outputs": [
        {
          "name": "stdout",
          "output_type": "stream",
          "text": [
            "Ready to serve...\n",
            "Ready to serve...\n"
          ]
        },
        {
          "ename": "KeyboardInterrupt",
          "evalue": "",
          "output_type": "error",
          "traceback": [
            "\u001b[0;31m---------------------------------------------------------------------------\u001b[0m",
            "\u001b[0;31mKeyboardInterrupt\u001b[0m                         Traceback (most recent call last)",
            "Cell \u001b[0;32mIn[1], line 52\u001b[0m\n\u001b[1;32m     49\u001b[0m \u001b[38;5;28;01mwhile\u001b[39;00m \u001b[38;5;28;01mTrue\u001b[39;00m:\n\u001b[1;32m     50\u001b[0m     \u001b[38;5;66;03m# Establish the connection\u001b[39;00m\n\u001b[1;32m     51\u001b[0m     \u001b[38;5;28mprint\u001b[39m(\u001b[38;5;124m'\u001b[39m\u001b[38;5;124mReady to serve...\u001b[39m\u001b[38;5;124m'\u001b[39m)\n\u001b[0;32m---> 52\u001b[0m     connectionSocket, addr \u001b[38;5;241m=\u001b[39m \u001b[43mserverSocket\u001b[49m\u001b[38;5;241;43m.\u001b[39;49m\u001b[43maccept\u001b[49m\u001b[43m(\u001b[49m\u001b[43m)\u001b[49m  \u001b[38;5;66;03m# Accept client connection\u001b[39;00m\n\u001b[1;32m     53\u001b[0m     \u001b[38;5;28;01mtry\u001b[39;00m:\n\u001b[1;32m     54\u001b[0m         message \u001b[38;5;241m=\u001b[39m connectionSocket\u001b[38;5;241m.\u001b[39mrecv(\u001b[38;5;241m1024\u001b[39m)\u001b[38;5;241m.\u001b[39mdecode()  \u001b[38;5;66;03m# Receive message\u001b[39;00m\n",
            "File \u001b[0;32m/Library/Developer/CommandLineTools/Library/Frameworks/Python3.framework/Versions/3.9/lib/python3.9/socket.py:293\u001b[0m, in \u001b[0;36msocket.accept\u001b[0;34m(self)\u001b[0m\n\u001b[1;32m    286\u001b[0m \u001b[38;5;28;01mdef\u001b[39;00m \u001b[38;5;21maccept\u001b[39m(\u001b[38;5;28mself\u001b[39m):\n\u001b[1;32m    287\u001b[0m \u001b[38;5;250m    \u001b[39m\u001b[38;5;124;03m\"\"\"accept() -> (socket object, address info)\u001b[39;00m\n\u001b[1;32m    288\u001b[0m \n\u001b[1;32m    289\u001b[0m \u001b[38;5;124;03m    Wait for an incoming connection.  Return a new socket\u001b[39;00m\n\u001b[1;32m    290\u001b[0m \u001b[38;5;124;03m    representing the connection, and the address of the client.\u001b[39;00m\n\u001b[1;32m    291\u001b[0m \u001b[38;5;124;03m    For IP sockets, the address info is a pair (hostaddr, port).\u001b[39;00m\n\u001b[1;32m    292\u001b[0m \u001b[38;5;124;03m    \"\"\"\u001b[39;00m\n\u001b[0;32m--> 293\u001b[0m     fd, addr \u001b[38;5;241m=\u001b[39m \u001b[38;5;28;43mself\u001b[39;49m\u001b[38;5;241;43m.\u001b[39;49m\u001b[43m_accept\u001b[49m\u001b[43m(\u001b[49m\u001b[43m)\u001b[49m\n\u001b[1;32m    294\u001b[0m     sock \u001b[38;5;241m=\u001b[39m socket(\u001b[38;5;28mself\u001b[39m\u001b[38;5;241m.\u001b[39mfamily, \u001b[38;5;28mself\u001b[39m\u001b[38;5;241m.\u001b[39mtype, \u001b[38;5;28mself\u001b[39m\u001b[38;5;241m.\u001b[39mproto, fileno\u001b[38;5;241m=\u001b[39mfd)\n\u001b[1;32m    295\u001b[0m     \u001b[38;5;66;03m# Issue #7995: if no default timeout is set and the listening\u001b[39;00m\n\u001b[1;32m    296\u001b[0m     \u001b[38;5;66;03m# socket had a (non-zero) timeout, force the new socket in blocking\u001b[39;00m\n\u001b[1;32m    297\u001b[0m     \u001b[38;5;66;03m# mode to override platform-specific socket flags inheritance.\u001b[39;00m\n",
            "\u001b[0;31mKeyboardInterrupt\u001b[0m: "
          ]
        }
      ],
      "source": [
        "# #import socket module\n",
        "# from socket import *\n",
        "# import sys # In order to terminate the program\n",
        "\n",
        "# serverPort = 12000\n",
        "# serverSocket = socket(AF_INET, SOCK_STREAM)\n",
        "# serverSocket.bind((\"\", serverPort))\n",
        "# serverSocket.listen(True)\n",
        "# #Prepare a sever socket\n",
        "# #_________#\n",
        "# print ('Ready to serve...')\n",
        "# while True:\n",
        "# \t#Establish the connection\n",
        "# \tprint ('Ready to serve...')\n",
        "# \tconnectionSocket, addr = #_________#\n",
        "# \ttry:\n",
        "#     message = #_________#\n",
        "# \t\tprint(message)\n",
        "# \t\tfilename = message.split()[1]\n",
        "# \t\tf = open(filename[1:])\n",
        "# \t\toutputdata = #_________#\n",
        "# \t\t#Send one HTTP header line into socket\n",
        "# \t\t#_________#\n",
        "# \t\t#Send the content of the requested file to the client\n",
        "# \t\tfor i in range(0, len(outputdata)):\n",
        "#       connectionSocket.send(outputdata[i].encode())\n",
        "# \t\tconnectionSocket.send(\"\\r\\n\".encode())\n",
        "\n",
        "# \t\tconnectionSocket.close()\n",
        "# \texcept IOError:\n",
        "#     pass\n",
        "# \t\t#Send response message for file not found\n",
        "# \t\t#_________#\n",
        "# \t\t#Close client socket\n",
        "# \t\t#_________#\n",
        "\n",
        "# serverSocket.close()\n",
        "# sys.exit() #Terminate the program after sending the corresponding data\n",
        "#import socket module\n",
        "from socket import *\n",
        "import sys  # In order to terminate the program\n",
        "\n",
        "serverPort = 12000\n",
        "serverSocket = socket(AF_INET, SOCK_STREAM)\n",
        "serverSocket.bind((\"\", serverPort))\n",
        "serverSocket.listen(1)  # Listen for 1 connection at a time\n",
        "# Prepare a server socket\n",
        "print('Ready to serve...')\n",
        "while True:\n",
        "    # Establish the connection\n",
        "    print('Ready to serve...')\n",
        "    connectionSocket, addr = serverSocket.accept()  # Accept client connection\n",
        "    try:\n",
        "        message = connectionSocket.recv(1024).decode()  # Receive message\n",
        "        print(message)\n",
        "        filename = message.split()[1]\n",
        "        f = open(filename[1:])  # Open the requested file\n",
        "        outputdata = f.read()  # Read the file content\n",
        "        \n",
        "        # Send one HTTP header line into socket\n",
        "        connectionSocket.send(\"HTTP/1.1 200 OK\\r\\n\\r\\n\".encode())\n",
        "        \n",
        "        # Send the content of the requested file to the client\n",
        "        for i in range(0, len(outputdata)):\n",
        "            connectionSocket.send(outputdata[i].encode())\n",
        "        connectionSocket.send(\"\\r\\n\".encode())\n",
        "        \n",
        "        connectionSocket.close()  # Close the connection\n",
        "    except IOError:\n",
        "        # Send response message for file not found\n",
        "        connectionSocket.send(\"HTTP/1.1 404 Not Found\\r\\n\\r\\n\".encode())\n",
        "        connectionSocket.send(\"<html><body><h1>404 Not Found</h1></body></html>\\r\\n\".encode())\n",
        "        \n",
        "        # Close client socket\n",
        "        connectionSocket.close()\n",
        "\n",
        "serverSocket.close()\n",
        "sys.exit()  # Terminate the program after sending the corresponding data\n"
      ]
    },
    {
      "cell_type": "markdown",
      "metadata": {
        "id": "5AGNNKK44X6S"
      },
      "source": [
        "# 2"
      ]
    },
    {
      "cell_type": "markdown",
      "metadata": {
        "id": "rah3P4915mCw"
      },
      "source": [
        "Currently, the web server handles only one HTTP request at a time. Implement a multithreaded server\n",
        "that is capable of serving multiple requests simultaneously. Using threading, first create a main thread\n",
        "in which your modified server listens for clients at a fixed port. When it receives a TCP connection\n",
        "request from a client, it will set up the TCP connection through another port and services the client\n",
        "request in a separate thread. There will be a separate TCP connection in a separate thread for each\n",
        "request/response pair."
      ]
    },
    {
      "cell_type": "code",
      "execution_count": null,
      "metadata": {
        "id": "kfNmj-oU4Ujb"
      },
      "outputs": [],
      "source": []
    },
    {
      "cell_type": "markdown",
      "metadata": {
        "id": "fPWGkQa-4lnY"
      },
      "source": [
        "# 3"
      ]
    },
    {
      "cell_type": "markdown",
      "metadata": {
        "id": "DIb-10dJ48fv"
      },
      "source": [
        "The Multi Thread Web Server is now set and working but cannot handle changes in the source files. How can we look for changes in the source directory and access it in your code ? Explore Libraries in python"
      ]
    },
    {
      "cell_type": "code",
      "execution_count": null,
      "metadata": {
        "id": "qfTM-Pc-5Sqp"
      },
      "outputs": [],
      "source": []
    },
    {
      "cell_type": "markdown",
      "metadata": {
        "id": "w8Rqqcba490i"
      },
      "source": [
        "After you've accessed it in your code, Post a notification on the hosted http page to reload if any source directory changes"
      ]
    },
    {
      "cell_type": "code",
      "execution_count": null,
      "metadata": {
        "id": "3snO7j705TPd"
      },
      "outputs": [],
      "source": []
    },
    {
      "cell_type": "markdown",
      "metadata": {
        "id": "SGBG_63z4_rn"
      },
      "source": [
        "Your dynamic http server is now ready"
      ]
    },
    {
      "cell_type": "code",
      "execution_count": null,
      "metadata": {
        "id": "1yZNU0LW5T6n"
      },
      "outputs": [],
      "source": []
    }
  ],
  "metadata": {
    "colab": {
      "collapsed_sections": [
        "RzTpYLhf0GOZ",
        "5AGNNKK44X6S",
        "fPWGkQa-4lnY"
      ],
      "provenance": []
    },
    "kernelspec": {
      "display_name": "Python 3",
      "name": "python3"
    },
    "language_info": {
      "codemirror_mode": {
        "name": "ipython",
        "version": 3
      },
      "file_extension": ".py",
      "mimetype": "text/x-python",
      "name": "python",
      "nbconvert_exporter": "python",
      "pygments_lexer": "ipython3",
      "version": "3.9.6"
    }
  },
  "nbformat": 4,
  "nbformat_minor": 0
}
