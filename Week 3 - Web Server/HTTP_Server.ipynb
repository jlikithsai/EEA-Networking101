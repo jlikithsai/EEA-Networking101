{
  "cells": [
    {
      "cell_type": "markdown",
      "metadata": {
        "id": "c8CHcu3q5FE4"
      },
      "source": [
        "# **Web Server Assigment**"
      ]
    },
    {
      "cell_type": "markdown",
      "metadata": {
        "id": "RzTpYLhf0GOZ"
      },
      "source": [
        "# 1\n",
        "\n",
        "\n"
      ]
    },
    {
      "cell_type": "markdown",
      "metadata": {
        "id": "c2zLL7vK5tte"
      },
      "source": [
        "## Overview\n",
        "In this assignment, you will explore the fundamentals of socket programming for TCP connections in Python. You will learn how to create a socket, bind it to a specific address and port, and send and receive HTTP packets. Additionally, you will gain an understanding of the basic structure of HTTP header formats.\n",
        "\n",
        "Your task is to develop a web server that processes one HTTP request at a time. The web server should:\n",
        "\n",
        "1. Accept and parse the incoming HTTP request.\n",
        "2. Retrieve the requested file from the server’s file system.\n",
        "3. Construct an HTTP response message comprising the requested file preceded by appropriate header lines.\n",
        "4. Send the response directly to the client.\n",
        "\n",
        "If the requested file is not found on the server, the web server must return an HTTP \"404 Not Found\" message to the client."
      ]
    },
    {
      "cell_type": "markdown",
      "metadata": {
        "id": "EV5Zl1ad5w7p"
      },
      "source": [
        "## Code\n",
        "Below is a skeleton code for the web server. Your task is to complete the code. The sections where you need to add your implementation are marked with `#-----#`. Some sections may require multiple lines of code."
      ]
    },
    {
      "cell_type": "markdown",
      "metadata": {
        "id": "GwYenthY557w"
      },
      "source": [
        "## Running the Server\n",
        "1. Place an HTML file (e.g., `HelloWorld.html`) in the same directory as the server program.\n",
        "2. Execute the server program.\n",
        "3. Determine the IP address of the machine running the server (e.g., `128.238.251.26`).\n",
        "4. From a different machine or the same machine, open a web browser and navigate to the URL corresponding to the server. For example:\n",
        "   ```\n",
        "   http://128.238.251.26:6789/HelloWorld.html\n",
        "   ```\n",
        "   In this example, `HelloWorld.html` is the name of the HTML file you placed in the server directory. Note the port number `6789` used after the colon. Replace this port number with the one configured in your server code.\n",
        "\n",
        "5. The browser should display the contents of `HelloWorld.html`. If the port number is omitted (e.g., `http://128.238.251.26/HelloWorld.html`), the browser will default to port 80. In this case, ensure your server is listening on port 80.\n",
        "6. Test requesting a file that is not present on the server. You should receive a \"404 Not Found\" message in the browser.\n"
      ]
    },
    {
      "cell_type": "markdown",
      "metadata": {
        "id": "wg4Mrtkp52At"
      },
      "source": [
        "## What to Submit\n",
        "Submit the following items:\n",
        "\n",
        "1. The complete server code.\n",
        "2. Screenshots of your client browser demonstrating:\n",
        "   - Successful retrieval of the HTML file content from the server.\n",
        "   - Receiving a \"404 Not Found\" message for a non-existent file.\n",
        "\n",
        "---"
      ]
    },
    {
      "cell_type": "code",
      "execution_count": null,
      "metadata": {
        "id": "7UjnxBoctKGQ"
      },
      "outputs": [
        {
          "name": "stdout",
          "output_type": "stream",
          "text": [
            "Ready to serve...\n",
            "Ready to serve...\n"
          ]
        }
      ],
      "source": [
        "#import socket module\n",
        "import socket\n",
        "from socket import *\n",
        "import sys # In order to terminate the program\n",
        "\n",
        "serverPort = 12000\n",
        "serverSocket = socket(AF_INET, SOCK_STREAM)\n",
        "serverSocket.bind((\"\", serverPort))\n",
        "serverSocket.listen(1)\n",
        "#Prepare a sever socket\n",
        "#_________#\n",
        "print ('Ready to serve...')\n",
        "while True:\n",
        "    #Establish the connection\n",
        "    print ('Ready to serve...')\n",
        "    connectionSocket, addr = serverSocket.accept()  \n",
        "    try:\n",
        "\n",
        "        message = connectionSocket.recv(1024).decode()  # Receive message from client\n",
        "        print(message)\n",
        "        filename = message.split()[1]  # Extract the filename from the request\n",
        "        f = open(filename[1:])  # Open the requested file (skip the leading '/')\n",
        "        outputdata = f.read()  # Read file contents\n",
        "        f.close()  # Close the file after reading\n",
        "\n",
        "        connectionSocket.send(\"HTTP/1.1 200 OK\\r\\n\\r\\n\".encode())\n",
        "\n",
        "        # Send the content of the requested file to the client\n",
        "        connectionSocket.send(outputdata.encode())  # Send the entire file content at once\n",
        "        connectionSocket.send(\"\\r\\n\".encode())  # End the HTTP response\n",
        "\n",
        "        connectionSocket.close()  # Close the client socket after sending data\n",
        "\n",
        "    except IOError:\n",
        "        # If file is not found, send 404 Not Found error message\n",
        "        connectionSocket.send(\"HTTP/1.1 404 Not Found\\r\\n\\r\\n\".encode())\n",
        "        connectionSocket.send(\"<html><head></head><body><h1>404 Not Found</h1></body></html>\".encode())\n",
        "\n",
        "        connectionSocket.close() \n",
        "serverSocket.close()\n",
        "sys.exit() #Terminate the program after sending the corresponding data"
      ]
    },
    {
      "cell_type": "markdown",
      "metadata": {
        "id": "5AGNNKK44X6S"
      },
      "source": [
        "# 2"
      ]
    },
    {
      "cell_type": "markdown",
      "metadata": {
        "id": "rah3P4915mCw"
      },
      "source": [
        "Currently, the web server handles only one HTTP request at a time. Implement a multithreaded server\n",
        "that is capable of serving multiple requests simultaneously. Using threading, first create a main thread\n",
        "in which your modified server listens for clients at a fixed port. When it receives a TCP connection\n",
        "request from a client, it will set up the TCP connection through another port and services the client\n",
        "request in a separate thread. There will be a separate TCP connection in a separate thread for each\n",
        "request/response pair."
      ]
    },
    {
      "cell_type": "code",
      "execution_count": null,
      "metadata": {
        "id": "kfNmj-oU4Ujb"
      },
      "outputs": [
        {
          "name": "stdout",
          "output_type": "stream",
          "text": [
            "Ready to serve...\n"
          ]
        }
      ],
      "source": [
        "import socket\n",
        "from socket import *\n",
        "import threading\n",
        "import sys  # In order to terminate the program\n",
        "\n",
        "serverPort = 12001\n",
        "serverSocket = socket(AF_INET,SOCK_STREAM)\n",
        "serverSocket.bind((\"\", serverPort))\n",
        "serverSocket.listen(1)\n",
        "\n",
        "print('Ready to serve...')\n",
        "\n",
        "\n",
        "def handle_client(connectionSocket, addr):\n",
        "    try:\n",
        "        message = connectionSocket.recv(1024).decode() \n",
        "        print(f\"Request from {addr}: {message}\")\n",
        "        filename = message.split()[1]  \n",
        "        \n",
        "        \n",
        "        try:\n",
        "            f = open(filename[1:])  \n",
        "            outputdata = f.read() \n",
        "            f.close()  \n",
        "\n",
        "            \n",
        "            connectionSocket.send(\"HTTP/1.1 200 OK\\r\\n\\r\\n\".encode())\n",
        "            connectionSocket.send(outputdata.encode())  \n",
        "            connectionSocket.send(\"\\r\\n\".encode()) \n",
        "\n",
        "        except IOError:\n",
        "           \n",
        "            connectionSocket.send(\"HTTP/1.1 404 Not Found\\r\\n\\r\\n\".encode())\n",
        "            connectionSocket.send(\"<html><head></head><body><h1>404 Not Found</h1></body></html>\".encode())\n",
        "    \n",
        "    except Exception as e:\n",
        "        print(f\"Error handling request from {addr}: {e}\")\n",
        "    \n",
        "    finally:\n",
        "        connectionSocket.close()  \n",
        "\n",
        "\n",
        "while True:\n",
        "    connectionSocket, addr = serverSocket.accept()  \n",
        "   \n",
        "   \n",
        "    client_thread = threading.Thread(target=handle_client, args=(connectionSocket, addr))\n",
        "    client_thread.start()\n",
        "\n",
        "\n",
        "serverSocket.close()\n",
        "sys.exit()  # Terminate the program after closing the server socket\n"
      ]
    },
    {
      "cell_type": "markdown",
      "metadata": {
        "id": "fPWGkQa-4lnY"
      },
      "source": [
        "# 3"
      ]
    },
    {
      "cell_type": "markdown",
      "metadata": {
        "id": "DIb-10dJ48fv"
      },
      "source": [
        "The Multi Thread Web Server is now set and working but cannot handle changes in the source files. How can we look for changes in the source directory and access it in your code ? Explore Libraries in python"
      ]
    },
    {
      "cell_type": "code",
      "execution_count": null,
      "metadata": {
        "id": "qfTM-Pc-5Sqp"
      },
      "outputs": [],
      "source": [
        "import socket\n",
        "import threading\n",
        "import os\n",
        "import sys\n",
        "from watchdog.observers import Observer\n",
        "from watchdog.events import FileSystemEventHandler\n",
        "import time\n",
        "\n",
        "serverPort = 12002\n",
        "serverSocket = socket.socket(socket.AF_INET, socket.SOCK_STREAM)\n",
        "serverSocket.bind((\"\", serverPort))\n",
        "serverSocket.listen(1)\n",
        "print('Server ready to serve...')\n",
        "\n",
        "\n",
        "file_cache = {}\n",
        "\n",
        "class FileChangeHandler(FileSystemEventHandler):\n",
        "    def on_modified(self, event):\n",
        "        if event.src_path and not event.is_directory:\n",
        "            filename = os.path.basename(event.src_path)\n",
        "            print(f\"File updated: {filename}\")\n",
        "            file_cache.pop(filename, None)  \n",
        "\n",
        "def start_watching():\n",
        "    observer = Observer()\n",
        "    observer.schedule(FileChangeHandler(), \".\", recursive=False)\n",
        "    observer.start()\n",
        "    try:\n",
        "        while True:\n",
        "            time.sleep(1)\n",
        "    except KeyboardInterrupt:\n",
        "        observer.stop()\n",
        "    observer.join()\n",
        "\n",
        "\n",
        "threading.Thread(target=start_watching, daemon=True).start()\n",
        "\n",
        "def handle_client(connectionSocket, addr):\n",
        "    try:\n",
        "        message = connectionSocket.recv(1024).decode()\n",
        "        print(f\"Request from {addr}: {message}\")\n",
        "        filename = message.split()[1].lstrip(\"/\")\n",
        "        \n",
        "        if filename not in file_cache:\n",
        "            if os.path.isfile(filename):\n",
        "                with open(filename, \"r\") as f:\n",
        "                    file_cache[filename] = f.read()\n",
        "            else:\n",
        "                connectionSocket.send(\"HTTP/1.1 404 Not Found\\r\\n\\r\\n\".encode())\n",
        "                connectionSocket.send(\"<html><body><h1>404 Not Found</h1></body></html>\".encode())\n",
        "                return\n",
        "\n",
        "        connectionSocket.send(\"HTTP/1.1 200 OK\\r\\n\\r\\n\".encode())\n",
        "        connectionSocket.send(file_cache[filename].encode())\n",
        "        connectionSocket.send(\"\\r\\n\".encode())\n",
        "    except Exception as e:\n",
        "        print(f\"Error handling request from {addr}: {e}\")\n",
        "    finally:\n",
        "        connectionSocket.close()\n",
        "\n",
        "try:\n",
        "    while True:\n",
        "        connectionSocket, addr = serverSocket.accept()\n",
        "        print(f\"Accepted connection from {addr}\")\n",
        "        threading.Thread(target=handle_client, args=(connectionSocket, addr)).start()\n",
        "except KeyboardInterrupt:\n",
        "    print(\"Shutting down the server...\")\n",
        "finally:\n",
        "    serverSocket.close()\n",
        "    sys.exit()\n"
      ]
    },
    {
      "cell_type": "markdown",
      "metadata": {
        "id": "w8Rqqcba490i"
      },
      "source": [
        "After you've accessed it in your code, Post a notification on the hosted http page to reload if any source directory changes"
      ]
    },
    {
      "cell_type": "code",
      "execution_count": null,
      "metadata": {
        "id": "3snO7j705TPd"
      },
      "outputs": [],
      "source": [
        "import socket\n",
        "import threading\n",
        "import os\n",
        "import sys\n",
        "from watchdog.observers import Observer\n",
        "from watchdog.events import FileSystemEventHandler\n",
        "import time\n",
        "from websocket_server import WebsocketServer  \n",
        "\n",
        "\n",
        "serverPort = 12002\n",
        "serverSocket = socket.socket(socket.AF_INET, socket.SOCK_STREAM)\n",
        "serverSocket.bind((\"\", serverPort))\n",
        "serverSocket.listen(1)\n",
        "ws_clients = []\n",
        "ws_server = WebsocketServer(host=\"\", port=12003)  \n",
        "\n",
        "\n",
        "\n",
        "print('Server ready to serve...')\n",
        "\n",
        "\n",
        "file_cache = {}\n",
        "clients = set() \n",
        "class FileChangeHandler(FileSystemEventHandler):\n",
        "    def on_modified(self, event):\n",
        "        global clients\n",
        "\n",
        "\n",
        "        if event.src_path and not event.is_directory:\n",
        "            filename = os.path.basename(event.src_path)\n",
        "            print(f\"File updated: {filename}\")\n",
        "            file_cache.pop(filename, None)  \n",
        "            \n",
        "            notify_clients(\"RELOAD\")\n",
        "\n",
        "            \n",
        "\n",
        " \n",
        "    \n",
        "\n",
        "\n",
        "def start_watching():\n",
        "    observer = Observer()\n",
        "    observer.schedule(FileChangeHandler(), \".\", recursive=False)\n",
        "    observer.start()\n",
        "    try:\n",
        "        while True:\n",
        "            time.sleep(1)\n",
        "    except KeyboardInterrupt:\n",
        "        observer.stop()\n",
        "    observer.join()\n",
        "\n",
        "\n",
        "threading.Thread(target=start_watching, daemon=True).start()\n",
        "def new_client(client, server):\n",
        "    \"\"\"Handles new WebSocket connections.\"\"\"\n",
        "    ws_clients.append(client)\n",
        "    print(f\"WebSocket client connected: {client}\")\n",
        "\n",
        "def client_left(client, server):\n",
        "    \"\"\"Handles WebSocket client disconnection.\"\"\"\n",
        "    ws_clients.remove(client)\n",
        "    print(f\"WebSocket client disconnected: {client}\")\n",
        "\n",
        "def notify_clients(message):\n",
        "    \"\"\"Send a notification to all WebSocket clients.\"\"\"\n",
        "    for client in ws_clients:\n",
        "        try:\n",
        "            ws_server.send_message(client, message)\n",
        "        except:\n",
        "            ws_clients.remove(client)  \n",
        "\n",
        "def start_ws_server():\n",
        "    ws_server.set_fn_new_client(new_client)\n",
        "    ws_server.set_fn_client_left(client_left)\n",
        "    ws_server.run_forever()\n",
        "threading.Thread(target=start_ws_server, daemon=True).start()\n",
        "\n",
        "\n",
        "\n",
        "def handle_client(connectionSocket, addr):\n",
        "    clients.add(connectionSocket)  \n",
        "    try:\n",
        "        message = connectionSocket.recv(1024).decode()\n",
        "        print(f\"Request from {addr}: {message}\")\n",
        "        filename = message.split()[1].lstrip(\"/\")\n",
        "        \n",
        "        if filename not in file_cache:\n",
        "            if os.path.isfile(filename):\n",
        "                with open(filename, \"r\") as f:\n",
        "                    file_cache[filename] = f.read()\n",
        "            else:\n",
        "                connectionSocket.send(\"HTTP/1.1 404 Not Found\\r\\n\\r\\n\".encode())\n",
        "                connectionSocket.send(\"<html><body><h1>404 Not Found</h1></body></html>\".encode())\n",
        "                return\n",
        "\n",
        "        connectionSocket.send(\"HTTP/1.1 200 OK\\r\\n\\r\\n\".encode())\n",
        "        \n",
        "        modified_content = file_cache[filename] + \"\"\"\n",
        "        <script>\n",
        "        const ws = new WebSocket(\"ws://localhost:12003\");\n",
        "        ws.onmessage = function(event) {\n",
        "        if (event.data === \"RELOAD\") {\n",
        "         alert(\"A file has been updated. Please refresh the page manually.\");\n",
        "                                      }\n",
        "                  };\n",
        "        </script>\n",
        "\"\"\"\n",
        "\n",
        "        connectionSocket.send(modified_content.encode())\n",
        "\n",
        "        connectionSocket.send(\"\\r\\n\".encode())\n",
        "    except Exception as e:\n",
        "        print(f\"Error handling request from {addr}: {e}\")\n",
        "    finally:\n",
        "        clients.discard(connectionSocket)\n",
        "        connectionSocket.close()\n",
        "\n",
        "try:\n",
        "    while True:\n",
        "        connectionSocket, addr = serverSocket.accept()\n",
        "        print(f\"Accepted connection from {addr}\")\n",
        "        threading.Thread(target=handle_client, args=(connectionSocket, addr)).start()\n",
        "except KeyboardInterrupt:\n",
        "    print(\"Shutting down the server...\")\n",
        "finally:\n",
        "    serverSocket.close()\n",
        "    sys.exit()\n"
      ]
    },
    {
      "cell_type": "markdown",
      "metadata": {
        "id": "SGBG_63z4_rn"
      },
      "source": [
        "Your dynamic http server is now ready"
      ]
    },
    {
      "cell_type": "code",
      "execution_count": null,
      "metadata": {
        "id": "1yZNU0LW5T6n"
      },
      "outputs": [],
      "source": []
    }
  ],
  "metadata": {
    "colab": {
      "collapsed_sections": [
        "RzTpYLhf0GOZ",
        "5AGNNKK44X6S",
        "fPWGkQa-4lnY"
      ],
      "provenance": []
    },
    "kernelspec": {
      "display_name": "Python 3",
      "name": "python3"
    },
    "language_info": {
      "codemirror_mode": {
        "name": "ipython",
        "version": 3
      },
      "file_extension": ".py",
      "mimetype": "text/x-python",
      "name": "python",
      "nbconvert_exporter": "python",
      "pygments_lexer": "ipython3",
      "version": "3.13.1"
    }
  },
  "nbformat": 4,
  "nbformat_minor": 0
}
