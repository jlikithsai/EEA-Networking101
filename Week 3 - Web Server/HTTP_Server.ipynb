{
  "cells": [
    {
      "cell_type": "markdown",
      "metadata": {
        "id": "c8CHcu3q5FE4"
      },
      "source": [
        "# **Web Server Assigment**"
      ]
    },
    {
      "cell_type": "markdown",
      "metadata": {
        "id": "RzTpYLhf0GOZ"
      },
      "source": [
        "# 1\n",
        "\n",
        "\n"
      ]
    },
    {
      "cell_type": "markdown",
      "metadata": {
        "id": "c2zLL7vK5tte"
      },
      "source": [
        "## Overview\n",
        "In this assignment, you will explore the fundamentals of socket programming for TCP connections in Python. You will learn how to create a socket, bind it to a specific address and port, and send and receive HTTP packets. Additionally, you will gain an understanding of the basic structure of HTTP header formats.\n",
        "\n",
        "Your task is to develop a web server that processes one HTTP request at a time. The web server should:\n",
        "\n",
        "1. Accept and parse the incoming HTTP request.\n",
        "2. Retrieve the requested file from the server’s file system.\n",
        "3. Construct an HTTP response message comprising the requested file preceded by appropriate header lines.\n",
        "4. Send the response directly to the client.\n",
        "\n",
        "If the requested file is not found on the server, the web server must return an HTTP \"404 Not Found\" message to the client."
      ]
    },
    {
      "cell_type": "markdown",
      "metadata": {
        "id": "EV5Zl1ad5w7p"
      },
      "source": [
        "## Code\n",
        "Below is a skeleton code for the web server. Your task is to complete the code. The sections where you need to add your implementation are marked with `#-----#`. Some sections may require multiple lines of code."
      ]
    },
    {
      "cell_type": "markdown",
      "metadata": {
        "id": "GwYenthY557w"
      },
      "source": [
        "## Running the Server\n",
        "1. Place an HTML file (e.g., `HelloWorld.html`) in the same directory as the server program.\n",
        "2. Execute the server program.\n",
        "3. Determine the IP address of the machine running the server (e.g., `128.238.251.26`).\n",
        "4. From a different machine or the same machine, open a web browser and navigate to the URL corresponding to the server. For example:\n",
        "   ```\n",
        "   http://128.238.251.26:6789/HelloWorld.html\n",
        "   ```\n",
        "   In this example, `HelloWorld.html` is the name of the HTML file you placed in the server directory. Note the port number `6789` used after the colon. Replace this port number with the one configured in your server code.\n",
        "\n",
        "5. The browser should display the contents of `HelloWorld.html`. If the port number is omitted (e.g., `http://128.238.251.26/HelloWorld.html`), the browser will default to port 80. In this case, ensure your server is listening on port 80.\n",
        "6. Test requesting a file that is not present on the server. You should receive a \"404 Not Found\" message in the browser.\n"
      ]
    },
    {
      "cell_type": "markdown",
      "metadata": {
        "id": "wg4Mrtkp52At"
      },
      "source": [
        "## What to Submit\n",
        "Submit the following items:\n",
        "\n",
        "1. The complete server code.\n",
        "2. Screenshots of your client browser demonstrating:\n",
        "   - Successful retrieval of the HTML file content from the server.\n",
        "   - Receiving a \"404 Not Found\" message for a non-existent file.\n",
        "\n",
        "---"
      ]
    },
    {
      "cell_type": "code",
      "execution_count": null,
      "metadata": {
        "id": "7UjnxBoctKGQ"
      },
      "outputs": [
        {
          "name": "stdout",
          "output_type": "stream",
          "text": [
            "Ready to serve...\n",
            "Ready to serve...\n",
            "Connection received from: ('172.23.42.155', 54899)\n",
            "GET /HelloWorld.html HTTP/1.1\n",
            "Host: 172.23.42.155:12000\n",
            "Connection: keep-alive\n",
            "Cache-Control: max-age=0\n",
            "Upgrade-Insecure-Requests: 1\n",
            "User-Agent: Mozilla/5.0 (Windows NT 10.0; Win64; x64) AppleWebKit/537.36 (KHTML, like Gecko) Chrome/132.0.0.0 Safari/537.36 Edg/132.0.0.0\n",
            "Accept: text/html,application/xhtml+xml,application/xml;q=0.9,image/avif,image/webp,image/apng,*/*;q=0.8,application/signed-exchange;v=b3;q=0.7\n",
            "Accept-Encoding: gzip, deflate\n",
            "Accept-Language: en-US,en;q=0.9,en-IN;q=0.8\n",
            "\n",
            "\n",
            "Ready to serve...\n",
            "Connection received from: ('172.23.42.155', 54900)\n",
            "GET /HelloWorld.html HTTP/1.1\n",
            "Host: 172.23.42.155:12000\n",
            "Connection: keep-alive\n",
            "Cache-Control: max-age=0\n",
            "Upgrade-Insecure-Requests: 1\n",
            "User-Agent: Mozilla/5.0 (Windows NT 10.0; Win64; x64) AppleWebKit/537.36 (KHTML, like Gecko) Chrome/132.0.0.0 Safari/537.36 Edg/132.0.0.0\n",
            "Accept: text/html,application/xhtml+xml,application/xml;q=0.9,image/avif,image/webp,image/apng,*/*;q=0.8,application/signed-exchange;v=b3;q=0.7\n",
            "Accept-Encoding: gzip, deflate\n",
            "Accept-Language: en-US,en;q=0.9,en-IN;q=0.8\n",
            "\n",
            "\n",
            "Ready to serve...\n",
            "Connection received from: ('172.23.42.155', 54915)\n",
            "GET /HelloWorld.html HTTP/1.1\n",
            "Host: 172.23.42.155:12000\n",
            "Connection: keep-alive\n",
            "Cache-Control: max-age=0\n",
            "Upgrade-Insecure-Requests: 1\n",
            "User-Agent: Mozilla/5.0 (Windows NT 10.0; Win64; x64) AppleWebKit/537.36 (KHTML, like Gecko) Chrome/132.0.0.0 Safari/537.36 Edg/132.0.0.0\n",
            "Accept: text/html,application/xhtml+xml,application/xml;q=0.9,image/avif,image/webp,image/apng,*/*;q=0.8,application/signed-exchange;v=b3;q=0.7\n",
            "Accept-Encoding: gzip, deflate\n",
            "Accept-Language: en-US,en;q=0.9,en-IN;q=0.8\n",
            "\n",
            "\n",
            "Ready to serve...\n",
            "Connection received from: ('172.23.42.155', 54916)\n",
            "GET /HelloWorld.html HTTP/1.1\n",
            "Host: 172.23.42.155:12000\n",
            "Connection: keep-alive\n",
            "Cache-Control: max-age=0\n",
            "Upgrade-Insecure-Requests: 1\n",
            "User-Agent: Mozilla/5.0 (Windows NT 10.0; Win64; x64) AppleWebKit/537.36 (KHTML, like Gecko) Chrome/132.0.0.0 Safari/537.36 Edg/132.0.0.0\n",
            "Accept: text/html,application/xhtml+xml,application/xml;q=0.9,image/avif,image/webp,image/apng,*/*;q=0.8,application/signed-exchange;v=b3;q=0.7\n",
            "Accept-Encoding: gzip, deflate\n",
            "Accept-Language: en-US,en;q=0.9,en-IN;q=0.8\n",
            "\n",
            "\n",
            "Ready to serve...\n",
            "Connection received from: ('172.23.42.155', 54918)\n",
            "GET /rld.html HTTP/1.1\n",
            "Host: 172.23.42.155:12000\n",
            "Connection: keep-alive\n",
            "Upgrade-Insecure-Requests: 1\n",
            "User-Agent: Mozilla/5.0 (Windows NT 10.0; Win64; x64) AppleWebKit/537.36 (KHTML, like Gecko) Chrome/132.0.0.0 Safari/537.36 Edg/132.0.0.0\n",
            "Accept: text/html,application/xhtml+xml,application/xml;q=0.9,image/avif,image/webp,image/apng,*/*;q=0.8,application/signed-exchange;v=b3;q=0.7\n",
            "Accept-Encoding: gzip, deflate\n",
            "Accept-Language: en-US,en;q=0.9,en-IN;q=0.8\n",
            "\n",
            "\n",
            "Ready to serve...\n",
            "Connection received from: ('172.23.42.155', 54919)\n"
          ]
        }
      ],
      "source": [
        "#import socket module\n",
        "from socket import *\n",
        "import sys  # In order to terminate the program\n",
        "\n",
        "serverPort = 12000\n",
        "serverSocket = socket(AF_INET, SOCK_STREAM)\n",
        "serverSocket.bind((\"\", serverPort))\n",
        "serverSocket.listen(1)  # Use an integer instead of 'True' for max queued connections\n",
        "\n",
        "print(\"Ready to serve...\")\n",
        "\n",
        "while True:\n",
        "    # Establish the connection\n",
        "    print(\"Ready to serve...\")\n",
        "    connectionSocket, addr = serverSocket.accept()\n",
        "    print(f\"Connection received from: {addr}\")\n",
        "\n",
        "    try:\n",
        "        # Receive the request message from the client\n",
        "        message = connectionSocket.recv(1024).decode()  # FIXED: Added parentheses to decode()\n",
        "        print(message)\n",
        "\n",
        "        # Extract the requested filename from the GET request\n",
        "        filename = message.split()[1]  # Extracts something like \"/HelloWorld.html\"\n",
        "        filepath = filename[1:]  # Remove the leading \"/\"\n",
        "\n",
        "        # Open the requested file\n",
        "        with open(filepath, \"r\") as f:\n",
        "            outputdata = f.read()\n",
        "\n",
        "        # Send HTTP response headers\n",
        "        connectionSocket.send(\"HTTP/1.1 200 OK\\r\\n\".encode())\n",
        "        connectionSocket.send(\"Content-Type: text/html\\r\\n\\r\\n\".encode())\n",
        "\n",
        "        # Send the content of the requested file\n",
        "        connectionSocket.send(outputdata.encode())\n",
        "\n",
        "    except FileNotFoundError:\n",
        "        # Send response message for file not found (404)\n",
        "        error_message = \"<html><body><h1>404 Not Found</h1></body></html>\"\n",
        "        connectionSocket.send(\"HTTP/1.1 404 Not Found\\r\\n\".encode())\n",
        "        connectionSocket.send(\"Content-Type: text/html\\r\\n\\r\\n\".encode())\n",
        "        connectionSocket.send(error_message.encode())\n",
        "\n",
        "    finally:\n",
        "        # Close the client connection\n",
        "        connectionSocket.close()\n",
        "\n",
        "serverSocket.close()\n",
        "sys.exit()  # Terminate the program\n"
      ]
    },
    {
      "cell_type": "markdown",
      "metadata": {
        "id": "5AGNNKK44X6S"
      },
      "source": [
        "# 2"
      ]
    },
    {
      "cell_type": "markdown",
      "metadata": {
        "id": "rah3P4915mCw"
      },
      "source": [
        "Currently, the web server handles only one HTTP request at a time. Implement a multithreaded server\n",
        "that is capable of serving multiple requests simultaneously. Using threading, first create a main thread\n",
        "in which your modified server listens for clients at a fixed port. When it receives a TCP connection\n",
        "request from a client, it will set up the TCP connection through another port and services the client\n",
        "request in a separate thread. There will be a separate TCP connection in a separate thread for each\n",
        "request/response pair."
      ]
    },
    {
      "cell_type": "code",
      "execution_count": null,
      "metadata": {
        "id": "kfNmj-oU4Ujb"
      },
      "outputs": [
        {
          "name": "stdout",
          "output_type": "stream",
          "text": [
            "Server is ready to serve on port 12000...\n",
            "New connection from ('172.23.42.155', 55120)\n",
            "Received request from ('172.23.42.155', 55120): GET /HelloWorld.html HTTP/1.1\n",
            "Host: 172.23.42.155:12000\n",
            "Connection: keep-alive\n",
            "Upgrade-Insecure-Requests: 1\n",
            "User-Agent: Mozilla/5.0 (Windows NT 10.0; Win64; x64) AppleWebKit/537.36 (KHTML, like Gecko) Chrome/132.0.0.0 Safari/537.36 Edg/132.0.0.0\n",
            "Accept: text/html,application/xhtml+xml,application/xml;q=0.9,image/avif,image/webp,image/apng,*/*;q=0.8,application/signed-exchange;v=b3;q=0.7\n",
            "Accept-Encoding: gzip, deflate\n",
            "Accept-Language: en-US,en;q=0.9,en-IN;q=0.8\n",
            "\n",
            "\n",
            "New connection from ('172.23.42.155', 55121)\n",
            "New connection from ('172.23.42.155', 55122)\n",
            "Received request from ('172.23.42.155', 55121): GET /HelloWorld.html HTTP/1.1\n",
            "Host: 172.23.42.155:12000\n",
            "Connection: keep-alive\n",
            "Upgrade-Insecure-Requests: 1\n",
            "User-Agent: Mozilla/5.0 (Windows NT 10.0; Win64; x64) AppleWebKit/537.36 (KHTML, like Gecko) Chrome/132.0.0.0 Safari/537.36 Edg/132.0.0.0\n",
            "Accept: text/html,application/xhtml+xml,application/xml;q=0.9,image/avif,image/webp,image/apng,*/*;q=0.8,application/signed-exchange;v=b3;q=0.7\n",
            "Accept-Encoding: gzip, deflate\n",
            "Accept-Language: en-US,en;q=0.9,en-IN;q=0.8\n",
            "\n",
            "\n",
            "New connection from ('172.23.42.155', 55133)\n",
            "Received request from ('172.23.42.155', 55122): GET /HelloWorld.html HTTP/1.1\n",
            "Host: 172.23.42.155:12000\n",
            "Connection: keep-alive\n",
            "Upgrade-Insecure-Requests: 1\n",
            "User-Agent: Mozilla/5.0 (Windows NT 10.0; Win64; x64) AppleWebKit/537.36 (KHTML, like Gecko) Chrome/132.0.0.0 Safari/537.36 Edg/132.0.0.0\n",
            "Accept: text/html,application/xhtml+xml,application/xml;q=0.9,image/avif,image/webp,image/apng,*/*;q=0.8,application/signed-exchange;v=b3;q=0.7\n",
            "Accept-Encoding: gzip, deflate\n",
            "Accept-Language: en-US,en;q=0.9,en-IN;q=0.8\n",
            "\n",
            "\n",
            "New connection from ('172.23.42.155', 55194)\n",
            "Empty request from ('172.23.42.155', 55133), closing connection.\n"
          ]
        }
      ],
      "source": [
        "import threading\n",
        "import socket\n",
        "import sys\n",
        "\n",
        "# Server configuration\n",
        "serverPort = 12000\n",
        "\n",
        "# Create a server socket (TCP)\n",
        "serverSocket = socket.socket(socket.AF_INET, socket.SOCK_STREAM)\n",
        "serverSocket.bind((\"\", serverPort))\n",
        "serverSocket.listen(5)  # Allow up to 5 pending connections\n",
        "\n",
        "print(f\"Server is ready to serve on port {serverPort}...\")\n",
        "\n",
        "# Function to handle client requests\n",
        "def handle_client(connectionSocket, addr):\n",
        "    try:\n",
        "        message = connectionSocket.recv(1024).decode()\n",
        "        \n",
        "        if not message:\n",
        "            print(f\"Empty request from {addr}, closing connection.\")\n",
        "            connectionSocket.close()\n",
        "            return\n",
        "\n",
        "        print(f\"Received request from {addr}: {message}\")\n",
        "\n",
        "        # Extract requested filename\n",
        "        request_parts = message.split()\n",
        "        if len(request_parts) < 2:\n",
        "            print(f\"Malformed request from {addr}\")\n",
        "            connectionSocket.send(\"HTTP/1.1 400 Bad Request\\r\\n\\r\\n\".encode())\n",
        "            connectionSocket.close()\n",
        "            return\n",
        "\n",
        "        filename = request_parts[1][1:]  # Remove leading \"/\"\n",
        "\n",
        "        # Open the requested file\n",
        "        with open(filename, \"r\") as f:\n",
        "            outputdata = f.read()\n",
        "\n",
        "        # Send HTTP response header\n",
        "        connectionSocket.send(\"HTTP/1.1 200 OK\\r\\n\".encode())\n",
        "        connectionSocket.send(\"Content-Type: text/html\\r\\n\\r\\n\".encode())\n",
        "\n",
        "        # Send file content\n",
        "        for i in outputdata:\n",
        "            connectionSocket.send(i.encode())\n",
        "\n",
        "        connectionSocket.send(\"\\r\\n\".encode())\n",
        "\n",
        "    except FileNotFoundError:\n",
        "        # Handle file not found\n",
        "        print(f\"File not found: {filename}\")\n",
        "        connectionSocket.send(\"HTTP/1.1 404 Not Found\\r\\n\\r\\n\".encode())\n",
        "        connectionSocket.send(\"<html><body><h1>404 Not Found</h1></body></html>\\r\\n\".encode())\n",
        "\n",
        "    except Exception as e:\n",
        "        print(f\"Error handling request from {addr}: {e}\")\n",
        "\n",
        "    finally:\n",
        "        connectionSocket.close()\n",
        "\n",
        "# Main server loop\n",
        "while True:\n",
        "    try:\n",
        "        connectionSocket, addr = serverSocket.accept()\n",
        "        print(f\"New connection from {addr}\")\n",
        "\n",
        "        # Create a new thread to handle the client request\n",
        "        client_thread = threading.Thread(target=handle_client, args=(connectionSocket, addr))\n",
        "        client_thread.start()\n",
        "\n",
        "    except KeyboardInterrupt:\n",
        "        print(\"\\nShutting down the server...\")\n",
        "        serverSocket.close()\n",
        "        sys.exit()\n"
      ]
    },
    {
      "cell_type": "markdown",
      "metadata": {},
      "source": [
        "Main thread\n",
        "\n",
        "Creates a socket and listens for incoming connections.\n",
        "When a client connects, it spawns a new thread to handle the request.\n",
        "Worker thread (handle_client)\n",
        "\n",
        "Receives the HTTP request.\n",
        "Extracts the requested file and serves it if found.\n",
        "If the file is missing, returns a 404 Not Found message.\n",
        "Closes the connection after processing."
      ]
    },
    {
      "cell_type": "markdown",
      "metadata": {
        "id": "fPWGkQa-4lnY"
      },
      "source": [
        "# 3"
      ]
    },
    {
      "cell_type": "markdown",
      "metadata": {
        "id": "DIb-10dJ48fv"
      },
      "source": [
        "The Multi Thread Web Server is now set and working but cannot handle changes in the source files. How can we look for changes in the source directory and access it in your code ? Explore Libraries in python"
      ]
    },
    {
      "cell_type": "markdown",
      "metadata": {
        "id": "qfTM-Pc-5Sqp"
      },
      "source": [
        "The watchdog observer monitors the directory for file changes.\n",
        "Whenever a file is modified, on_modified() prints a message.\n",
        "The handle_client function always reads the file from disk, so the latest content is served without restarting the server."
      ]
    },
    {
      "cell_type": "markdown",
      "metadata": {
        "id": "w8Rqqcba490i"
      },
      "source": [
        "After you've accessed it in your code, Post a notification on the hosted http page to reload if any source directory changes"
      ]
    },
    {
      "cell_type": "markdown",
      "metadata": {
        "id": "3snO7j705TPd"
      },
      "source": [
        "To notify clients about changes in the source directory and prompt them to reload, we can implement the following strategy:\n",
        "\n",
        "(1)Global Change Tracking: Use a global flag or counter to track changes in the source directory. When a file is modified, the counter or flag will update.\n",
        "\n",
        "(2)Embed Notification Script: Use a simple HTML page with a JavaScript snippet to poll the server for changes. When the server detects a change, it will respond to the client, prompting a reload.\n",
        "\n",
        "(3)Integration with watchdog: Update the global change counter or flag whenever a file is modified or created."
      ]
    },
    {
      "cell_type": "markdown",
      "metadata": {
        "id": "SGBG_63z4_rn"
      },
      "source": [
        "Your dynamic http server is now ready"
      ]
    },
    {
      "cell_type": "code",
      "execution_count": null,
      "metadata": {
        "id": "1yZNU0LW5T6n"
      },
      "outputs": [],
      "source": []
    }
  ],
  "metadata": {
    "colab": {
      "collapsed_sections": [
        "RzTpYLhf0GOZ",
        "5AGNNKK44X6S",
        "fPWGkQa-4lnY"
      ],
      "provenance": []
    },
    "kernelspec": {
      "display_name": "Python 3",
      "name": "python3"
    },
    "language_info": {
      "codemirror_mode": {
        "name": "ipython",
        "version": 3
      },
      "file_extension": ".py",
      "mimetype": "text/x-python",
      "name": "python",
      "nbconvert_exporter": "python",
      "pygments_lexer": "ipython3",
      "version": "3.12.6"
    }
  },
  "nbformat": 4,
  "nbformat_minor": 0
}
