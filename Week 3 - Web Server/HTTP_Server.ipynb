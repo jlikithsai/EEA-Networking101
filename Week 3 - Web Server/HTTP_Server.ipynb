{
  "cells": [
    {
      "attachments": {},
      "cell_type": "markdown",
      "metadata": {
        "id": "c8CHcu3q5FE4"
      },
      "source": [
        "# **Web Server Assigment**"
      ]
    },
    {
      "attachments": {},
      "cell_type": "markdown",
      "metadata": {
        "id": "RzTpYLhf0GOZ"
      },
      "source": [
        "# 1\n",
        "\n",
        "\n"
      ]
    },
    {
      "attachments": {},
      "cell_type": "markdown",
      "metadata": {
        "id": "c2zLL7vK5tte"
      },
      "source": [
        "## Overview\n",
        "In this assignment, you will explore the fundamentals of socket programming for TCP connections in Python. You will learn how to create a socket, bind it to a specific address and port, and send and receive HTTP packets. Additionally, you will gain an understanding of the basic structure of HTTP header formats.\n",
        "\n",
        "Your task is to develop a web server that processes one HTTP request at a time. The web server should:\n",
        "\n",
        "1. Accept and parse the incoming HTTP request.\n",
        "2. Retrieve the requested file from the server’s file system.\n",
        "3. Construct an HTTP response message comprising the requested file preceded by appropriate header lines.\n",
        "4. Send the response directly to the client.\n",
        "\n",
        "If the requested file is not found on the server, the web server must return an HTTP \"404 Not Found\" message to the client."
      ]
    },
    {
      "attachments": {},
      "cell_type": "markdown",
      "metadata": {
        "id": "EV5Zl1ad5w7p"
      },
      "source": [
        "## Code\n",
        "Below is a skeleton code for the web server. Your task is to complete the code. The sections where you need to add your implementation are marked with `#-----#`. Some sections may require multiple lines of code."
      ]
    },
    {
      "attachments": {},
      "cell_type": "markdown",
      "metadata": {
        "id": "GwYenthY557w"
      },
      "source": [
        "## Running the Server\n",
        "1. Place an HTML file (e.g., `HelloWorld.html`) in the same directory as the server program.\n",
        "2. Execute the server program.\n",
        "3. Determine the IP address of the machine running the server (e.g., `128.238.251.26`).\n",
        "4. From a different machine or the same machine, open a web browser and navigate to the URL corresponding to the server. For example:\n",
        "   ```\n",
        "   http://128.238.251.26:6789/HelloWorld.html\n",
        "   ```\n",
        "   In this example, `HelloWorld.html` is the name of the HTML file you placed in the server directory. Note the port number `6789` used after the colon. Replace this port number with the one configured in your server code.\n",
        "\n",
        "5. The browser should display the contents of `HelloWorld.html`. If the port number is omitted (e.g., `http://128.238.251.26/HelloWorld.html`), the browser will default to port 80. In this case, ensure your server is listening on port 80.\n",
        "6. Test requesting a file that is not present on the server. You should receive a \"404 Not Found\" message in the browser.\n"
      ]
    },
    {
      "attachments": {},
      "cell_type": "markdown",
      "metadata": {
        "id": "wg4Mrtkp52At"
      },
      "source": [
        "## What to Submit\n",
        "Submit the following items:\n",
        "\n",
        "1. The complete server code.\n",
        "2. Screenshots of your client browser demonstrating:\n",
        "   - Successful retrieval of the HTML file content from the server.\n",
        "   - Receiving a \"404 Not Found\" message for a non-existent file.\n",
        "\n",
        "---"
      ]
    },
    {
      "cell_type": "code",
      "execution_count": null,
      "metadata": {
        "id": "7UjnxBoctKGQ"
      },
      "outputs": [],
      "source": [
        "#import socket module\n",
        "from socket import *\n",
        "import sys # In order to terminate the program\n",
        "\n",
        "serverPort = 1200\n",
        "serverSocket = socket(AF_INET, SOCK_STREAM)\n",
        "serverSocket.bind((\"192.168.1.5\", serverPort))\n",
        "serverSocket.listen(True)\n",
        "#Prepare a server socket\n",
        "#_________#\n",
        "print ('Ready to serve...')\n",
        "while True:\n",
        "\t#Establish the connection\n",
        "\tprint ('Ready to serve...')\n",
        "\tconnectionSocket, addr = serverSocket.accept()\n",
        "\ttry:\n",
        "\t\tmessage = connectionSocket.recv(1024).decode()\n",
        "\t\tprint(message)\n",
        "\t\tfilename = message.split()[1]\n",
        "\t\tf = open(filename[1:])\n",
        "\t\toutputdata = f.read()\n",
        "\t\t #Send one HTTP header line into socket\n",
        "\t\t #_________#\n",
        "\t\tconnectionSocket.send(\"HTTP/1.1 200 OK\\r\\n\\r\\n\".encode())\n",
        "\t\t #Send the content of the requested file to the client\n",
        "\t\tfor i in range(0, len(outputdata)):\n",
        "\t\t\tconnectionSocket.send(outputdata[i].encode())\n",
        "\t\tconnectionSocket.send(\"\\r\\n\".encode())\n",
        "    \n",
        "\texcept IOError:\n",
        "\t\tconnectionSocket.send(\"HTTP/1.1 404 Not Found\\r\\n\\r\\n\".encode())\n",
        "\t\t# Send HTTP response message for file not found\n",
        "\t\tconnectionSocket.send(\"<html><head></head><body><h1>404 Not Found</h1></body></html>\".encode())\n",
        "\t\t#Close client socket\n",
        "\t\tconnectionSocket.close()\n",
        "\t\n",
        "serverSocket.close()\n",
        "sys.exit() #Terminate the program after sending the corresponding data"
      ]
    },
    {
      "attachments": {},
      "cell_type": "markdown",
      "metadata": {
        "id": "5AGNNKK44X6S"
      },
      "source": [
        "# 2"
      ]
    },
    {
      "attachments": {},
      "cell_type": "markdown",
      "metadata": {
        "id": "rah3P4915mCw"
      },
      "source": [
        "Currently, the web server handles only one HTTP request at a time. Implement a multithreaded server\n",
        "that is capable of serving multiple requests simultaneously. Using threading, first create a main thread\n",
        "in which your modified server listens for clients at a fixed port. When it receives a TCP connection\n",
        "request from a client, it will set up the TCP connection through another port and services the client\n",
        "request in a separate thread. There will be a separate TCP connection in a separate thread for each\n",
        "request/response pair."
      ]
    },
    {
      "cell_type": "code",
      "execution_count": null,
      "metadata": {
        "id": "kfNmj-oU4Ujb"
      },
      "outputs": [],
      "source": [
        "from socket import *\n",
        "import sys # In order to terminate the program\n",
        "import threading\n",
        "def handle_client(connectionSocket,addr):\n",
        "\ttry:\n",
        "\t\tmessage = connectionSocket.recv(1024).decode()\n",
        "\t\tprint(message)\n",
        "\t\tfilename = message.split()[1]\n",
        "\t\tf = open(filename[1:])\n",
        "\t\toutputdata = f.read()\n",
        "\t\t #Send one HTTP header line into socket\n",
        "\t\t #_________#\n",
        "\t\tconnectionSocket.send(\"HTTP/1.1 200 OK\\r\\n\\r\\n\".encode())\n",
        "\t\t #Send the content of the requested file to the client\n",
        "\t\tfor i in range(0, len(outputdata)):\n",
        "\t\t\tconnectionSocket.send(outputdata[i].encode())\n",
        "\t\tconnectionSocket.send(\"\\r\\n\".encode())\n",
        "    \n",
        "\texcept IOError:\n",
        "\t\tconnectionSocket.send(\"HTTP/1.1 404 Not Found\\r\\n\\r\\n\".encode())\n",
        "\t\t# Send HTTP response message for file not found\n",
        "\t\tconnectionSocket.send(\"<html><head></head><body><h1>404 Not Found</h1></body></html>\".encode())\n",
        "\t\t#Close client socket\n",
        "\t\tconnectionSocket.close()\n",
        "\t\t\n",
        "        \n",
        "        \n",
        "serverPort = 1200\n",
        "serverSocket = socket(AF_INET, SOCK_STREAM)\n",
        "serverSocket.bind((\"192.168.1.5\", serverPort))\n",
        "serverSocket.listen(True)\n",
        "while True:\n",
        "            conn, addr = serverSocket.accept()\n",
        "            client_thread = threading.Thread(target=handle_client, args=(conn, addr))\n",
        "            client_thread.start()"
      ]
    },
    {
      "attachments": {},
      "cell_type": "markdown",
      "metadata": {
        "id": "fPWGkQa-4lnY"
      },
      "source": [
        "# 3"
      ]
    },
    {
      "attachments": {},
      "cell_type": "markdown",
      "metadata": {
        "id": "DIb-10dJ48fv"
      },
      "source": [
        "The Multi Thread Web Server is now set and working but cannot handle changes in the source files. How can we look for changes in the source directory and access it in your code ? Explore Libraries in python"
      ]
    },
    {
      "cell_type": "code",
      "execution_count": null,
      "metadata": {
        "id": "qfTM-Pc-5Sqp"
      },
      "outputs": [],
      "source": []
    },
    {
      "attachments": {},
      "cell_type": "markdown",
      "metadata": {
        "id": "w8Rqqcba490i"
      },
      "source": [
        "After you've accessed it in your code, Post a notification on the hosted http page to reload if any source directory changes"
      ]
    },
    {
      "cell_type": "code",
      "execution_count": null,
      "metadata": {
        "id": "3snO7j705TPd"
      },
      "outputs": [],
      "source": []
    },
    {
      "attachments": {},
      "cell_type": "markdown",
      "metadata": {
        "id": "SGBG_63z4_rn"
      },
      "source": [
        "Your dynamic http server is now ready"
      ]
    },
    {
      "cell_type": "code",
      "execution_count": null,
      "metadata": {
        "id": "1yZNU0LW5T6n"
      },
      "outputs": [],
      "source": []
    }
  ],
  "metadata": {
    "colab": {
      "collapsed_sections": [
        "RzTpYLhf0GOZ",
        "5AGNNKK44X6S",
        "fPWGkQa-4lnY"
      ],
      "provenance": []
    },
    "kernelspec": {
      "display_name": "Python 3",
      "name": "python3"
    },
    "language_info": {
      "codemirror_mode": {
        "name": "ipython",
        "version": 3
      },
      "file_extension": ".py",
      "mimetype": "text/x-python",
      "name": "python",
      "nbconvert_exporter": "python",
      "pygments_lexer": "ipython3",
      "version": "3.13.1"
    }
  },
  "nbformat": 4,
  "nbformat_minor": 0
}
