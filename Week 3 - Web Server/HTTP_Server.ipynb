{
  "nbformat": 4,
  "nbformat_minor": 0,
  "metadata": {
    "colab": {
      "provenance": [],
      "collapsed_sections": [
        "RzTpYLhf0GOZ",
        "5AGNNKK44X6S",
        "fPWGkQa-4lnY"
      ]
    },
    "kernelspec": {
      "name": "python3",
      "display_name": "Python 3"
    },
    "language_info": {
      "name": "python"
    }
  },
  "cells": [
    {
      "cell_type": "markdown",
      "source": [
        "# **Web Server Assigment**"
      ],
      "metadata": {
        "id": "c8CHcu3q5FE4"
      }
    },
    {
      "cell_type": "markdown",
      "source": [
        "# 1\n",
        "\n",
        "\n"
      ],
      "metadata": {
        "id": "RzTpYLhf0GOZ"
      }
    },
    {
      "cell_type": "markdown",
      "source": [
        "## Overview\n",
        "In this assignment, you will explore the fundamentals of socket programming for TCP connections in Python. You will learn how to create a socket, bind it to a specific address and port, and send and receive HTTP packets. Additionally, you will gain an understanding of the basic structure of HTTP header formats.\n",
        "\n",
        "Your task is to develop a web server that processes one HTTP request at a time. The web server should:\n",
        "\n",
        "1. Accept and parse the incoming HTTP request.\n",
        "2. Retrieve the requested file from the server’s file system.\n",
        "3. Construct an HTTP response message comprising the requested file preceded by appropriate header lines.\n",
        "4. Send the response directly to the client.\n",
        "\n",
        "If the requested file is not found on the server, the web server must return an HTTP \"404 Not Found\" message to the client."
      ],
      "metadata": {
        "id": "c2zLL7vK5tte"
      }
    },
    {
      "cell_type": "markdown",
      "source": [
        "## Code\n",
        "Below is a skeleton code for the web server. Your task is to complete the code. The sections where you need to add your implementation are marked with `#-----#`. Some sections may require multiple lines of code."
      ],
      "metadata": {
        "id": "EV5Zl1ad5w7p"
      }
    },
    {
      "cell_type": "markdown",
      "source": [
        "## Running the Server\n",
        "1. Place an HTML file (e.g., `HelloWorld.html`) in the same directory as the server program.\n",
        "2. Execute the server program.\n",
        "3. Determine the IP address of the machine running the server (e.g., `128.238.251.26`).\n",
        "4. From a different machine or the same machine, open a web browser and navigate to the URL corresponding to the server. For example:\n",
        "   ```\n",
        "   http://128.238.251.26:6789/HelloWorld.html\n",
        "   ```\n",
        "   In this example, `HelloWorld.html` is the name of the HTML file you placed in the server directory. Note the port number `6789` used after the colon. Replace this port number with the one configured in your server code.\n",
        "\n",
        "5. The browser should display the contents of `HelloWorld.html`. If the port number is omitted (e.g., `http://128.238.251.26/HelloWorld.html`), the browser will default to port 80. In this case, ensure your server is listening on port 80.\n",
        "6. Test requesting a file that is not present on the server. You should receive a \"404 Not Found\" message in the browser.\n"
      ],
      "metadata": {
        "id": "GwYenthY557w"
      }
    },
    {
      "cell_type": "markdown",
      "source": [
        "## What to Submit\n",
        "Submit the following items:\n",
        "\n",
        "1. The complete server code.\n",
        "2. Screenshots of your client browser demonstrating:\n",
        "   - Successful retrieval of the HTML file content from the server.\n",
        "   - Receiving a \"404 Not Found\" message for a non-existent file.\n",
        "\n",
        "---"
      ],
      "metadata": {
        "id": "wg4Mrtkp52At"
      }
    },
    {
      "cell_type": "code",
      "execution_count": null,
      "metadata": {
        "id": "7UjnxBoctKGQ"
      },
      "outputs": [],
      "source": [
        "#import socket module\n",
        "from socket import *\n",
        "import sys # In order to terminate the program\n",
        "\n",
        "serverPort = 12000\n",
        "serverSocket = socket(AF_INET, SOCK_STREAM)\n",
        "serverSocket.bind((\"\", serverPort))\n",
        "serverSocket.listen(True)\n",
        "#Prepare a sever socket\n",
        "#_________#\n",
        "print ('Ready to serve...')\n",
        "while True:\n",
        "\t#Establish the connection\n",
        "\tprint ('Ready to serve...')\n",
        "\tconnectionSocket, addr = #_________#\n",
        "\ttry:\n",
        "    message = #_________#\n",
        "\t\tprint(message)\n",
        "\t\tfilename = message.split()[1]\n",
        "\t\tf = open(filename[1:])\n",
        "\t\toutputdata = #_________#\n",
        "\t\t#Send one HTTP header line into socket\n",
        "\t\t#_________#\n",
        "\t\t#Send the content of the requested file to the client\n",
        "\t\tfor i in range(0, len(outputdata)):\n",
        "      connectionSocket.send(outputdata[i].encode())\n",
        "\t\tconnectionSocket.send(\"\\r\\n\".encode())\n",
        "\n",
        "\t\tconnectionSocket.close()\n",
        "\texcept IOError:\n",
        "    pass\n",
        "\t\t#Send response message for file not found\n",
        "\t\t#_________#\n",
        "\t\t#Close client socket\n",
        "\t\t#_________#\n",
        "\n",
        "serverSocket.close()\n",
        "sys.exit() #Terminate the program after sending the corresponding data"
      ]
    },
    {
      "cell_type": "markdown",
      "source": [
        "# 2"
      ],
      "metadata": {
        "id": "5AGNNKK44X6S"
      }
    },
    {
      "cell_type": "markdown",
      "source": [
        "Currently, the web server handles only one HTTP request at a time. Implement a multithreaded server\n",
        "that is capable of serving multiple requests simultaneously. Using threading, first create a main thread\n",
        "in which your modified server listens for clients at a fixed port. When it receives a TCP connection\n",
        "request from a client, it will set up the TCP connection through another port and services the client\n",
        "request in a separate thread. There will be a separate TCP connection in a separate thread for each\n",
        "request/response pair."
      ],
      "metadata": {
        "id": "rah3P4915mCw"
      }
    },
    {
      "cell_type": "code",
      "source": [],
      "metadata": {
        "id": "kfNmj-oU4Ujb"
      },
      "execution_count": null,
      "outputs": []
    },
    {
      "cell_type": "markdown",
      "source": [
        "# 3"
      ],
      "metadata": {
        "id": "fPWGkQa-4lnY"
      }
    },
    {
      "cell_type": "markdown",
      "source": [
        "The Multi Thread Web Server is now set and working but cannot handle changes in the source files. How can we look for changes in the source directory and access it in your code ? Explore Libraries in python"
      ],
      "metadata": {
        "id": "DIb-10dJ48fv"
      }
    },
    {
      "cell_type": "code",
      "source": [],
      "metadata": {
        "id": "qfTM-Pc-5Sqp"
      },
      "execution_count": null,
      "outputs": []
    },
    {
      "cell_type": "markdown",
      "source": [
        "After you've accessed it in your code, Post a notification on the hosted http page to reload if any source directory changes"
      ],
      "metadata": {
        "id": "w8Rqqcba490i"
      }
    },
    {
      "cell_type": "code",
      "source": [],
      "metadata": {
        "id": "3snO7j705TPd"
      },
      "execution_count": null,
      "outputs": []
    },
    {
      "cell_type": "markdown",
      "source": [
        "Your dynamic http server is now ready"
      ],
      "metadata": {
        "id": "SGBG_63z4_rn"
      }
    },
    {
      "cell_type": "code",
      "source": [],
      "metadata": {
        "id": "1yZNU0LW5T6n"
      },
      "execution_count": null,
      "outputs": []
    }
  ]
}
