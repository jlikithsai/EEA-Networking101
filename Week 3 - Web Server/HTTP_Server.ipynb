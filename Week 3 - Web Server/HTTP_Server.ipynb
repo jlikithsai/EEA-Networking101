{
  "cells": [
    {
      "cell_type": "markdown",
      "metadata": {
        "id": "c8CHcu3q5FE4"
      },
      "source": [
        "# **Web Server Assigment**"
      ]
    },
    {
      "cell_type": "markdown",
      "metadata": {
        "id": "RzTpYLhf0GOZ"
      },
      "source": [
        "# 1\n",
        "\n",
        "\n"
      ]
    },
    {
      "cell_type": "markdown",
      "metadata": {
        "id": "c2zLL7vK5tte"
      },
      "source": [
        "## Overview\n",
        "In this assignment, you will explore the fundamentals of socket programming for TCP connections in Python. You will learn how to create a socket, bind it to a specific address and port, and send and receive HTTP packets. Additionally, you will gain an understanding of the basic structure of HTTP header formats.\n",
        "\n",
        "Your task is to develop a web server that processes one HTTP request at a time. The web server should:\n",
        "\n",
        "1. Accept and parse the incoming HTTP request.\n",
        "2. Retrieve the requested file from the server’s file system.\n",
        "3. Construct an HTTP response message comprising the requested file preceded by appropriate header lines.\n",
        "4. Send the response directly to the client.\n",
        "\n",
        "If the requested file is not found on the server, the web server must return an HTTP \"404 Not Found\" message to the client."
      ]
    },
    {
      "cell_type": "markdown",
      "metadata": {
        "id": "EV5Zl1ad5w7p"
      },
      "source": [
        "## Code\n",
        "Below is a skeleton code for the web server. Your task is to complete the code. The sections where you need to add your implementation are marked with `#-----#`. Some sections may require multiple lines of code."
      ]
    },
    {
      "cell_type": "markdown",
      "metadata": {
        "id": "GwYenthY557w"
      },
      "source": [
        "## Running the Server\n",
        "1. Place an HTML file (e.g., `HelloWorld.html`) in the same directory as the server program.\n",
        "2. Execute the server program.\n",
        "3. Determine the IP address of the machine running the server (e.g., `128.238.251.26`).\n",
        "4. From a different machine or the same machine, open a web browser and navigate to the URL corresponding to the server. For example:\n",
        "   ```\n",
        "   http://128.238.251.26:6789/HelloWorld.html\n",
        "   ```\n",
        "   In this example, `HelloWorld.html` is the name of the HTML file you placed in the server directory. Note the port number `6789` used after the colon. Replace this port number with the one configured in your server code.\n",
        "\n",
        "5. The browser should display the contents of `HelloWorld.html`. If the port number is omitted (e.g., `http://128.238.251.26/HelloWorld.html`), the browser will default to port 80. In this case, ensure your server is listening on port 80.\n",
        "6. Test requesting a file that is not present on the server. You should receive a \"404 Not Found\" message in the browser.\n"
      ]
    },
    {
      "cell_type": "markdown",
      "metadata": {
        "id": "wg4Mrtkp52At"
      },
      "source": [
        "## What to Submit\n",
        "Submit the following items:\n",
        "\n",
        "1. The complete server code.\n",
        "2. Screenshots of your client browser demonstrating:\n",
        "   - Successful retrieval of the HTML file content from the server.\n",
        "   - Receiving a \"404 Not Found\" message for a non-existent file.\n",
        "\n",
        "---"
      ]
    },
    {
      "cell_type": "code",
      "execution_count": null,
      "metadata": {
        "id": "7UjnxBoctKGQ"
      },
      "outputs": [],
      "source": [
        "# import socket module\n",
        "from socket import *\n",
        "import sys  # In order to terminate the program\n",
        "\n",
        "serverPort = 12000\n",
        "serverSocket = socket(AF_INET, SOCK_STREAM)\n",
        "serverSocket.bind((\"\", serverPort))\n",
        "serverSocket.listen(True)\n",
        "# Prepare a server socket\n",
        "print('Ready to serve...')\n",
        "\n",
        "while True:\n",
        "    # Establish the connection\n",
        "    print ('Ready to serve...')\n",
        "    connectionSocket, addr = serverSocket.accept()\n",
        "    try:\n",
        "        message = connectionSocket.recv(1024).decode()  # Receive the request message from the client\n",
        "        print(message)\n",
        "        filename = message.split()[1]  # Get the requested filename\n",
        "        f = open(filename[1:])  # Open the file (filename[1:] to remove the leading '/')\n",
        "        outputdata = f.readlines()  # Read the file content\n",
        "\n",
        "        # Send one HTTP header line into socket\n",
        "        connectionSocket.send(\"HTTP/1.1 200 OK\\r\\n\".encode())  # Sending HTTP 200 response\n",
        "        connectionSocket.send(\"Content-Type: text/html\\r\\n\".encode())  # Content type header\n",
        "        connectionSocket.send(\"\\r\\n\".encode())  # End of headers\n",
        "\n",
        "        # Send the content of the requested file to the client\n",
        "        for i in range(0, len(outputdata)):\n",
        "            connectionSocket.send(outputdata[i].encode())\n",
        "        connectionSocket.send(\"\\r\\n\".encode())  # Send an empty line to end the response\n",
        "\n",
        "        connectionSocket.close()\n",
        "    except IOError:\n",
        "        # Send response message for file not found\n",
        "        connectionSocket.send(\"HTTP/1.1 404 Not Found\\r\\n\".encode())\n",
        "        connectionSocket.send(\"Content-Type: text/html\\r\\n\".encode())\n",
        "        connectionSocket.send(\"\\r\\n\".encode())\n",
        "        connectionSocket.send(\"<html><body><h1>404 Not Found</h1></body></html>\".encode())\n",
        "\n",
        "        # Close client socket\n",
        "        connectionSocket.close()\n",
        "\n",
        "serverSocket.close()\n",
        "sys.exit()  # Terminate the program after sending the corresponding data\n"
      ]
    },
    {
      "cell_type": "markdown",
      "metadata": {},
      "source": [
        "![alt text](<Screenshot (382).png>)\n",
        "![alt text](<Screenshot (383).png>)\n",
        "![alt text](<Screenshot (385).png>)\n",
        "![alt text](<Screenshot (386).png>)"
      ]
    },
    {
      "cell_type": "markdown",
      "metadata": {
        "id": "5AGNNKK44X6S"
      },
      "source": [
        "# 2"
      ]
    },
    {
      "cell_type": "markdown",
      "metadata": {
        "id": "rah3P4915mCw"
      },
      "source": [
        "Currently, the web server handles only one HTTP request at a time. Implement a multithreaded server\n",
        "that is capable of serving multiple requests simultaneously. Using threading, first create a main thread\n",
        "in which your modified server listens for clients at a fixed port. When it receives a TCP connection\n",
        "request from a client, it will set up the TCP connection through another port and services the client\n",
        "request in a separate thread. There will be a separate TCP connection in a separate thread for each\n",
        "request/response pair."
      ]
    },
    {
      "cell_type": "code",
      "execution_count": null,
      "metadata": {
        "id": "kfNmj-oU4Ujb"
      },
      "outputs": [],
      "source": [
        "from socket import *\n",
        "import sys\n",
        "import threading\n",
        "\n",
        "def handle_client(connectionSocket, addr):\n",
        "    try:\n",
        "        message = connectionSocket.recv(1024).decode()  # Receive the request message from the client\n",
        "        print(f\"Request from {addr}:\\n{message}\")\n",
        "        filename = message.split()[1]  # Get the requested filename\n",
        "        f = open(filename[1:])  # Open the file (filename[1:] to remove the leading '/')\n",
        "        outputdata = f.readlines()  # Read the file content\n",
        "\n",
        "        # Send HTTP header line\n",
        "        connectionSocket.send(\"HTTP/1.1 200 OK\\r\\n\".encode())\n",
        "        connectionSocket.send(\"Content-Type: text/html\\r\\n\".encode())\n",
        "        connectionSocket.send(\"\\r\\n\".encode())\n",
        "\n",
        "        # Send the content of the requested file to the client\n",
        "        for line in outputdata:\n",
        "            connectionSocket.send(line.encode())\n",
        "        connectionSocket.send(\"\\r\\n\".encode())  # End the response\n",
        "\n",
        "        f.close()\n",
        "        connectionSocket.close()\n",
        "    except IOError:\n",
        "        # Send 404 Not Found response\n",
        "        connectionSocket.send(\"HTTP/1.1 404 Not Found\\r\\n\".encode())\n",
        "        connectionSocket.send(\"Content-Type: text/html\\r\\n\".encode())\n",
        "        connectionSocket.send(\"\\r\\n\".encode())\n",
        "        connectionSocket.send(\"<html><body><h1>404 Not Found</h1></body></html>\".encode())\n",
        "        connectionSocket.close()\n",
        "\n",
        "serverPort = 12000\n",
        "serverSocket = socket(AF_INET, SOCK_STREAM)\n",
        "serverSocket.bind((\"\", serverPort))\n",
        "serverSocket.listen(5)  # Allow up to 5 simultaneous connections\n",
        "print(\"Multithreaded Server is ready to serve...\")\n",
        "\n",
        "while True:\n",
        "        # Accept incoming connection\n",
        "        connectionSocket, addr = serverSocket.accept()\n",
        "        print(f\"Connection established with {addr}\")\n",
        "\n",
        "        # Start a new thread for handling the client\n",
        "        client_thread = threading.Thread(target=handle_client, args=(connectionSocket, addr))\n",
        "        client_thread.start()\n",
        "\n",
        "serverSocket.close()\n",
        "sys.exit()  # Terminate the program\n"
      ]
    },
    {
      "cell_type": "markdown",
      "metadata": {
        "id": "fPWGkQa-4lnY"
      },
      "source": [
        "# 3"
      ]
    },
    {
      "cell_type": "markdown",
      "metadata": {
        "id": "DIb-10dJ48fv"
      },
      "source": [
        "The Multi Thread Web Server is now set and working but cannot handle changes in the source files. How can we look for changes in the source directory and access it in your code ? Explore Libraries in python"
      ]
    },
    {
      "cell_type": "code",
      "execution_count": null,
      "metadata": {
        "id": "qfTM-Pc-5Sqp"
      },
      "outputs": [],
      "source": [
        "# watchdog library can be used which monitors changes in a directory (like adding, modifying, or deleting files) and triggers an event whenever a change occurs."
      ]
    },
    {
      "cell_type": "markdown",
      "metadata": {
        "id": "w8Rqqcba490i"
      },
      "source": [
        "After you've accessed it in your code, Post a notification on the hosted http page to reload if any source directory changes"
      ]
    },
    {
      "cell_type": "code",
      "execution_count": null,
      "metadata": {
        "id": "3snO7j705TPd"
      },
      "outputs": [],
      "source": [
        "# Below is the modified multithreaded server with file change detection and notification support:"
      ]
    },
    {
      "cell_type": "markdown",
      "metadata": {
        "id": "SGBG_63z4_rn"
      },
      "source": [
        "Your dynamic http server is now ready"
      ]
    },
    {
      "cell_type": "code",
      "execution_count": null,
      "metadata": {
        "id": "1yZNU0LW5T6n"
      },
      "outputs": [],
      "source": [
        "from socket import *\n",
        "import sys\n",
        "import threading\n",
        "from watchdog.observers import Observer\n",
        "from watchdog.events import FileSystemEventHandler\n",
        "\n",
        "# Global flag to indicate file changes\n",
        "file_change_detected = False\n",
        "\n",
        "# File change handler\n",
        "class FileChangeHandler(FileSystemEventHandler):\n",
        "    def on_modified(self, event):\n",
        "        global file_change_detected\n",
        "        if not event.is_directory:\n",
        "            file_change_detected = True\n",
        "            print(f\"File changed: {event.src_path}\")\n",
        "\n",
        "    def on_created(self, event):\n",
        "        global file_change_detected\n",
        "        if not event.is_directory:\n",
        "            file_change_detected = True\n",
        "            print(f\"New file added: {event.src_path}\")\n",
        "\n",
        "    def on_deleted(self, event):\n",
        "        global file_change_detected\n",
        "        if not event.is_directory:\n",
        "            file_change_detected = True\n",
        "            print(f\"File deleted: {event.src_path}\")\n",
        "\n",
        "# Function to handle each client request\n",
        "def handle_client(connectionSocket, addr):\n",
        "    global file_change_detected\n",
        "    try:\n",
        "        message = connectionSocket.recv(1024).decode()  # Receive the request message\n",
        "        print(f\"Request from {addr}:\\n{message}\")\n",
        "        filename = message.split()[1]  # Get the requested filename\n",
        "\n",
        "        # Notify the user if file changes are detected\n",
        "        if file_change_detected:\n",
        "            response = (\"HTTP/1.1 200 OK\\r\\n\"\n",
        "                        \"Content-Type: text/html\\r\\n\\r\\n\"\n",
        "                        \"<html><body>\"\n",
        "                        \"<h1>File changes detected! Please reload the page.</h1>\"\n",
        "                        \"</body></html>\")\n",
        "            connectionSocket.send(response.encode())\n",
        "            file_change_detected = False\n",
        "        else:\n",
        "            # Serve the requested file\n",
        "            with open(filename[1:], 'r') as f:\n",
        "                outputdata = f.readlines()\n",
        "\n",
        "            # Send HTTP header\n",
        "            connectionSocket.send(\"HTTP/1.1 200 OK\\r\\n\".encode())\n",
        "            connectionSocket.send(\"Content-Type: text/html\\r\\n\\r\\n\".encode())\n",
        "\n",
        "            # Send file content\n",
        "            for line in outputdata:\n",
        "                connectionSocket.send(line.encode())\n",
        "            connectionSocket.send(\"\\r\\n\".encode())\n",
        "\n",
        "        connectionSocket.close()\n",
        "    except IOError:\n",
        "        # Send 404 Not Found response\n",
        "        connectionSocket.send(\"HTTP/1.1 404 Not Found\\r\\n\".encode())\n",
        "        connectionSocket.send(\"Content-Type: text/html\\r\\n\\r\\n\".encode())\n",
        "        connectionSocket.send(\"<html><body><h1>404 Not Found</h1></body></html>\".encode())\n",
        "        connectionSocket.close()\n",
        "\n",
        "# Function to start the file watcher\n",
        "def start_watcher(directory):\n",
        "    event_handler = FileChangeHandler()\n",
        "    observer = Observer()\n",
        "    observer.schedule(event_handler, path=directory, recursive=False)\n",
        "    observer.start()\n",
        "    print(\"File watcher started.\")\n",
        "    return observer\n",
        "\n",
        "# Main thread to listen for incoming connections\n",
        "def start_server():\n",
        "    serverPort = 12000\n",
        "    serverSocket = socket(AF_INET, SOCK_STREAM)\n",
        "    serverSocket.bind((\"\", serverPort))\n",
        "    serverSocket.listen(5)\n",
        "    print(\"Dynamic HTTP Server is ready to serve...\")\n",
        "\n",
        "    # Start the file watcher\n",
        "    observer = start_watcher(\".\")  # Watch the current directory\n",
        "\n",
        "    try:\n",
        "        while True:\n",
        "            connectionSocket, addr = serverSocket.accept()\n",
        "            print(f\"Connection established with {addr}\")\n",
        "\n",
        "            # Start a new thread to handle the client\n",
        "            client_thread = threading.Thread(target=handle_client, args=(connectionSocket, addr))\n",
        "            client_thread.start()\n",
        "    except KeyboardInterrupt:\n",
        "        print(\"Shutting down the server...\")\n",
        "        observer.stop()  # Stop the file watcher\n",
        "        observer.join()\n",
        "        serverSocket.close()\n",
        "        sys.exit()\n",
        "\n",
        "if __name__ == \"__main__\":\n",
        "    start_server()\n"
      ]
    },
    {
      "cell_type": "markdown",
      "metadata": {},
      "source": [
        "![alt text](<Screenshot (393).png>)\n",
        "![alt text](<Screenshot (394).png>)\n",
        "![alt text](<Screenshot (395).png>)\n",
        "![alt text](<Screenshot (396).png>)"
      ]
    }
  ],
  "metadata": {
    "colab": {
      "collapsed_sections": [
        "RzTpYLhf0GOZ",
        "5AGNNKK44X6S",
        "fPWGkQa-4lnY"
      ],
      "provenance": []
    },
    "kernelspec": {
      "display_name": "Python 3",
      "name": "python3"
    },
    "language_info": {
      "codemirror_mode": {
        "name": "ipython",
        "version": 3
      },
      "file_extension": ".py",
      "mimetype": "text/x-python",
      "name": "python",
      "nbconvert_exporter": "python",
      "pygments_lexer": "ipython3",
      "version": "3.12.0"
    }
  },
  "nbformat": 4,
  "nbformat_minor": 0
}
