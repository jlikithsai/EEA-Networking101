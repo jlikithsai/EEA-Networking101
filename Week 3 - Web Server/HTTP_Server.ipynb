{
  "cells": [
    {
      "cell_type": "markdown",
      "metadata": {
        "id": "c8CHcu3q5FE4"
      },
      "source": [
        "# **Web Server Assigment**"
      ]
    },
    {
      "cell_type": "markdown",
      "metadata": {
        "id": "RzTpYLhf0GOZ"
      },
      "source": [
        "# 1\n",
        "\n",
        "\n"
      ]
    },
    {
      "cell_type": "markdown",
      "metadata": {
        "id": "c2zLL7vK5tte"
      },
      "source": [
        "## Overview\n",
        "In this assignment, you will explore the fundamentals of socket programming for TCP connections in Python. You will learn how to create a socket, bind it to a specific address and port, and send and receive HTTP packets. Additionally, you will gain an understanding of the basic structure of HTTP header formats.\n",
        "\n",
        "Your task is to develop a web server that processes one HTTP request at a time. The web server should:\n",
        "\n",
        "1. Accept and parse the incoming HTTP request.\n",
        "2. Retrieve the requested file from the server’s file system.\n",
        "3. Construct an HTTP response message comprising the requested file preceded by appropriate header lines.\n",
        "4. Send the response directly to the client.\n",
        "\n",
        "If the requested file is not found on the server, the web server must return an HTTP \"404 Not Found\" message to the client."
      ]
    },
    {
      "cell_type": "markdown",
      "metadata": {
        "id": "EV5Zl1ad5w7p"
      },
      "source": [
        "## Code\n",
        "Below is a skeleton code for the web server. Your task is to complete the code. The sections where you need to add your implementation are marked with `#-----#`. Some sections may require multiple lines of code."
      ]
    },
    {
      "cell_type": "markdown",
      "metadata": {
        "id": "GwYenthY557w"
      },
      "source": [
        "## Running the Server\n",
        "1. Place an HTML file (e.g., `HelloWorld.html`) in the same directory as the server program.\n",
        "2. Execute the server program.\n",
        "3. Determine the IP address of the machine running the server (e.g., `128.238.251.26`).\n",
        "4. From a different machine or the same machine, open a web browser and navigate to the URL corresponding to the server. For example:\n",
        "   ```\n",
        "   http://128.238.251.26:6789/HelloWorld.html\n",
        "   ```\n",
        "   In this example, `HelloWorld.html` is the name of the HTML file you placed in the server directory. Note the port number `6789` used after the colon. Replace this port number with the one configured in your server code.\n",
        "\n",
        "5. The browser should display the contents of `HelloWorld.html`. If the port number is omitted (e.g., `http://128.238.251.26/HelloWorld.html`), the browser will default to port 80. In this case, ensure your server is listening on port 80.\n",
        "6. Test requesting a file that is not present on the server. You should receive a \"404 Not Found\" message in the browser.\n"
      ]
    },
    {
      "cell_type": "markdown",
      "metadata": {
        "id": "wg4Mrtkp52At"
      },
      "source": [
        "## What to Submit\n",
        "Submit the following items:\n",
        "\n",
        "1. The complete server code.\n",
        "2. Screenshots of your client browser demonstrating:\n",
        "   - Successful retrieval of the HTML file content from the server.\n",
        "   - Receiving a \"404 Not Found\" message for a non-existent file.\n",
        "\n",
        "---"
      ]
    },
    {
      "cell_type": "code",
      "execution_count": null,
      "metadata": {
        "id": "7UjnxBoctKGQ"
      },
      "outputs": [
        {
          "name": "stdout",
          "output_type": "stream",
          "text": [
            "Ready to serve...\n",
            "Ready to serve...\n",
            "GET /HelloWorld.html HTTP/1.1\n",
            "Host: 192.168.0.156\n",
            "Connection: keep-alive\n",
            "Upgrade-Insecure-Requests: 1\n",
            "User-Agent: Mozilla/5.0 (Windows NT 10.0; Win64; x64) AppleWebKit/537.36 (KHTML, like Gecko) Chrome/131.0.0.0 Safari/537.36\n",
            "Accept: text/html,application/xhtml+xml,application/xml;q=0.9,image/avif,image/webp,image/apng,*/*;q=0.8,application/signed-exchange;v=b3;q=0.7\n",
            "Accept-Encoding: gzip, deflate\n",
            "Accept-Language: en-US,en;q=0.9\n",
            "\n",
            "\n",
            "Connection closed\n",
            "Ready to serve...\n",
            "GET /favicon.ico HTTP/1.1\n",
            "Host: 192.168.0.156\n",
            "Connection: keep-alive\n",
            "User-Agent: Mozilla/5.0 (Windows NT 10.0; Win64; x64) AppleWebKit/537.36 (KHTML, like Gecko) Chrome/131.0.0.0 Safari/537.36\n",
            "Accept: image/avif,image/webp,image/apng,image/svg+xml,image/*,*/*;q=0.8\n",
            "Referer: http://192.168.0.156/HelloWorld.html\n",
            "Accept-Encoding: gzip, deflate\n",
            "Accept-Language: en-US,en;q=0.9\n",
            "\n",
            "\n",
            "Connection closed\n",
            "Ready to serve...\n"
          ]
        }
      ],
      "source": [
        "#import socket module\n",
        "from socket import *\n",
        "import sys # In order to terminate the program\n",
        "\n",
        "serverPort = 12000\n",
        "serverSocket = socket(AF_INET, SOCK_STREAM)\n",
        "serverSocket.bind((\"\", serverPort))\n",
        "serverSocket.listen(1)\n",
        "#Prepare a sever socket\n",
        "#_________#\n",
        "print ('Ready to serve...')\n",
        "while True:\n",
        "\t#Establish the connection\n",
        "\tprint ('Ready to serve...')\n",
        "\tconnectionSocket, addr = serverSocket.accept()\n",
        "\n",
        "\ttry:\n",
        "\t\tmessage = connectionSocket.recv(1024).decode()\n",
        "\t\tprint(message)\n",
        "\t\tfilename = message.split()[1]\n",
        "\t\tf = open(filename[1:])\n",
        "\t\toutputdata = f.read()\n",
        "\t\t#Send one HTTP header line into socket\n",
        "\t\tconnectionSocket.send(\"HTTP/1.1 200 OK\\r\\n\\r\\n\".encode())\n",
        "\t\t#Send the content of the requested file to the client\n",
        "\t\tfor i in range(0, len(outputdata)):\n",
        "\t\t\tconnectionSocket.send(outputdata[i].encode())\n",
        "\t\tconnectionSocket.send(\"\\r\\n\".encode())\n",
        "\n",
        "\t\tconnectionSocket.close()\n",
        "\texcept IOError:\n",
        "\t\t#Send response message for file not found\n",
        "\t\tconnectionSocket.send(\"HTTP/1.1 404 Not Found\\r\\n\\r\\n\".encode())\n",
        "\t\tconnectionSocket.send(\"<html><body><h1>404 Not Found</h1></body></html>\\r\\n\".encode())\n",
        "\t\t#Close client socket\n",
        "\tfinally:\n",
        "\t\tconnectionSocket.close()\n",
        "\t\tprint('Connection closed')\n",
        "serverSocket.close()\n",
        "sys.exit() #Terminate the program after sending the corresponding data"
      ]
    },
    {
      "cell_type": "markdown",
      "metadata": {
        "id": "5AGNNKK44X6S"
      },
      "source": [
        "# 2"
      ]
    },
    {
      "cell_type": "markdown",
      "metadata": {
        "id": "rah3P4915mCw"
      },
      "source": [
        "Currently, the web server handles only one HTTP request at a time. Implement a multithreaded server\n",
        "that is capable of serving multiple requests simultaneously. Using threading, first create a main thread\n",
        "in which your modified server listens for clients at a fixed port. When it receives a TCP connection\n",
        "request from a client, it will set up the TCP connection through another port and services the client\n",
        "request in a separate thread. There will be a separate TCP connection in a separate thread for each\n",
        "request/response pair."
      ]
    },
    {
      "cell_type": "code",
      "execution_count": null,
      "metadata": {
        "id": "kfNmj-oU4Ujb"
      },
      "outputs": [
        {
          "name": "stdout",
          "output_type": "stream",
          "text": [
            "Multi-threaded server is running on port 12000...\n",
            "Ready to serve...\n",
            "GET /HelloWorld.html HTTP/1.1\n",
            "Host: 192.168.0.156:12000\n",
            "Connection: keep-alive\n",
            "Upgrade-Insecure-Requests: 1\n",
            "User-Agent: Mozilla/5.0 (Windows NT 10.0; Win64; x64) AppleWebKit/537.36 (KHTML, like Gecko) Chrome/131.0.0.0 Safari/537.36\n",
            "Accept: text/html,application/xhtml+xml,application/xml;q=0.9,image/avif,image/webp,image/apng,*/*;q=0.8,application/signed-exchange;v=b3;q=0.7\n",
            "Accept-Encoding: gzip, deflate\n",
            "Accept-Language: en-US,en;q=0.9\n",
            "\n",
            "Ready to serve...\n",
            "\n",
            "Ready to serve...\n",
            "Connection closed\n",
            "\n",
            "Empty or malformed HTTP request received.\n",
            "Connection closed\n",
            "Ready to serve...GET /Hello.html HTTP/1.1\n",
            "Host: 192.168.0.156:12000\n",
            "Connection: keep-alive\n",
            "Upgrade-Insecure-Requests: 1\n",
            "User-Agent: Mozilla/5.0 (Windows NT 10.0; Win64; x64) AppleWebKit/537.36 (KHTML, like Gecko) Chrome/131.0.0.0 Safari/537.36\n",
            "Accept: text/html,application/xhtml+xml,application/xml;q=0.9,image/avif,image/webp,image/apng,*/*;q=0.8,application/signed-exchange;v=b3;q=0.7\n",
            "Accept-Encoding: gzip, deflate\n",
            "Accept-Language: en-US,en;q=0.9\n",
            "\n",
            "\n",
            "\n",
            "Connection closed\n",
            "Ready to serve...\n",
            "\n",
            "Empty or malformed HTTP request received.\n",
            "Connection closed\n"
          ]
        }
      ],
      "source": [
        "from socket import *\n",
        "import sys \n",
        "from threading import Thread\n",
        "def client(connectionSocket, addr):\n",
        "    try:\n",
        "        message = connectionSocket.recv(1024).decode()\n",
        "        print(message)\n",
        "            \n",
        "        if not message or len(message.split()) < 2:\n",
        "            print(\"Empty or malformed HTTP request received.\")\n",
        "            connectionSocket.close()\n",
        "            return\n",
        "    \n",
        "        filename = message.split()[1]\n",
        "        f = open(filename[1:])\n",
        "        outputdata = f.read()\n",
        "        #Send one HTTP header line into socket\n",
        "        connectionSocket.send(\"HTTP/1.1 200 OK\\r\\n\\r\\n\".encode())\n",
        "        #Send the content of the requested file to the client\n",
        "        for i in range(0, len(outputdata)):\n",
        "            connectionSocket.send(outputdata[i].encode())\n",
        "        connectionSocket.send(\"\\r\\n\".encode())\n",
        "        connectionSocket.close()\n",
        "\n",
        "    except IOError:\n",
        "\t\t#Send response message for file not found\n",
        "        connectionSocket.send(\"HTTP/1.1 404 Not Found\\r\\n\\r\\n\".encode())\n",
        "        connectionSocket.send(\"<html><body><h1>404 Not Found</h1></body></html>\\r\\n\".encode())\n",
        "\t\t#Close client socket\n",
        "    finally:\n",
        "       connectionSocket.close()\n",
        "       print('Connection closed')\n",
        "    \n",
        "def start_server(serverPort = 12000):\n",
        "    serverSocket = socket(AF_INET, SOCK_STREAM)\n",
        "    serverSocket.bind((\"\", serverPort))\n",
        "    serverSocket.listen(1)\n",
        "    print(f\"Multi-threaded server is running on port {serverPort}...\")\n",
        "    try :\n",
        "        while True:\n",
        "            print ('Ready to serve...')\n",
        "            connectionSocket, addr = serverSocket.accept()\n",
        "            client_thread = Thread(target=client, args=(connectionSocket, addr))\n",
        "            client_thread.start()\n",
        "    except KeyboardInterrupt:\n",
        "        print(\"\\nServer shutting down...\")\n",
        "    finally:\n",
        "        serverSocket.close()\n",
        "        sys.exit()\n",
        "if __name__ == \"__main__\":\n",
        "    start_server()"
      ]
    },
    {
      "cell_type": "markdown",
      "metadata": {
        "id": "fPWGkQa-4lnY"
      },
      "source": [
        "# 3"
      ]
    },
    {
      "cell_type": "markdown",
      "metadata": {
        "id": "DIb-10dJ48fv"
      },
      "source": [
        "The Multi Thread Web Server is now set and working but cannot handle changes in the source files. How can we look for changes in the source directory and access it in your code ? Explore Libraries in python"
      ]
    },
    {
      "cell_type": "code",
      "execution_count": 4,
      "metadata": {
        "id": "qfTM-Pc-5Sqp"
      },
      "outputs": [
        {
          "name": "stdout",
          "output_type": "stream",
          "text": [
            "Collecting watchdog\n",
            "  Downloading watchdog-6.0.0-py3-none-win_amd64.whl.metadata (44 kB)\n",
            "Downloading watchdog-6.0.0-py3-none-win_amd64.whl (79 kB)\n",
            "Installing collected packages: watchdog\n",
            "Successfully installed watchdog-6.0.0\n"
          ]
        },
        {
          "name": "stderr",
          "output_type": "stream",
          "text": [
            "\n",
            "[notice] A new release of pip is available: 24.2 -> 24.3.1\n",
            "[notice] To update, run: python.exe -m pip install --upgrade pip\n"
          ]
        }
      ],
      "source": [
        "#we can use watchdog library.#\n",
        "!pip install watchdog\n"
      ]
    },
    {
      "cell_type": "markdown",
      "metadata": {
        "id": "w8Rqqcba490i"
      },
      "source": [
        "After you've accessed it in your code, Post a notification on the hosted http page to reload if any source directory changes"
      ]
    },
    {
      "cell_type": "code",
      "execution_count": null,
      "metadata": {
        "id": "3snO7j705TPd"
      },
      "outputs": [
        {
          "name": "stdout",
          "output_type": "stream",
          "text": [
            "Multi-threaded server is running on port 12000...\n",
            "Ready to serve...\n",
            "Ready to serve...\n",
            "Ready to serve...\n",
            "GET /HelloWorld.html HTTP/1.1\n",
            "Host: 172.23.43.79:12000\n",
            "Connection: keep-alive\n",
            "Upgrade-Insecure-Requests: 1\n",
            "User-Agent: Mozilla/5.0 (Windows NT 10.0; Win64; x64) AppleWebKit/537.36 (KHTML, like Gecko) Chrome/131.0.0.0 Safari/537.36\n",
            "Accept: text/html,application/xhtml+xml,application/xml;q=0.9,image/avif,image/webp,image/apng,*/*;q=0.8,application/signed-exchange;v=b3;q=0.7\n",
            "Accept-Encoding: gzip, deflate\n",
            "Accept-Language: en-US,en;q=0.9\n",
            "\n",
            "\n",
            "Serving file: c:/Users/dell/Desktop/github/EEA-Networking101_s/Week 3 - Web Server//HelloWorld.html\n",
            "Connection closed\n",
            "\n",
            "Empty or malformed HTTP request received.\n",
            "Connection closed\n",
            "File modified: c:/Users/dell/Desktop/github/EEA-Networking101_s/Week 3 - Web Server\\HelloWorld.html\n",
            "File modified: c:/Users/dell/Desktop/github/EEA-Networking101_s/Week 3 - Web Server\\HelloWorld.html\n",
            "File modified: c:/Users/dell/Desktop/github/EEA-Networking101_s/Week 3 - Web Server\\HelloWorld.html\n",
            "File modified: c:/Users/dell/Desktop/github/EEA-Networking101_s/Week 3 - Web Server\\HelloWorld.html\n",
            "Ready to serve...GET /HelloWorld.html HTTP/1.1\n",
            "Host: 172.23.43.79:12000\n",
            "Connection: keep-alive\n",
            "Cache-Control: max-age=0\n",
            "Upgrade-Insecure-Requests: 1\n",
            "User-Agent: Mozilla/5.0 (Windows NT 10.0; Win64; x64) AppleWebKit/537.36 (KHTML, like Gecko) Chrome/131.0.0.0 Safari/537.36\n",
            "Accept: text/html,application/xhtml+xml,application/xml;q=0.9,image/avif,image/webp,image/apng,*/*;q=0.8,application/signed-exchange;v=b3;q=0.7\n",
            "Accept-Encoding: gzip, deflate\n",
            "Accept-Language: en-US,en;q=0.9\n",
            "\n",
            "\n",
            "\n",
            "Ready to serve...\n",
            "Serving file: c:/Users/dell/Desktop/github/EEA-Networking101_s/Week 3 - Web Server//HelloWorld.html\n",
            "Connection closed\n",
            "\n",
            "Empty or malformed HTTP request received.\n",
            "Connection closed\n"
          ]
        }
      ],
      "source": [
        "from socket import \n",
        "import sys\n",
        "from threading import Thread\n",
        "from watchdog.observers import Observer\n",
        "from watchdog.events import FileSystemEventHandler\n",
        "import os\n",
        "\n",
        "# File Change Handler to detect file modifications\n",
        "class FileChangeHandler(FileSystemEventHandler):\n",
        "    def __init__(self, directory, server_script_name):\n",
        "        self.directory = directory\n",
        "        self.server_script_name = server_script_name\n",
        "\n",
        "    def on_modified(self, event):\n",
        "        if event.is_directory or event.src_path.endswith(self.server_script_name):\n",
        "            return\n",
        "        filepath = event.src_path\n",
        "        print(f\"File modified: {filepath}\")\n",
        "\n",
        "    def on_created(self, event):\n",
        "        if event.is_directory or event.src_path.endswith(self.server_script_name):\n",
        "            return\n",
        "        filepath = event.src_path\n",
        "        print(f\"File created: {filepath}\")\n",
        "\n",
        "# Client handler for each HTTP request\n",
        "def client(connectionSocket, addr):\n",
        "    try:\n",
        "        message = connectionSocket.recv(1024).decode()\n",
        "        print(message)\n",
        "\n",
        "        if not message or len(message.split()) < 2:\n",
        "            print(\"Empty or malformed HTTP request received.\")\n",
        "            connectionSocket.close()\n",
        "            return\n",
        "\n",
        "        filename = message.split()[1]\n",
        "        filepath = f\"{directory}/{filename}\"\n",
        "\n",
        "        # Check if the file exists and get the updated content\n",
        "        if os.path.exists(filepath):\n",
        "            with open(filepath, \"r\") as f:\n",
        "                outputdata = f.read()\n",
        "            print(f\"Serving file: {filepath}\")\n",
        "        else:\n",
        "            outputdata = \"<html><body><h1>404 Not Found</h1></body></html>\"\n",
        "            connectionSocket.send(\"HTTP/1.1 404 Not Found\\r\\n\\r\\n\".encode())\n",
        "            connectionSocket.send(outputdata.encode())\n",
        "            connectionSocket.close()\n",
        "            return\n",
        "\n",
        "        # Send HTTP response with the file content\n",
        "        connectionSocket.send(\"HTTP/1.1 200 OK\\r\\n\\r\\n\".encode())\n",
        "        connectionSocket.send(outputdata.encode())\n",
        "        connectionSocket.send(\"\\r\\n\".encode())\n",
        "\n",
        "    except IOError:\n",
        "        # Send response message for file not found\n",
        "        connectionSocket.send(\"HTTP/1.1 404 Not Found\\r\\n\\r\\n\".encode())\n",
        "        connectionSocket.send(\"<html><body><h1>404 Not Found</h1></body></html>\\r\\n\".encode())\n",
        "    finally:\n",
        "        connectionSocket.close()\n",
        "        print('Connection closed')\n",
        "\n",
        "# Start the web server\n",
        "def start_server(directory, serverPort=12000):\n",
        "    serverSocket = socket(AF_INET, SOCK_STREAM)\n",
        "    serverSocket.bind((\"\", serverPort))\n",
        "    serverSocket.listen(5)  # Listen for multiple connections\n",
        "    print(f\"Multi-threaded server is running on port {serverPort}...\")\n",
        "\n",
        "    # Watchdog Observer to monitor file changes\n",
        "    observer = Observer()\n",
        "    server_script_name = \"HTTP_Server.ipynb\"  # Prevent reloading the server script itself\n",
        "    event_handler = FileChangeHandler(directory, server_script_name)\n",
        "    observer.schedule(event_handler, directory, recursive=True)\n",
        "    observer.start()\n",
        "\n",
        "    try:\n",
        "        while True:\n",
        "            print('Ready to serve...')\n",
        "            connectionSocket, addr = serverSocket.accept()\n",
        "            client_thread = Thread(target=client, args=(connectionSocket, addr))\n",
        "            client_thread.start()\n",
        "    except KeyboardInterrupt:\n",
        "        print(\"\\nServer shutting down...\")\n",
        "    finally:\n",
        "        observer.stop()\n",
        "        observer.join()\n",
        "        serverSocket.close()\n",
        "        sys.exit()\n",
        "\n",
        "if __name__ == \"__main__\":\n",
        "    directory = \"c:/Users/dell/Desktop/github/EEA-Networking101_s/Week 3 - Web Server\"\n",
        "    start_server(directory)\n"
      ]
    },
    {
      "cell_type": "markdown",
      "metadata": {
        "id": "SGBG_63z4_rn"
      },
      "source": [
        "Your dynamic http server is now ready"
      ]
    },
    {
      "cell_type": "code",
      "execution_count": null,
      "metadata": {
        "id": "1yZNU0LW5T6n"
      },
      "outputs": [],
      "source": []
    }
  ],
  "metadata": {
    "colab": {
      "collapsed_sections": [
        "RzTpYLhf0GOZ",
        "5AGNNKK44X6S",
        "fPWGkQa-4lnY"
      ],
      "provenance": []
    },
    "kernelspec": {
      "display_name": "Python 3",
      "name": "python3"
    },
    "language_info": {
      "codemirror_mode": {
        "name": "ipython",
        "version": 3
      },
      "file_extension": ".py",
      "mimetype": "text/x-python",
      "name": "python",
      "nbconvert_exporter": "python",
      "pygments_lexer": "ipython3",
      "version": "3.12.7"
    }
  },
  "nbformat": 4,
  "nbformat_minor": 0
}
