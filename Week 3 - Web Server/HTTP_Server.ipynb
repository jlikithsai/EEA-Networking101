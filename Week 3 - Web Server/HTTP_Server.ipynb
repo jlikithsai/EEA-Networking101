{
  "cells": [
    {
      "cell_type": "markdown",
      "metadata": {
        "id": "c8CHcu3q5FE4"
      },
      "source": [
        "# **Web Server Assigment**"
      ]
    },
    {
      "cell_type": "markdown",
      "metadata": {
        "id": "RzTpYLhf0GOZ"
      },
      "source": [
        "# 1\n",
        "\n",
        "\n"
      ]
    },
    {
      "cell_type": "markdown",
      "metadata": {
        "id": "c2zLL7vK5tte"
      },
      "source": [
        "## Overview\n",
        "In this assignment, you will explore the fundamentals of socket programming for TCP connections in Python. You will learn how to create a socket, bind it to a specific address and port, and send and receive HTTP packets. Additionally, you will gain an understanding of the basic structure of HTTP header formats.\n",
        "\n",
        "Your task is to develop a web server that processes one HTTP request at a time. The web server should:\n",
        "\n",
        "1. Accept and parse the incoming HTTP request.\n",
        "2. Retrieve the requested file from the server’s file system.\n",
        "3. Construct an HTTP response message comprising the requested file preceded by appropriate header lines.\n",
        "4. Send the response directly to the client.\n",
        "\n",
        "If the requested file is not found on the server, the web server must return an HTTP \"404 Not Found\" message to the client."
      ]
    },
    {
      "cell_type": "markdown",
      "metadata": {
        "id": "EV5Zl1ad5w7p"
      },
      "source": [
        "## Code\n",
        "Below is a skeleton code for the web server. Your task is to complete the code. The sections where you need to add your implementation are marked with `#-----#`. Some sections may require multiple lines of code."
      ]
    },
    {
      "cell_type": "markdown",
      "metadata": {
        "id": "GwYenthY557w"
      },
      "source": [
        "## Running the Server\n",
        "1. Place an HTML file (e.g., `HelloWorld.html`) in the same directory as the server program.\n",
        "2. Execute the server program.\n",
        "3. Determine the IP address of the machine running the server (e.g., `128.238.251.26`).\n",
        "4. From a different machine or the same machine, open a web browser and navigate to the URL corresponding to the server. For example:\n",
        "   ```\n",
        "   http://128.238.251.26:6789/HelloWorld.html\n",
        "   ```\n",
        "   In this example, `HelloWorld.html` is the name of the HTML file you placed in the server directory. Note the port number `6789` used after the colon. Replace this port number with the one configured in your server code.\n",
        "\n",
        "5. The browser should display the contents of `HelloWorld.html`. If the port number is omitted (e.g., `http://128.238.251.26/HelloWorld.html`), the browser will default to port 80. In this case, ensure your server is listening on port 80.\n",
        "6. Test requesting a file that is not present on the server. You should receive a \"404 Not Found\" message in the browser.\n"
      ]
    },
    {
      "cell_type": "markdown",
      "metadata": {
        "id": "wg4Mrtkp52At"
      },
      "source": [
        "## What to Submit\n",
        "Submit the following items:\n",
        "\n",
        "1. The complete server code.\n",
        "2. Screenshots of your client browser demonstrating:\n",
        "   - Successful retrieval of the HTML file content from the server.\n",
        "   - Receiving a \"404 Not Found\" message for a non-existent file.\n",
        "\n",
        "---"
      ]
    },
    {
      "cell_type": "markdown",
      "metadata": {},
      "source": []
    },
    {
      "cell_type": "code",
      "execution_count": null,
      "metadata": {},
      "outputs": [],
      "source": [
        "#import socket module\n",
        "from socket import *\n",
        "import sys  # In order to terminate the program\n",
        "\n",
        "serverPort = 12000\n",
        "serverSocket = socket(AF_INET, SOCK_STREAM)\n",
        "serverSocket.bind((\"\", serverPort))\n",
        "serverSocket.listen(True)\n",
        "# Prepare a server socket\n",
        "#_________#\n",
        "print('Ready to serve...')\n",
        "while True:\n",
        "    # Establish the connection\n",
        "    print('Ready to serve...')\n",
        "    connectionSocket, addr = serverSocket.accept()\n",
        "    try:\n",
        "        message = connectionSocket.recv(1024).decode()\n",
        "        print(message)\n",
        "        filename = message.split()[1]\n",
        "        f = open(filename[1:])\n",
        "        outputdata = f.read()\n",
        "        # Send one HTTP header line into socket\n",
        "        connectionSocket.send(\"HTTP/1.1 200 OK\\r\\n\\r\\n\".encode())\n",
        "        # Send the content of the requested file to the client\n",
        "        for i in range(0, len(outputdata)):\n",
        "            connectionSocket.send(outputdata[i].encode())\n",
        "        connectionSocket.send(\"\\r\\n\".encode())\n",
        "\n",
        "        connectionSocket.close()\n",
        "    except IOError:\n",
        "        # Send response message for file not found\n",
        "        connectionSocket.send(\"HTTP/1.1 404 Not Found\\r\\n\\r\\n\".encode())\n",
        "        connectionSocket.send(\"<html><body><h1>404 Not Found</h1></body></html>\\r\\n\".encode())\n",
        "        # Close client socket\n",
        "        connectionSocket.close()\n",
        "\n",
        "serverSocket.close()\n",
        "sys.exit()  # Terminate the program after sending the corresponding data"
      ]
    },
    {
      "cell_type": "markdown",
      "metadata": {
        "id": "5AGNNKK44X6S"
      },
      "source": [
        "# 2"
      ]
    },
    {
      "cell_type": "markdown",
      "metadata": {
        "id": "rah3P4915mCw"
      },
      "source": [
        "Currently, the web server handles only one HTTP request at a time. Implement a multithreaded server\n",
        "that is capable of serving multiple requests simultaneously. Using threading, first create a main thread\n",
        "in which your modified server listens for clients at a fixed port. When it receives a TCP connection\n",
        "request from a client, it will set up the TCP connection through another port and services the client\n",
        "request in a separate thread. There will be a separate TCP connection in a separate thread for each\n",
        "request/response pair."
      ]
    },
    {
      "cell_type": "code",
      "execution_count": null,
      "metadata": {},
      "outputs": [],
      "source": []
    },
    {
      "cell_type": "markdown",
      "metadata": {},
      "source": [
        "(1)Server Socket Setup:\n",
        "The main thread creates a server socket, binds it to a port (default: 12000), and listens for incoming connections.\n",
        "\n",
        "(2)Multithreading with threading:\n",
        "Each client request is handled in a separate thread by the handle_client function.\n",
        "The Thread object is created and started for each new client connection.\n",
        "\n",
        "(3)Thread Safety:\n",
        "Each thread independently handles its respective client request, ensuring multiple clients can be served simultaneously.\n",
        "\n",
        "(4)Error Handling:\n",
        "The handle_client function uses try-except blocks to handle file-not-found errors (IOError) and send a 404 Not Found response to the client.\n",
        "\n",
        "(5)TCP Connection:\n",
        "A new TCP connection is established for each client request/response pair."
      ]
    },
    {
      "cell_type": "markdown",
      "metadata": {
        "id": "fPWGkQa-4lnY"
      },
      "source": [
        "# 3"
      ]
    },
    {
      "cell_type": "markdown",
      "metadata": {
        "id": "DIb-10dJ48fv"
      },
      "source": [
        "The Multi Thread Web Server is now set and working but cannot handle changes in the source files. How can we look for changes in the source directory and access it in your code ? Explore Libraries in python"
      ]
    },
    {
      "cell_type": "code",
      "execution_count": null,
      "metadata": {
        "id": "qfTM-Pc-5Sqp"
      },
      "outputs": [],
      "source": []
    },
    {
      "cell_type": "markdown",
      "metadata": {},
      "source": [
        "To monitor changes in the source files or directory dynamically, use the watchdog library in Python. This library allows you to track file system events, such as modifications, creations, deletions, and more, in real time.\n",
        "\n",
        "(1)Directory Monitoring:\n",
        "The watchdog library's Observer continuously monitors the specified directory for changes.\n",
        "When a file is created, modified, or deleted, the corresponding handler method is triggered.\n",
        "\n",
        "(2)Dynamic Updates:\n",
        "The server now tracks changes in the directory.\n",
        "The updated_files set stores modified or created files, which you can use to implement further logic, like preloading or caching updated files.\n",
        "\n",
        "(3)Multithreading Compatibility:\n",
        "The Observer runs in a separate thread, so it does not block the main server logic.\n",
        "Client requests are still handled concurrently.\n",
        "\n",
        "(4)Graceful Shutdown:\n",
        "On a KeyboardInterrupt, the Observer is stopped and joined to ensure no leftover threads.\n"
      ]
    },
    {
      "cell_type": "markdown",
      "metadata": {
        "id": "w8Rqqcba490i"
      },
      "source": [
        "After you've accessed it in your code, Post a notification on the hosted http page to reload if any source directory changes"
      ]
    },
    {
      "cell_type": "code",
      "execution_count": null,
      "metadata": {
        "id": "3snO7j705TPd"
      },
      "outputs": [],
      "source": []
    },
    {
      "cell_type": "markdown",
      "metadata": {},
      "source": [
        "To notify clients about changes in the source directory and prompt them to reload, we can implement the following strategy:\n",
        "\n",
        "(1)Global Change Tracking:\n",
        "Use a global flag or counter to track changes in the source directory.\n",
        "When a file is modified, the counter or flag will update.\n",
        "\n",
        "(2)Embed Notification Script:\n",
        "Use a simple HTML page with a JavaScript snippet to poll the server for changes.\n",
        "When the server detects a change, it will respond to the client, prompting a reload.\n",
        "\n",
        "(3)Integration with watchdog:\n",
        "Update the global change counter or flag whenever a file is modified or created."
      ]
    },
    {
      "cell_type": "markdown",
      "metadata": {
        "id": "SGBG_63z4_rn"
      },
      "source": [
        "Your dynamic http server is now ready"
      ]
    },
    {
      "cell_type": "code",
      "execution_count": null,
      "metadata": {
        "id": "1yZNU0LW5T6n"
      },
      "outputs": [],
      "source": []
    }
  ],
  "metadata": {
    "colab": {
      "collapsed_sections": [
        "RzTpYLhf0GOZ",
        "5AGNNKK44X6S",
        "fPWGkQa-4lnY"
      ],
      "provenance": []
    },
    "kernelspec": {
      "display_name": "Python 3",
      "name": "python3"
    },
    "language_info": {
      "name": "python"
    }
  },
  "nbformat": 4,
  "nbformat_minor": 0
}
