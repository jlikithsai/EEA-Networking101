{
 "cells": [
  {
   "cell_type": "markdown",
   "metadata": {},
   "source": [
    "# Multi Threading \n",
    "In a multithreaded socket server, each client is handled in a separate thread, allowing the server to manage multiple clients simultaneously. This prevents one client's operations from blocking others.\n",
    "\n",
    "## Implement the server in Socket calculator assignment in Multithread method "
   ]
  },
  {
   "cell_type": "code",
   "execution_count": null,
   "metadata": {},
   "outputs": [],
   "source": [
    "import socket\n",
    "import operator\n",
    "from threading import Thread\n",
    "\n",
    "operations = {\n",
    "    \"+\": operator.add,\n",
    "    \"-\": operator.sub,\n",
    "    \"*\": operator.mul,\n",
    "    \"/\": operator.truediv,  \n",
    "    \"%\": operator.mod,\n",
    "}\n",
    "\n",
    "def handle_client(client_socket, client_address):\n",
    "    print(f\"Connected with {client_address}\")\n",
    "    client_socket.send(bytes(\"You are connected to the Calculator Server!\", 'utf-8'))\n",
    "    \n",
    "    while True:\n",
    "        command = client_socket.recv(1024).decode()\n",
    "        if not command:  \n",
    "            print(f\"Client {client_address} disconnected.\")\n",
    "            break\n",
    "        \n",
    "        words = command.split() \n",
    "        operator_found = None\n",
    "        arg1 = arg2 = None\n",
    "        \n",
    "        for word in words:\n",
    "            if word in operations:\n",
    "                operator_found = word\n",
    "            elif word.isdigit():\n",
    "                if arg1 is None:\n",
    "                    arg1 = int(word)\n",
    "                elif arg2 is None:\n",
    "                    arg2 = int(word)\n",
    "        \n",
    "        if operator_found and arg1 is not None and arg2 is not None:\n",
    "            try:\n",
    "                result = operations[operator_found](arg1, arg2)\n",
    "                client_socket.send(bytes(f\"The result is: {result}\", 'utf-8'))\n",
    "            except Exception as e:\n",
    "                client_socket.send(bytes(f\"Error: {str(e)}\", 'utf-8'))\n",
    "        else:\n",
    "            client_socket.send(bytes(\"Error: Invalid input. Please send a valid expression (e.g., '3 + 4').\", 'utf-8'))\n",
    "    \n",
    "    client_socket.close()\n",
    "\n",
    "def main():\n",
    "    server_socket = socket.socket(socket.AF_INET, socket.SOCK_STREAM)\n",
    "    server_socket.bind(('127.0.0.1', 8080))\n",
    "    server_socket.listen(5) \n",
    "    print(\"Server is running and listening for connections...\")\n",
    "    \n",
    "    while True:\n",
    "        client_socket, client_address = server_socket.accept()\n",
    "        \n",
    "        client_thread = Thread(target=handle_client, args=(client_socket, client_address))\n",
    "        client_thread.start()\n",
    "\n",
    "if __name__ == \"__main__\":\n",
    "    main()\n"
   ]
  },
  {
   "cell_type": "code",
   "execution_count": null,
   "metadata": {},
   "outputs": [],
   "source": []
  }
 ],
 "metadata": {
  "kernelspec": {
   "display_name": "Python 3 (ipykernel)",
   "language": "python",
   "name": "python3"
  },
  "language_info": {
   "codemirror_mode": {
    "name": "ipython",
    "version": 3
   },
   "file_extension": ".py",
   "mimetype": "text/x-python",
   "name": "python",
   "nbconvert_exporter": "python",
   "pygments_lexer": "ipython3",
   "version": "3.12.5"
  }
 },
 "nbformat": 4,
 "nbformat_minor": 4
}
