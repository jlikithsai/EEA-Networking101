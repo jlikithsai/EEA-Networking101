{
 "cells": [
  {
   "cell_type": "markdown",
   "metadata": {},
   "source": [
    "# Create a Calculator server using socket programming \n",
    " The Server should take string input from the client and use this input and perform the required operation and return the value as an integer \n",
    " <br>\n",
    "Ex : \n",
    "- Client Says \"Please calculate 2*4\" the server should return \"8\" \n",
    "- The Client could as say \"Cal 2*4\" and the server should return \"8\" \n",
    "- The client could say \"Add 2+4\" and the server should return \"6\"\n",
    "> Look for the operator in the string and check for integers preceding and following the operator"
   ]
  },
  {
   "cell_type": "markdown",
   "metadata": {},
   "source": [
    "# Server Code\n",
    "- Create a Socket at 127.0.0.1 or any other IP and some port no Ex :  8080"
   ]
  },
  {
   "cell_type": "code",
   "execution_count": null,
   "metadata": {},
   "outputs": [],
   "source": [
    "import socket\n",
    "import operator\n",
    "import re\n",
    "\n",
    "operations = {\n",
    "    \"+\": operator.add,\n",
    "    \"-\": operator.sub,\n",
    "    \"*\": operator.mul,\n",
    "    \"/\": operator.truediv,  \n",
    "    \"%\": operator.mod,\n",
    "}\n",
    "\n",
    "s = socket.socket()\n",
    "print(\"Socket Created\")\n",
    "\n",
    "s.bind(('127.0.0.1', 8080))\n",
    "s.listen(2)\n",
    "\n",
    "while True:\n",
    "    c, addr = s.accept()\n",
    "    c.send(bytes(\"You are connected\\n\", 'utf-8'))\n",
    "    print(\"Connected with\", addr)\n",
    "    \n",
    "    command = c.recv(1024).decode()\n",
    "    \n",
    "    match = re.search(r'(\\d+)\\s*([+\\-*/%])\\s*(\\d+)', command)\n",
    "    if match:\n",
    "        arg1 = int(match.group(1))  \n",
    "        operator = match.group(2) \n",
    "        arg2 = int(match.group(3)) \n",
    "        \n",
    "        result = operations[operator](arg1, arg2)\n",
    "        \n",
    "        c.send(bytes(f\"The result is: {result}\", 'utf-8'))\n",
    "    else:\n",
    "        c.send(bytes(\"Error: Could not parse the input. Please send a valid expression like '3 + 4'.\", 'utf-8'))\n",
    "    \n",
    "    c.close()\n"
   ]
  },
  {
   "cell_type": "markdown",
   "metadata": {},
   "source": [
    "# Client Code \n",
    "# ===========\n",
    "- Use a Separate file for this as 2 cells can't simultaneously run in a Python Notebook \n",
    "- The Client must connect to the sever at this socket \n",
    "- Take input from Serial Monitor and send it to server "
   ]
  },
  {
   "cell_type": "code",
   "execution_count": null,
   "metadata": {},
   "outputs": [],
   "source": [
    "import socket\n",
    "\n",
    "c = socket.socket()\n",
    "\n",
    "c.connect(('127.0.0.1',8080))\n",
    "command = input(\"Enter your command: \")\n",
    "c.send(bytes(command, 'utf-8'))\n",
    "print(c.recv(1024).decode())\n",
    "print(c.recv(1024).decode())"
   ]
  },
  {
   "cell_type": "markdown",
   "metadata": {},
   "source": [
    "# Try running 2 client python file separately in 2 terminals \n",
    "- What happens to the output ?\n",
    "- It connects to the second one after closing first one."
   ]
  },
  {
   "cell_type": "code",
   "execution_count": null,
   "metadata": {},
   "outputs": [],
   "source": []
  }
 ],
 "metadata": {
  "kernelspec": {
   "display_name": "Python 3 (ipykernel)",
   "language": "python",
   "name": "python3"
  },
  "language_info": {
   "codemirror_mode": {
    "name": "ipython",
    "version": 3
   },
   "file_extension": ".py",
   "mimetype": "text/x-python",
   "name": "python",
   "nbconvert_exporter": "python",
   "pygments_lexer": "ipython3",
   "version": "3.12.5"
  }
 },
 "nbformat": 4,
 "nbformat_minor": 4
}
