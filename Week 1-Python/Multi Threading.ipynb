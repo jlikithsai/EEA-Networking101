{
 "cells": [
  {
   "cell_type": "markdown",
   "metadata": {},
   "source": [
    "# Multi Threading \n",
    "In a multithreaded socket server, each client is handled in a separate thread, allowing the server to manage multiple clients simultaneously. This prevents one client's operations from blocking others.\n",
    "\n",
    "## Implement the server in Socket calculator assignment in Multithread method "
   ]
  },
  {
   "cell_type": "code",
   "execution_count": null,
   "metadata": {},
   "outputs": [],
   "source": [
    "import socket\n",
    "import re\n",
    "from threading import Thread\n",
    "def calculation(data):\n",
    "    match = re.search(r'(\\d+)\\s*([\\+\\-\\*\\/])\\s*(\\d+)', data)\n",
    "    if match:\n",
    "        num1 = match.group(1)\n",
    "        operation = match.group(2)\n",
    "        num2 = match.group(3)\n",
    "        if operation == '/' and num2=='0':\n",
    "            return f\"Not defined\"\n",
    "        else :\n",
    "            data = eval(f'{num1}{operation}{num2}')\n",
    "            return data\n",
    "    else:\n",
    "        return f\"Input correct operation\"\n",
    "\n",
    "def handle_client(conn,addr):\n",
    "        with conn:\n",
    "            print(f\"Connected by {addr}\")\n",
    "            while True:\n",
    "                data = conn.recv(1024).decode('utf-8')\n",
    "                if not data:\n",
    "                    print(f\"Connection with {addr} closed\")\n",
    "                    break\n",
    "                result = calculation(data)\n",
    "                conn.send(str(result).encode('utf-8'))\n",
    "            \n",
    "HOST = \"127.0.0.1\"\n",
    "PORT = 8080\n",
    "\n",
    "with socket.socket(socket.AF_INET, socket.SOCK_STREAM) as s:\n",
    "    s.bind((HOST,PORT))\n",
    "    s.listen()\n",
    "    print(f'Server listening on {HOST}:{PORT}')\n",
    "    while(True):\n",
    "        conn, addr = s.accept()\n",
    "        client_thread = Thread(target=handle_client, args=(conn, addr))\n",
    "        client_thread.start()\n",
    "\n"
   ]
  },
  {
   "cell_type": "code",
   "execution_count": null,
   "metadata": {},
   "outputs": [],
   "source": [
    "import socket\n",
    "HOST = \"127.0.0.1\"\n",
    "PORT = 8080\n",
    "\n",
    "with socket.socket(socket.AF_INET, socket.SOCK_STREAM) as s:\n",
    "    s.connect((HOST, PORT))\n",
    "    while True:\n",
    "        calculate = input(\"Enter a calculation or type exit to quit\")\n",
    "        if calculate.lower() == 'exit':\n",
    "            print(\"Closing Connection\")\n",
    "            break\n",
    "        s.sendall(calculate.encode('utf-8'))\n",
    "        value = s.recv(1024).decode('utf-8')\n",
    "        print(f\"{value}\")\n",
    "\n"
   ]
  }
 ],
 "metadata": {
  "language_info": {
   "name": "python"
  }
 },
 "nbformat": 4,
 "nbformat_minor": 2
}
