{
 "cells": [
  {
   "cell_type": "markdown",
   "metadata": {},
   "source": [
    "# Multi Threading \n",
    "In a multithreaded socket server, each client is handled in a separate thread, allowing the server to manage multiple clients simultaneously. This prevents one client's operations from blocking others.\n",
    "\n",
    "## Implement the server in Socket calculator assignment in Multithread method "
   ]
  },
  {
   "cell_type": "code",
   "execution_count": null,
   "metadata": {},
   "outputs": [
    {
     "name": "stdout",
     "output_type": "stream",
     "text": [
      "Server listening on 127.0.0.1:9999\n"
     ]
    }
   ],
   "source": [
    "import socket\n",
    "import threading\n",
    "\n",
    "def handle_client(client_socket):\n",
    "    try:\n",
    "        while True:\n",
    "            data = client_socket.recv(1024).decode()\n",
    "            if not data:\n",
    "                break\n",
    "            \n",
    "            print(f\"Received: {data}\")\n",
    "            response = calculate(data)\n",
    "            client_socket.send(response.encode())\n",
    "    except:\n",
    "        print(\"Client disconnected\")\n",
    "    finally:\n",
    "        client_socket.close()\n",
    "\n",
    "def calculate(expression):\n",
    "    try:\n",
    "        result = eval(expression)\n",
    "        return str(result)\n",
    "    except Exception as e:\n",
    "        return f\"Error: {str(e)}\"\n",
    "\n",
    "def start_server(host, port):\n",
    "    server = socket.socket(socket.AF_INET, socket.SOCK_STREAM)\n",
    "    server.bind((host, port))\n",
    "    server.listen(5)\n",
    "    print(f\"Server listening on {host}:{port}\")\n",
    "    \n",
    "    while True:\n",
    "        client_socket, addr = server.accept()\n",
    "        print(f\"Accepted connection from {addr}\")\n",
    "        client_handler = threading.Thread(target=handle_client, args=(client_socket,))\n",
    "        client_handler.start()\n",
    "\n",
    "if __name__ == \"__main__\":\n",
    "    HOST, PORT = \"127.0.0.1\", 9999\n",
    "    start_server(HOST, PORT)\n"
   ]
  },
  {
   "cell_type": "code",
   "execution_count": null,
   "metadata": {},
   "outputs": [],
   "source": [
    "import socket\n",
    "\n",
    "def start_client(host, port):\n",
    "    client = socket.socket(socket.AF_INET, socket.SOCK_STREAM)\n",
    "    client.connect((host, port))\n",
    "\n",
    "    try:\n",
    "        while True:\n",
    "            expression = input(\"Enter a mathematical expression (or 'exit' to quit): \")\n",
    "            if expression.lower() == 'exit':\n",
    "                break\n",
    "            client.send(expression.encode())\n",
    "            response = client.recv(1024).decode()\n",
    "            print(f\"Result: {response}\")\n",
    "    except:\n",
    "        print(\"Disconnected from server\")\n",
    "    finally:\n",
    "        client.close()\n",
    "\n",
    "if __name__ == \"__main__\":\n",
    "    HOST, PORT = \"127.0.0.1\", 9999\n",
    "    start_client(HOST, PORT)"
   ]
  },
  {
   "cell_type": "code",
   "execution_count": null,
   "metadata": {},
   "outputs": [],
   "source": []
  }
 ],
 "metadata": {
  "kernelspec": {
   "display_name": "base",
   "language": "python",
   "name": "python3"
  },
  "language_info": {
   "codemirror_mode": {
    "name": "ipython",
    "version": 3
   },
   "file_extension": ".py",
   "mimetype": "text/x-python",
   "name": "python",
   "nbconvert_exporter": "python",
   "pygments_lexer": "ipython3",
   "version": "3.11.5"
  }
 },
 "nbformat": 4,
 "nbformat_minor": 2
}
