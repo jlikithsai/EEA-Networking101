{
 "cells": [
  {
   "cell_type": "markdown",
   "metadata": {},
   "source": [
    "# Multi Threading \n",
    "In a multithreaded socket server, each client is handled in a separate thread, allowing the server to manage multiple clients simultaneously. This prevents one client's operations from blocking others.\n",
    "\n",
    "## Implement the server in Socket calculator assignment in Multithread method "
   ]
  },
  {
   "cell_type": "code",
   "execution_count": null,
   "metadata": {},
   "outputs": [],
   "source": [
    "import socket\n",
    "import re\n",
    "import threading\n",
    "\n",
    "server_socket = socket.socket(socket.AF_INET, socket.SOCK_STREAM)\n",
    "server_socket.bind((\"127.0.0.1\", 8080)) \n",
    "server_socket.listen()\n",
    "\n",
    "def calculate_expression(input_str):\n",
    "    match = re.search(r\"(\\d+)\\s*([\\+\\-\\*/])\\s*(\\d+)\", input_str)\n",
    "    if match:\n",
    "        num1, operator, num2 = match.groups()\n",
    "        num1, num2 = int(num1), int(num2)\n",
    "\n",
    "        if operator == '+':\n",
    "            return num1 + num2\n",
    "        elif operator == '-':\n",
    "            return num1 - num2\n",
    "        elif operator == '*':\n",
    "            return num1 * num2\n",
    "        elif operator == '/':\n",
    "            return num1 // num2 if num2 != 0 else \"Error: Division by zero\"\n",
    "    else:\n",
    "        return \"Error: Invalid input format\"\n",
    "\n",
    "def handle_client(client_socket, client_address):\n",
    "    \n",
    "    # Receive data from client\n",
    "    client_data = client_socket.recv(1024).decode('utf-8').lower()\n",
    "   \n",
    "    \n",
    "    # Identify and calculate the operation\n",
    "    if \"add\" in client_data or \"+\" in client_data:\n",
    "        result = calculate_expression(client_data)\n",
    "    elif \"subtract\" in client_data or \"-\" in client_data:\n",
    "        result = calculate_expression(client_data)\n",
    "    elif \"multiply\" in client_data or \"*\" in client_data:\n",
    "        result = calculate_expression(client_data)\n",
    "    elif \"divide\" in client_data or \"/\" in client_data:\n",
    "        result = calculate_expression(client_data)\n",
    "    else:\n",
    "        result = \"Error: Unsupported operation or invalid format\"\n",
    "\n",
    "    # Send result back to the client\n",
    "    client_socket.send(str(result).encode('utf-8'))\n",
    "    client_socket.close()\n",
    "    \n",
    "\n",
    "# Accept connections and process client requests\n",
    "\n",
    "while True:\n",
    "    client_socket, client_address = server_socket.accept()\n",
    "    \n",
    "    \n",
    "    client_thread = threading.Thread(target=handle_client, args=(client_socket, client_address))\n",
    "    client_thread.start()\n"
   ]
  },
  {
   "cell_type": "code",
   "execution_count": null,
   "metadata": {},
   "outputs": [],
   "source": []
  }
 ],
 "metadata": {
  "language_info": {
   "name": "python"
  }
 },
 "nbformat": 4,
 "nbformat_minor": 2
}
