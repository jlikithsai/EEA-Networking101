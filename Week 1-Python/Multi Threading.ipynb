{
 "cells": [
  {
   "cell_type": "markdown",
   "metadata": {},
   "source": [
    "# Multi Threading \n",
    "In a multithreaded socket server, each client is handled in a separate thread, allowing the server to manage multiple clients simultaneously. This prevents one client's operations from blocking others.\n",
    "\n",
    "## Implement the server in Socket calculator assignment in Multithread method "
   ]
  },
  {
   "cell_type": "code",
   "execution_count": null,
   "metadata": {},
   "outputs": [
    {
     "name": "stdout",
     "output_type": "stream",
     "text": [
      "Server is listening on 127.0.0.1:8080...\n",
      "Connected by ('127.0.0.1', 54222)\n",
      "Connection with ('127.0.0.1', 54222) closed\n"
     ]
    }
   ],
   "source": [
    "import socket\n",
    "import threading\n",
    "import re\n",
    "\n",
    "def calci(expression):\n",
    "    match = re.search(r'(\\d+)\\s*([\\+\\-\\*/])\\s*(\\d+)', expression)\n",
    "    if not match:\n",
    "        return \"Invalid expression\"\n",
    "    \n",
    "    num1, sign, num2 = match.groups()\n",
    "    num1, num2 = int(num1), int(num2)\n",
    "    \n",
    "    if sign == '+':\n",
    "        return str(num1 + num2)\n",
    "    elif sign == '-':\n",
    "        return str(num1 - num2)\n",
    "    elif sign == '*':\n",
    "        return str(num1 * num2)\n",
    "    elif sign == '/':\n",
    "        if num2 == 0:\n",
    "            return \"Division by zero\"\n",
    "        return str(num1 / num2)\n",
    "    else:\n",
    "        return \"Invalid operation\"\n",
    "\n",
    "def handle_client(conn, addr):\n",
    "    print(f\"Connected by {addr}\")\n",
    "    with conn:\n",
    "        while True:\n",
    "            data = conn.recv(1024)\n",
    "            if not data:\n",
    "                break\n",
    "            ans = calci(data.decode())\n",
    "            conn.sendall(ans.encode())\n",
    "    print(f\"Connection with {addr} closed\")\n",
    "\n",
    "\n",
    "with socket.socket(socket.AF_INET, socket.SOCK_STREAM) as s:\n",
    "        s.bind(('127.0.0.1', 8080))\n",
    "        s.listen()\n",
    "        print(\"Server is listening on 127.0.0.1:8080...\")\n",
    "        while True:\n",
    "            conn, addr = s.accept()\n",
    "            client_thread = threading.Thread(target=handle_client, args=(conn, addr))\n",
    "            client_thread.start()\n",
    "\n"
   ]
  },
  {
   "cell_type": "code",
   "execution_count": null,
   "metadata": {},
   "outputs": [],
   "source": []
  }
 ],
 "metadata": {
  "kernelspec": {
   "display_name": "Python 3",
   "language": "python",
   "name": "python3"
  },
  "language_info": {
   "codemirror_mode": {
    "name": "ipython",
    "version": 3
   },
   "file_extension": ".py",
   "mimetype": "text/x-python",
   "name": "python",
   "nbconvert_exporter": "python",
   "pygments_lexer": "ipython3",
   "version": "3.12.2"
  }
 },
 "nbformat": 4,
 "nbformat_minor": 2
}
