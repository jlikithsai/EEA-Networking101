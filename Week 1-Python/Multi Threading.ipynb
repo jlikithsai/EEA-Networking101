{
 "cells": [
  {
   "cell_type": "markdown",
   "metadata": {},
   "source": [
    "# Multi Threading \n",
    "In a multithreaded socket server, each client is handled in a separate thread, allowing the server to manage multiple clients simultaneously. This prevents one client's operations from blocking others.\n",
    "\n",
    "## Implement the server in Socket calculator assignment in Multithread method "
   ]
  },
  {
   "cell_type": "code",
   "execution_count": 2,
   "metadata": {},
   "outputs": [
    {
     "name": "stdout",
     "output_type": "stream",
     "text": [
      "Server listening on 127.0.0.1:65432...\n",
      "Connected by ('127.0.0.1', 55714)\n",
      "Received expression from ('127.0.0.1', 55714): 1+22\n",
      "Connected by ('127.0.0.1', 55717)\n",
      "Received expression from ('127.0.0.1', 55717): 1+2233\n",
      "Received expression from ('127.0.0.1', 55717): 222+3333\n",
      "Received expression from ('127.0.0.1', 55717): 222+333\n",
      "Received expression from ('127.0.0.1', 55717): 22+44 is what is\n",
      "Received expression from ('127.0.0.1', 55717): who is 1+4\n"
     ]
    },
    {
     "ename": "KeyboardInterrupt",
     "evalue": "",
     "output_type": "error",
     "traceback": [
      "\u001b[0;31m---------------------------------------------------------------------------\u001b[0m",
      "\u001b[0;31mKeyboardInterrupt\u001b[0m                         Traceback (most recent call last)",
      "Cell \u001b[0;32mIn[2], line 52\u001b[0m\n\u001b[1;32m     49\u001b[0m             client_thread\u001b[38;5;241m.\u001b[39mstart()\n\u001b[1;32m     51\u001b[0m \u001b[38;5;28;01mif\u001b[39;00m \u001b[38;5;18m__name__\u001b[39m \u001b[38;5;241m==\u001b[39m \u001b[38;5;124m\"\u001b[39m\u001b[38;5;124m__main__\u001b[39m\u001b[38;5;124m\"\u001b[39m:\n\u001b[0;32m---> 52\u001b[0m     \u001b[43mstart_server\u001b[49m\u001b[43m(\u001b[49m\u001b[43m)\u001b[49m\n",
      "Cell \u001b[0;32mIn[2], line 47\u001b[0m, in \u001b[0;36mstart_server\u001b[0;34m(host, port)\u001b[0m\n\u001b[1;32m     44\u001b[0m \u001b[38;5;28mprint\u001b[39m(\u001b[38;5;124mf\u001b[39m\u001b[38;5;124m\"\u001b[39m\u001b[38;5;124mServer listening on \u001b[39m\u001b[38;5;132;01m{\u001b[39;00mhost\u001b[38;5;132;01m}\u001b[39;00m\u001b[38;5;124m:\u001b[39m\u001b[38;5;132;01m{\u001b[39;00mport\u001b[38;5;132;01m}\u001b[39;00m\u001b[38;5;124m...\u001b[39m\u001b[38;5;124m\"\u001b[39m)\n\u001b[1;32m     46\u001b[0m \u001b[38;5;28;01mwhile\u001b[39;00m \u001b[38;5;28;01mTrue\u001b[39;00m:\n\u001b[0;32m---> 47\u001b[0m     conn, addr \u001b[38;5;241m=\u001b[39m \u001b[43mserver_socket\u001b[49m\u001b[38;5;241;43m.\u001b[39;49m\u001b[43maccept\u001b[49m\u001b[43m(\u001b[49m\u001b[43m)\u001b[49m\n\u001b[1;32m     48\u001b[0m     client_thread \u001b[38;5;241m=\u001b[39m threading\u001b[38;5;241m.\u001b[39mThread(target\u001b[38;5;241m=\u001b[39mhandle_client, args\u001b[38;5;241m=\u001b[39m(conn, addr))\n\u001b[1;32m     49\u001b[0m     client_thread\u001b[38;5;241m.\u001b[39mstart()\n",
      "File \u001b[0;32m/Library/Developer/CommandLineTools/Library/Frameworks/Python3.framework/Versions/3.9/lib/python3.9/socket.py:293\u001b[0m, in \u001b[0;36msocket.accept\u001b[0;34m(self)\u001b[0m\n\u001b[1;32m    286\u001b[0m \u001b[38;5;28;01mdef\u001b[39;00m \u001b[38;5;21maccept\u001b[39m(\u001b[38;5;28mself\u001b[39m):\n\u001b[1;32m    287\u001b[0m \u001b[38;5;250m    \u001b[39m\u001b[38;5;124;03m\"\"\"accept() -> (socket object, address info)\u001b[39;00m\n\u001b[1;32m    288\u001b[0m \n\u001b[1;32m    289\u001b[0m \u001b[38;5;124;03m    Wait for an incoming connection.  Return a new socket\u001b[39;00m\n\u001b[1;32m    290\u001b[0m \u001b[38;5;124;03m    representing the connection, and the address of the client.\u001b[39;00m\n\u001b[1;32m    291\u001b[0m \u001b[38;5;124;03m    For IP sockets, the address info is a pair (hostaddr, port).\u001b[39;00m\n\u001b[1;32m    292\u001b[0m \u001b[38;5;124;03m    \"\"\"\u001b[39;00m\n\u001b[0;32m--> 293\u001b[0m     fd, addr \u001b[38;5;241m=\u001b[39m \u001b[38;5;28;43mself\u001b[39;49m\u001b[38;5;241;43m.\u001b[39;49m\u001b[43m_accept\u001b[49m\u001b[43m(\u001b[49m\u001b[43m)\u001b[49m\n\u001b[1;32m    294\u001b[0m     sock \u001b[38;5;241m=\u001b[39m socket(\u001b[38;5;28mself\u001b[39m\u001b[38;5;241m.\u001b[39mfamily, \u001b[38;5;28mself\u001b[39m\u001b[38;5;241m.\u001b[39mtype, \u001b[38;5;28mself\u001b[39m\u001b[38;5;241m.\u001b[39mproto, fileno\u001b[38;5;241m=\u001b[39mfd)\n\u001b[1;32m    295\u001b[0m     \u001b[38;5;66;03m# Issue #7995: if no default timeout is set and the listening\u001b[39;00m\n\u001b[1;32m    296\u001b[0m     \u001b[38;5;66;03m# socket had a (non-zero) timeout, force the new socket in blocking\u001b[39;00m\n\u001b[1;32m    297\u001b[0m     \u001b[38;5;66;03m# mode to override platform-specific socket flags inheritance.\u001b[39;00m\n",
      "\u001b[0;31mKeyboardInterrupt\u001b[0m: "
     ]
    }
   ],
   "source": [
    "import socket\n",
    "import threading\n",
    "import re\n",
    "\n",
    "def parse_and_calculate(expression):\n",
    "    match = re.search(r'(\\d+)\\s*([+\\-*/])\\s*(\\d+)', expression)\n",
    "    if not match:\n",
    "        return \"Invalid Expression\"\n",
    "\n",
    "    num1, operator, num2 = match.groups()\n",
    "    num1, num2 = int(num1), int(num2)\n",
    "\n",
    "    if operator == '+':\n",
    "        return num1 + num2\n",
    "    elif operator == '-':\n",
    "        return num1 - num2\n",
    "    elif operator == '*':\n",
    "        return num1 * num2\n",
    "    elif operator == '/':\n",
    "        if num2 == 0:\n",
    "            return \"Division by zero error\"\n",
    "        return num1 // num2\n",
    "    else:\n",
    "        return \"Unsupported Operator\"\n",
    "\n",
    "def handle_client(conn, addr):\n",
    "    print(f\"Connected by {addr}\")\n",
    "    with conn:\n",
    "        while True:\n",
    "            data = conn.recv(1024)\n",
    "            if not data:\n",
    "                break\n",
    "\n",
    "            expression = data.decode('utf-8')\n",
    "            print(f\"Received expression from {addr}: {expression}\")\n",
    "\n",
    "            result = parse_and_calculate(expression)\n",
    "            conn.sendall(str(result).encode('utf-8'))\n",
    "\n",
    "def start_server(host='127.0.0.1', port=65432):\n",
    "    with socket.socket(socket.AF_INET, socket.SOCK_STREAM) as server_socket:\n",
    "        server_socket.bind((host, port))\n",
    "        server_socket.listen()\n",
    "        print(f\"Server listening on {host}:{port}...\")\n",
    "\n",
    "        while True:\n",
    "            conn, addr = server_socket.accept()\n",
    "            client_thread = threading.Thread(target=handle_client, args=(conn, addr))\n",
    "            client_thread.start()\n",
    "\n",
    "if __name__ == \"__main__\":\n",
    "    start_server()\n"
   ]
  },
  {
   "cell_type": "code",
   "execution_count": null,
   "metadata": {},
   "outputs": [],
   "source": []
  }
 ],
 "metadata": {
  "kernelspec": {
   "display_name": "Python 3",
   "language": "python",
   "name": "python3"
  },
  "language_info": {
   "codemirror_mode": {
    "name": "ipython",
    "version": 3
   },
   "file_extension": ".py",
   "mimetype": "text/x-python",
   "name": "python",
   "nbconvert_exporter": "python",
   "pygments_lexer": "ipython3",
   "version": "3.9.6"
  }
 },
 "nbformat": 4,
 "nbformat_minor": 2
}
