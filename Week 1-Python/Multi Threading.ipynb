{
 "cells": [
  {
   "attachments": {},
   "cell_type": "markdown",
   "metadata": {},
   "source": [
    "# Multi Threading \n",
    "In a multithreaded socket server, each client is handled in a separate thread, allowing the server to manage multiple clients simultaneously. This prevents one client's operations from blocking others.\n",
    "\n",
    "## Implement the server in Socket calculator assignment in Multithread method "
   ]
  },
  {
   "cell_type": "code",
   "execution_count": 1,
   "metadata": {},
   "outputs": [
    {
     "name": "stdout",
     "output_type": "stream",
     "text": [
      "NEW CONNECTION ('127.0.0.1', 58820) connected.\n",
      "disconnected with ('127.0.0.1', 58820) ,connection closed\n",
      "NEW CONNECTION ('127.0.0.1', 58825) connected.\n",
      "disconnected with ('127.0.0.1', 58825) ,connection closed\n",
      "NEW CONNECTION ('127.0.0.1', 58832) connected.\n",
      "disconnected with ('127.0.0.1', 58832) ,connection closed\n",
      "NEW CONNECTION ('127.0.0.1', 58841) connected.\n",
      "disconnected with ('127.0.0.1', 58841) ,connection closed\n",
      "NEW CONNECTION ('127.0.0.1', 58844) connected.\n",
      "disconnected with ('127.0.0.1', 58844) ,connection closed\n",
      "NEW CONNECTION ('127.0.0.1', 58849) connected.\n",
      "disconnected with ('127.0.0.1', 58849) ,connection closed\n",
      "NEW CONNECTION ('127.0.0.1', 58855) connected.\n",
      "disconnected with ('127.0.0.1', 58855) ,connection closed\n",
      "NEW CONNECTION ('127.0.0.1', 58860) connected.\n",
      "disconnected with ('127.0.0.1', 58860) ,connection closed\n"
     ]
    }
   ],
   "source": [
    "import threading\n",
    "import re\n",
    "import socket\n",
    "def calculate(input_string):\n",
    "\n",
    "    match = re.search(r'(\\d+)\\s*([\\+\\-\\*/])\\s*(\\d+)', input_string)\n",
    "\n",
    "    if match:\n",
    "       operand1 = int(match.group(1))\n",
    "       operator = match.group(2)\n",
    "       operand2 = int(match.group(3))\n",
    "    \n",
    "       if operator == '+':\n",
    "          return str(operand1 + operand2)\n",
    "       elif operator == '-':\n",
    "          return str(operand1 - operand2)\n",
    "       elif operator == '*':\n",
    "          return str(operand1 * operand2)\n",
    "       elif operator == '/':\n",
    "          return str(operand1 / operand2)\n",
    "       else:\n",
    "          result = \"Unsupported operator\"\n",
    "    \n",
    "    else:\n",
    "       print(\"No valid expression found in the string.\")\n",
    "\n",
    "def handle_client(conn, addr):\n",
    "    print(f\"NEW CONNECTION {addr} connected.\")\n",
    "    with conn:\n",
    "        while True:\n",
    "            message = conn.recv(1024)\n",
    "            if not message:\n",
    "                break\n",
    "            value = calculate(message.decode())\n",
    "            conn.sendall(value.encode())\n",
    "    print(f\"disconnected with {addr} ,connection closed\")\n",
    "\n",
    "with socket.socket(socket.AF_INET, socket.SOCK_STREAM) as s:\n",
    "        s.bind(('127.0.0.1', 8080))\n",
    "        s.listen()\n",
    "        while True:\n",
    "            conn, addr = s.accept()\n",
    "            client_thread = threading.Thread(target=handle_client, args=(conn, addr))\n",
    "            client_thread.start()"
   ]
  }
 ],
 "metadata": {
  "kernelspec": {
   "display_name": "Python 3",
   "language": "python",
   "name": "python3"
  },
  "language_info": {
   "codemirror_mode": {
    "name": "ipython",
    "version": 3
   },
   "file_extension": ".py",
   "mimetype": "text/x-python",
   "name": "python",
   "nbconvert_exporter": "python",
   "pygments_lexer": "ipython3",
   "version": "3.13.1"
  }
 },
 "nbformat": 4,
 "nbformat_minor": 2
}
