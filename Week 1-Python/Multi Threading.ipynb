{
 "cells": [
  {
   "cell_type": "markdown",
   "metadata": {},
   "source": [
    "# Multi Threading \n",
    "In a multithreaded socket server, each client is handled in a separate thread, allowing the server to manage multiple clients simultaneously. This prevents one client's operations from blocking others.\n",
    "\n",
    "## Implement the server in Socket calculator assignment in Multithread method "
   ]
  },
  {
   "cell_type": "code",
   "execution_count": null,
   "metadata": {},
   "outputs": [
    {
     "name": "stdout",
     "output_type": "stream",
     "text": [
      "Server is listening on 127.0.0.1:8080\n",
      "Connection established with ('127.0.0.1', 57569)\n",
      "Connection established with ('127.0.0.1', 57585)\n",
      "Received: add 3+8\n",
      "Result: 11\n",
      "Connection with ('127.0.0.1', 57569) was forcibly closed.\n"
     ]
    }
   ],
   "source": [
    "import socket\n",
    "import threading\n",
    "import re\n",
    "\n",
    "def evaluate_expression(expression):\n",
    "    \"\"\"\n",
    "    Extracts the operator and numbers from the string, performs the calculation, and returns the result.\n",
    "    \"\"\"\n",
    "    try:\n",
    "        # Regular expression to find numbers and operators in the string\n",
    "        match = re.search(r'([-+]?\\d+)\\s*([+\\-*/])\\s*([-+]?\\d+)', expression)\n",
    "        if not match:\n",
    "            return \"Error: Could not parse expression\"\n",
    "\n",
    "        num1, operator, num2 = match.groups()\n",
    "        num1, num2 = int(num1), int(num2)\n",
    "\n",
    "        # Perform the operation\n",
    "        if operator == '+':\n",
    "            return num1 + num2\n",
    "        elif operator == '-':\n",
    "            return num1 - num2\n",
    "        elif operator == '*':\n",
    "            return num1 * num2\n",
    "        elif operator == '/':\n",
    "            return num1 // num2 if num2 != 0 else \"Error: Division by zero\"\n",
    "        else:\n",
    "            return \"Error: Unknown operator\"\n",
    "    except Exception as e:\n",
    "        return f\"Error: {e}\"\n",
    "\n",
    "def handle_client(client_socket, client_address):\n",
    "    \"\"\"\n",
    "    Handles communication with a connected client.\n",
    "    \"\"\"\n",
    "    print(f\"Connection established with {client_address}\")\n",
    "    try:\n",
    "        with client_socket:\n",
    "            while True:\n",
    "                # Receive data from the client\n",
    "                data = client_socket.recv(1024)\n",
    "                if not data:\n",
    "                    break\n",
    "\n",
    "                # Decode the received data\n",
    "                input_string = data.decode('utf-8')\n",
    "                print(f\"Received: {input_string}\")\n",
    "\n",
    "                # Evaluate the expression\n",
    "                result = evaluate_expression(input_string)\n",
    "                print(f\"Result: {result}\")\n",
    "\n",
    "                # Send the result back to the client\n",
    "                client_socket.sendall(str(result).encode('utf-8'))\n",
    "    except ConnectionResetError:\n",
    "        print(f\"Connection with {client_address} was forcibly closed.\")\n",
    "    except Exception as e:\n",
    "        print(f\"Error handling client {client_address}: {e}\")\n",
    "\n",
    "def start_server(host='127.0.0.1', port=8080):\n",
    "    \"\"\"\n",
    "    Starts a socket server that listens for calculator requests.\n",
    "    \"\"\"\n",
    "    with socket.socket(socket.AF_INET, socket.SOCK_STREAM) as server_socket:\n",
    "        server_socket.bind((host, port))\n",
    "        server_socket.listen(5)\n",
    "        print(f\"Server is listening on {host}:{port}\")\n",
    "\n",
    "        while True:\n",
    "            client_socket, client_address = server_socket.accept()\n",
    "            client_thread = threading.Thread(target=handle_client, args=(client_socket, client_address))\n",
    "            client_thread.start()\n",
    "\n",
    "if __name__ == \"__main__\":\n",
    "    start_server()\n"
   ]
  },
  {
   "cell_type": "code",
   "execution_count": null,
   "metadata": {},
   "outputs": [],
   "source": []
  }
 ],
 "metadata": {
  "kernelspec": {
   "display_name": "Python 3",
   "language": "python",
   "name": "python3"
  },
  "language_info": {
   "codemirror_mode": {
    "name": "ipython",
    "version": 3
   },
   "file_extension": ".py",
   "mimetype": "text/x-python",
   "name": "python",
   "nbconvert_exporter": "python",
   "pygments_lexer": "ipython3",
   "version": "3.12.6"
  }
 },
 "nbformat": 4,
 "nbformat_minor": 2
}
