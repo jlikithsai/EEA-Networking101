{
 "cells": [
  {
   "cell_type": "markdown",
   "metadata": {},
   "source": [
    "# Multi Threading \n",
    "In a multithreaded socket server, each client is handled in a separate thread, allowing the server to manage multiple clients simultaneously. This prevents one client's operations from blocking others.\n",
    "\n",
    "## Implement the server in Socket calculator assignment in Multithread method "
   ]
  },
  {
   "cell_type": "code",
   "execution_count": 1,
   "metadata": {},
   "outputs": [],
   "source": [
    "import socket\n",
    "import threading"
   ]
  },
  {
   "cell_type": "code",
   "execution_count": null,
   "metadata": {},
   "outputs": [
    {
     "name": "stdout",
     "output_type": "stream",
     "text": [
      "Server started on 127.0.0.1:12345\n"
     ]
    }
   ],
   "source": [
    "def handle(cs, ca):\n",
    "    print(f\"Connected to {ca}\")\n",
    "    cs.send(b\"Send operations in the format: <number1> <operator> <number2>\\n\")\n",
    "\n",
    "    while True:\n",
    "        data = cs.recv(1024).decode('utf-8').strip()\n",
    "        print(f\"Received from {ca}: {data}\")\n",
    "\n",
    "        if data.lower() == 'quit':\n",
    "            cs.send(b\"Goodbye!\\n\")\n",
    "            break\n",
    "\n",
    "        num1, operator, num2 = data.split()\n",
    "        num1, num2 = float(num1), float(num2)\n",
    "\n",
    "        if operator == '+':\n",
    "            result = num1 + num2\n",
    "        elif operator == '-':\n",
    "            result = num1 - num2\n",
    "        elif operator == '*':\n",
    "            result = num1 * num2\n",
    "        elif operator == '/':\n",
    "            result = num1 / num2\n",
    "\n",
    "        response = f\"Result: {result}\\n\"\n",
    "        cs.send(response.encode('utf-8'))\n",
    "\n",
    "    cs.close()\n",
    "    print(f\"Connection with {ca} closed.\")\n",
    "\n",
    "def start_server(host='127.0.0.1', port=12345):\n",
    "    server = socket.socket(socket.AF_INET, socket.SOCK_STREAM)\n",
    "    server.bind((host, port))\n",
    "    server.listen(5)\n",
    "    print(f\"Server started on {host}:{port}\")\n",
    "\n",
    "    while True:\n",
    "        client_socket, ca = server.accept()\n",
    "        client_thread = threading.Thread(target=handle, args=(client_socket, ca))\n",
    "        client_thread.start()\n",
    "\n",
    "\n",
    "start_server()"
   ]
  }
 ],
 "metadata": {
  "kernelspec": {
   "display_name": "Python 3",
   "language": "python",
   "name": "python3"
  },
  "language_info": {
<<<<<<< Updated upstream
   "name": "python",
=======
   "codemirror_mode": {
    "name": "ipython",
    "version": 3
   },
   "file_extension": ".py",
   "mimetype": "text/x-python",
   "name": "python",
   "nbconvert_exporter": "python",
   "pygments_lexer": "ipython3",
>>>>>>> Stashed changes
   "version": "3.11.9"
  }
 },
 "nbformat": 4,
 "nbformat_minor": 2
}
