{
 "cells": [
  {
   "cell_type": "markdown",
   "metadata": {},
   "source": [
    "# Multi Threading \n",
    "In a multithreaded socket server, each client is handled in a separate thread, allowing the server to manage multiple clients simultaneously. This prevents one client's operations from blocking others.\n",
    "\n",
    "## Implement the server in Socket calculator assignment in Multithread method "
   ]
  },
  {
   "cell_type": "code",
   "execution_count": null,
   "metadata": {},
   "outputs": [
    {
     "name": "stdout",
     "output_type": "stream",
     "text": [
      "Server is listening on 127.0.0.1:8080\n",
      "Connected by ('127.0.0.1', 53937)\n",
      "Connected by ('127.0.0.1', 53940)\n",
      "Client ('127.0.0.1', 53940) says: 4 * 5\n",
      "Client ('127.0.0.1', 53937) says: 2 * 3\n",
      "Client ('127.0.0.1', 53940) says: 4 * 5\n",
      "Client ('127.0.0.1', 53937) says: 2 * 3\n",
      "Connection with ('127.0.0.1', 53940) closed\n",
      "Connection with ('127.0.0.1', 53937) closed\n"
     ]
    }
   ],
   "source": [
    "import socket\n",
    "import threading\n",
    "\n",
    "def calculator(expression):\n",
    "    expression = expression.replace(\" \", '')\n",
    "    for operator in ['+', '-', '*', '/']:\n",
    "        if operator in expression:\n",
    "            num1, num2 = expression.split(operator)\n",
    "            num1, num2 = int(num1), int(num2)\n",
    "            if operator == '+':\n",
    "                return num1 + num2\n",
    "            elif operator == '-':\n",
    "                return num1 - num2\n",
    "            elif operator == '*':\n",
    "                return num1 * num2\n",
    "            elif operator == '/':\n",
    "                if num2 == 0:\n",
    "                    return \"Error: Division by zero\"\n",
    "                else:\n",
    "                    return num1 // num2\n",
    "\n",
    "    return \"Error: Invalid expression\"\n",
    "\n",
    "def client(conn, addr):\n",
    "    print(f\"Connected by {addr}\")\n",
    "    with conn:\n",
    "        while True:\n",
    "            data = conn.recv(1024).decode('utf-8')\n",
    "            if not data:\n",
    "                break\n",
    "            print(f\"Client {addr} says: {data}\")\n",
    "\n",
    "            result = calculator(data)\n",
    "\n",
    "            conn.sendall(str(result).encode('utf-8'))\n",
    "    print(f\"Connection with {addr} closed\")\n",
    "\n",
    "HOST = \"127.0.0.1\"\n",
    "PORT = 8080\n",
    "\n",
    "with socket.socket(socket.AF_INET, socket.SOCK_STREAM) as s:\n",
    "    s.bind((HOST, PORT))\n",
    "    s.listen()\n",
    "    print(f\"Server is listening on {HOST}:{PORT}\")\n",
    "    \n",
    "    while True:\n",
    "        conn, addr = s.accept()\n",
    "        client_thread = threading.Thread(target=client, args=(conn, addr))\n",
    "        client_thread.start()\n"
   ]
  },
  {
   "cell_type": "code",
   "execution_count": null,
   "metadata": {},
   "outputs": [],
   "source": []
  }
 ],
 "metadata": {
  "kernelspec": {
   "display_name": "Python 3",
   "language": "python",
   "name": "python3"
  },
  "language_info": {
   "codemirror_mode": {
    "name": "ipython",
    "version": 3
   },
   "file_extension": ".py",
   "mimetype": "text/x-python",
   "name": "python",
   "nbconvert_exporter": "python",
   "pygments_lexer": "ipython3",
   "version": "3.12.7"
  }
 },
 "nbformat": 4,
 "nbformat_minor": 2
}
