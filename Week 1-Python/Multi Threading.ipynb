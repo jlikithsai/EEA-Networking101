{
 "cells": [
  {
   "cell_type": "markdown",
   "metadata": {},
   "source": [
    "# Multi Threading \n",
    "In a multithreaded socket server, each client is handled in a separate thread, allowing the server to manage multiple clients simultaneously. This prevents one client's operations from blocking others.\n",
    "\n",
    "## Implement the server in Socket calculator assignment in Multithread method "
   ]
  },
  {
   "cell_type": "code",
   "execution_count": 9,
   "metadata": {},
   "outputs": [
    {
     "name": "stdout",
     "output_type": "stream",
     "text": [
      "Multithreaded server is listening on port 12345...\n",
      "\n",
      "Shutting down the server.\n"
     ]
    }
   ],
   "source": [
    "import socket\n",
    "import threading\n",
    "import re\n",
    "\n",
    "\n",
    "def calculate(expression):\n",
    "    match = re.search(r'(\\d+)\\s*([+\\-*/])\\s*(\\d+)', expression)\n",
    "    if match:\n",
    "        num1 = int(match.group(1))\n",
    "        operator = match.group(2)\n",
    "        num2 = int(match.group(3))\n",
    "\n",
    "       \n",
    "        if operator == '+':\n",
    "            return num1 + num2\n",
    "        elif operator == '-':\n",
    "            return num1 - num2\n",
    "        elif operator == '*':\n",
    "            return num1 * num2\n",
    "        elif operator == '/':\n",
    "            return num1 // num2 if num2 != 0 else \"Error: Division by zero\"\n",
    "    else:\n",
    "        return \"Invalid input\"\n",
    "\n",
    "\n",
    "def client(socket1, client_address):\n",
    "    print(f\"Connection established with {client_address}\")\n",
    "    try:\n",
    "        while True:\n",
    "           \n",
    "            message = socket1.recv(1024).decode('utf-8')\n",
    "            if not message:\n",
    "                break\n",
    "            print(f\"Received from {client_address}: {message}\")\n",
    "\n",
    "           \n",
    "            result = calculate(message)\n",
    "            print(f\"Sending result to {client_address}: {result}\")\n",
    "\n",
    "            \n",
    "            socket1.send(str(result).encode('utf-8'))\n",
    "    except Exception as e:\n",
    "        print(f\"Error handling client {client_address}: {e}\")\n",
    "    finally:\n",
    "        print(f\"Closing connection with {client_address}\")\n",
    "        socket1.close()\n",
    "\n",
    "\n",
    "server_socket = socket.socket(socket.AF_INET, socket.SOCK_STREAM)\n",
    "server_socket.bind(('localhost', 9999)) \n",
    "server_socket.listen(5)  \n",
    "\n",
    "print(\"Multithreaded server is listening on port 12345...\")\n",
    "\n",
    "\n",
    "try:\n",
    "    while True:\n",
    "        client_socket, client_address = server_socket.accept()\n",
    "      \n",
    "        client_thread = threading.Thread(target=handle_client, args=(client_socket, client_address))\n",
    "        client_thread.start()\n",
    "except KeyboardInterrupt:\n",
    "    print(\"\\nShutting down the server.\")\n",
    "finally:\n",
    "    server_socket.close()\n"
   ]
  },
  {
   "cell_type": "code",
   "execution_count": null,
   "metadata": {},
   "outputs": [],
   "source": []
  }
 ],
 "metadata": {
  "kernelspec": {
   "display_name": "Python 3",
   "language": "python",
   "name": "python3"
  },
  "language_info": {
   "codemirror_mode": {
    "name": "ipython",
    "version": 3
   },
   "file_extension": ".py",
   "mimetype": "text/x-python",
   "name": "python",
   "nbconvert_exporter": "python",
   "pygments_lexer": "ipython3",
   "version": "3.9.6"
  }
 },
 "nbformat": 4,
 "nbformat_minor": 2
}
