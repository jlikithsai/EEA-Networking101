{
 "cells": [
  {
   "cell_type": "markdown",
   "metadata": {},
   "source": [
    "# Multi Threading \n",
    "In a multithreaded socket server, each client is handled in a separate thread, allowing the server to manage multiple clients simultaneously. This prevents one client's operations from blocking others.\n",
    "\n",
    "## Implement the server in Socket calculator assignment in Multithread method "
   ]
  },
  {
   "cell_type": "markdown",
   "metadata": {},
   "source": [
    "#server side\n"
   ]
  },
  {
   "cell_type": "code",
   "execution_count": 4,
   "metadata": {},
   "outputs": [
    {
     "ename": "OSError",
     "evalue": "[WinError 10048] Only one usage of each socket address (protocol/network address/port) is normally permitted",
     "output_type": "error",
     "traceback": [
      "\u001b[1;31m---------------------------------------------------------------------------\u001b[0m",
      "\u001b[1;31mOSError\u001b[0m                                   Traceback (most recent call last)",
      "Cell \u001b[1;32mIn[4], line 7\u001b[0m\n\u001b[0;32m      5\u001b[0m port \u001b[38;5;241m=\u001b[39m \u001b[38;5;241m9999\u001b[39m\n\u001b[0;32m      6\u001b[0m srv_soc \u001b[38;5;241m=\u001b[39m socket\u001b[38;5;241m.\u001b[39msocket()\n\u001b[1;32m----> 7\u001b[0m \u001b[43msrv_soc\u001b[49m\u001b[38;5;241;43m.\u001b[39;49m\u001b[43mbind\u001b[49m\u001b[43m(\u001b[49m\u001b[43m(\u001b[49m\u001b[43mhost\u001b[49m\u001b[43m,\u001b[49m\u001b[43m \u001b[49m\u001b[43mport\u001b[49m\u001b[43m)\u001b[49m\u001b[43m)\u001b[49m\n\u001b[0;32m      8\u001b[0m srv_soc\u001b[38;5;241m.\u001b[39mlisten(\u001b[38;5;241m3\u001b[39m) \n\u001b[0;32m      9\u001b[0m \u001b[38;5;28mprint\u001b[39m(\u001b[38;5;124mf\u001b[39m\u001b[38;5;124m\"\u001b[39m\u001b[38;5;124mServer is running...\u001b[39m\u001b[38;5;124m\"\u001b[39m)\n",
      "\u001b[1;31mOSError\u001b[0m: [WinError 10048] Only one usage of each socket address (protocol/network address/port) is normally permitted"
     ]
    }
   ],
   "source": [
    "import socket\n",
    "import threading\n",
    "\n",
    "host = '127.0.0.1' \n",
    "port = 9999\n",
    "srv_soc = socket.socket()\n",
    "srv_soc.bind((host, port))\n",
    "srv_soc.listen(3) \n",
    "print(f\"Server is running...\")\n",
    "\n",
    "def conn_thread(conn_soc , conn_add):  \n",
    "\n",
    "    print(f\"connected with {conn_add}\")\n",
    "\n",
    "    data = conn_soc.recv(1024).decode('utf-8')\n",
    "    if not data:\n",
    "        conn_soc.close()\n",
    "        return\n",
    "        \n",
    "    print(f\"data received: {data}\")\n",
    "\n",
    "    s = \"\"\n",
    "    for word in data.split():\n",
    "        for i in word:\n",
    "            if i.isdigit() or i in '+-*/':\n",
    "                s += i\n",
    "\n",
    "    if '+' in s:\n",
    "        op = '+'\n",
    "        num1, num2 = s.split(op)\n",
    "    elif '-' in s:\n",
    "        op = '-'\n",
    "        num1, num2 = s.split(op)\n",
    "    elif '*' in s:\n",
    "        op = '*'\n",
    "        num1, num2 = s.split(op)\n",
    "    elif '/' in s:\n",
    "        op = '/'\n",
    "        num1, num2 = s.split(op)\n",
    "    else:\n",
    "        res = \"Invalid input\"\n",
    "        print(f\"Result : {res}\")\n",
    "        conn_soc.send(res.encode('utf-8'))\n",
    "        conn_soc.close()\n",
    "        return\n",
    "\n",
    "    num1, num2 = int(num1.strip()), int(num2.strip()) \n",
    "        \n",
    "    if op == '+':\n",
    "        res = str(num1 + num2)\n",
    "    elif op == '-':\n",
    "        res = str(num1 - num2)\n",
    "    elif op == '*':\n",
    "        res = str(num1 * num2)\n",
    "    elif op == '/':\n",
    "        if num2 != 0:\n",
    "            res = str(num1 / num2)\n",
    "        else:\n",
    "            res = \"Error : division by zero\"\n",
    "    else:\n",
    "        res = \"Invalid Operator\"\n",
    "\n",
    "    print(f\"Result: {res}\")    \n",
    "    conn_soc.send(res.encode('utf-8'))\n",
    "    conn_soc.close()\n",
    "    \n",
    "        \n",
    "while True:\n",
    "    conn_soc, conn_add = srv_soc.accept()\n",
    "    threading.Thread(target=conn_thread, args=(conn_soc, conn_add)).start()\n"
   ]
  },
  {
   "cell_type": "markdown",
   "metadata": {},
   "source": [
    "#CLient side"
   ]
  },
  {
   "cell_type": "code",
   "execution_count": null,
   "metadata": {},
   "outputs": [],
   "source": [
    "import socket\n",
    "host = '127.0.0.1'\n",
    "port = 9999\n",
    "conn_soc = socket.socket()\n",
    "conn_soc.connect((host, port))\n",
    "\n",
    "etn = input(\"Enter your equation using '+'-*/': \")\n",
    "conn_soc.send(etn.encode('utf-8'))\n",
    "res = conn_soc.recv(1024).decode('utf-8')\n",
    "print(res)\n",
    "conn_soc.close()\n",
    "\n",
    "input(\"\")   #to prevent terminal from closing just after result shown."
   ]
  }
 ],
 "metadata": {
  "kernelspec": {
   "display_name": "Python 3",
   "language": "python",
   "name": "python3"
  },
  "language_info": {
   "codemirror_mode": {
    "name": "ipython",
    "version": 3
   },
   "file_extension": ".py",
   "mimetype": "text/x-python",
   "name": "python",
   "nbconvert_exporter": "python",
   "pygments_lexer": "ipython3",
   "version": "3.11.9"
  }
 },
 "nbformat": 4,
 "nbformat_minor": 2
}
