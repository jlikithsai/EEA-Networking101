{
 "cells": [
  {
   "cell_type": "code",
   "execution_count": null,
   "metadata": {},
   "outputs": [
    {
     "name": "stdout",
     "output_type": "stream",
     "text": [
      "Server response: 11\n"
     ]
    }
   ],
   "source": [
    "import socket\n",
    "\n",
    "def client_send1(message, host='127.0.0.1', port=8080):\n",
    "    with socket.socket(socket.AF_INET, socket.SOCK_STREAM) as client_socket:\n",
    "        client_socket.connect((host, port))\n",
    "        client_socket.sendall(message.encode('utf-8'))\n",
    "        response = client_socket.recv(1024)\n",
    "        print(f\"Server response: {response.decode('utf-8')}\")\n",
    "\n",
    "if __name__ == \"__main__\":\n",
    "    while True:\n",
    "        msg = input(\"Enter a message (or 'exit' to quit): \")\n",
    "        if msg.lower() == 'exit':\n",
    "            break\n",
    "        client_send1(msg)\n"
   ]
  }
 ],
 "metadata": {
  "kernelspec": {
   "display_name": "Python 3",
   "language": "python",
   "name": "python3"
  },
  "language_info": {
   "codemirror_mode": {
    "name": "ipython",
    "version": 3
   },
   "file_extension": ".py",
   "mimetype": "text/x-python",
   "name": "python",
   "nbconvert_exporter": "python",
   "pygments_lexer": "ipython3",
   "version": "3.12.6"
  }
 },
 "nbformat": 4,
 "nbformat_minor": 2
}
