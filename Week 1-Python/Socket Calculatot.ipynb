{
 "cells": [
  {
   "cell_type": "markdown",
   "metadata": {},
   "source": [
    "# Create a Calculator server using socket programming \n",
    " The Server should take string input from the client and use this input and perform the required operation and return the value as an integer \n",
    " <br>\n",
    "Ex : \n",
    "- Client Says \"Please calculate 2*4\" the server should return \"8\" \n",
    "- The Client could as say \"Cal 2*4\" and the server should return \"8\" \n",
    "- The client could say \"Add 2+4\" and the server should return \"6\"\n",
    "> Look for the operator in the string and check for integers preceding and following the operator"
   ]
  },
  {
   "cell_type": "markdown",
   "metadata": {},
   "source": [
    "# Server Code\n",
    "- Create a Socket at 127.0.0.1 or any other IP and some port no Ex :  8080"
   ]
  },
  {
   "cell_type": "code",
   "execution_count": null,
   "metadata": {},
   "outputs": [],
   "source": [
    "import socket\n",
    "import re\n",
    "ss = socket.socket(socket.AF_INET,socket.SOCK_STREAM)\n",
    "def calculate(expression):\n",
    "        match = re.search(r'(\\d+)\\s*([\\+\\-\\\\/])\\s(\\d+)', expression)\n",
    "        if not match:\n",
    "            return \"Invalid Input\"\n",
    "        \n",
    "        num1, operator, num2 = match.groups()\n",
    "        num1, num2 = int(num1), int(num2)\n",
    "        if operator == '+':\n",
    "            return str(num1 + num2)\n",
    "        elif operator == '-':\n",
    "            return str(num1 - num2)\n",
    "        elif operator == '*':\n",
    "            return str(num1 * num2)\n",
    "        elif operator == '/':\n",
    "            return str(num1 / num2)\n",
    "ip = '127.0.0.1'\n",
    "port = 8080\n",
    "ss.bind((ip,port))\n",
    "ss.listen(1)\n",
    "cs,ca = ss.accept()\n",
    "data = cs.send()\n",
    "while True:\n",
    "    data = cs.recv(1024).decode('utf-8')\n",
    "    result = calculate(data) \n",
    "    cs.send(result.encode('utf-8'))\n",
    "    \n",
    "    \n",
    "    cs.close()\n",
    "    ss.close()"
   ]
  },
  {
   "cell_type": "markdown",
   "metadata": {},
   "source": [
    "# Client Code \n",
    "# ===========\n",
    "- Use a Separate file for this as 2 cells can't simultaneously run in a Python Notebook \n",
    "- The Client must connect to the sever at this socket \n",
    "- Take input from Serial Monitor and send it to server "
   ]
  },
  {
   "cell_type": "code",
   "execution_count": null,
   "metadata": {},
   "outputs": [],
   "source": []
  },
  {
   "cell_type": "markdown",
   "metadata": {},
   "source": [
    "# Try running 2 client python file separately in 2 terminals \n",
    "- What happens to the output ? "
   ]
  }
 ],
 "metadata": {
  "kernelspec": {
   "display_name": "Python 3",
   "language": "python",
   "name": "python3"
  },
  "language_info": {
<<<<<<< Updated upstream
   "name": "python",
=======
   "codemirror_mode": {
    "name": "ipython",
    "version": 3
   },
   "file_extension": ".py",
   "mimetype": "text/x-python",
   "name": "python",
   "nbconvert_exporter": "python",
   "pygments_lexer": "ipython3",
>>>>>>> Stashed changes
   "version": "3.11.9"
  }
 },
 "nbformat": 4,
 "nbformat_minor": 2
}
