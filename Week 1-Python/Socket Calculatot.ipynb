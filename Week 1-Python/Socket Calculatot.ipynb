{
 "cells": [
  {
   "cell_type": "markdown",
   "metadata": {},
   "source": [
    "# Create a Calculator server using socket programming \n",
    " The Server should take string input from the client and use this input and perform the required operation and return the value as an integer \n",
    " <br>\n",
    "Ex : \n",
    "- Client Says \"Please calculate 2*4\" the server should return \"8\" \n",
    "- The Client could as say \"Cal 2*4\" and the server should return \"8\" \n",
    "- The client could say \"Add 2+4\" and the server should return \"6\"\n",
    "> Look for the operator in the string and check for integers preceding and following the operator"
   ]
  },
  {
   "cell_type": "markdown",
   "metadata": {},
   "source": [
    "# Server Code\n",
    "- Create a Socket at 127.0.0.1 or any other IP and some port no Ex :  8080"
   ]
  },
  {
   "cell_type": "code",
   "execution_count": null,
   "metadata": {},
   "outputs": [],
   "source": [
    "import socket\n",
    "host = '127.0.0.1' \n",
    "port = 9999\n",
    "srv_soc = socket.socket()\n",
    "srv_soc.bind((host, port))\n",
    "srv_soc.listen(3) \n",
    "print(f\"Server is running...\")\n",
    "\n",
    "\n",
    "while True:\n",
    "    conn_soc, conn_add = srv_soc.accept()\n",
    "    print(f\"connected with {conn_add}\")\n",
    "\n",
    "    data = conn_soc.recv(1024).decode('utf-8')\n",
    "    if not data:\n",
    "        conn_soc.close()\n",
    "        continue\n",
    "    \n",
    "    print(f\"data received: {data}\")\n",
    "\n",
    "    s = \"\"\n",
    "    for word in data.split():\n",
    "        for i in word:\n",
    "            if i.isdigit() or i in '+-*/':\n",
    "                s += i\n",
    "\n",
    "    if '+' in s:\n",
    "        op = '+'\n",
    "        num1, num2 = s.split(op)\n",
    "    elif '-' in s:\n",
    "        op = '-'\n",
    "        num1, num2 = s.split(op)\n",
    "    elif '*' in s:\n",
    "        op = '*'\n",
    "        num1, num2 = s.split(op)\n",
    "    elif '/' in s:\n",
    "        op = '/'\n",
    "        num1, num2 = s.split(op)\n",
    "    else:\n",
    "        res = \"Invalid input\"\n",
    "        print(f\"Result : {res}\")\n",
    "        conn_soc.send(res.encode('utf-8'))\n",
    "        conn_soc.close()\n",
    "        continue\n",
    "\n",
    "    num1, num2 = int(num1.strip()), int(num2.strip()) \n",
    "    \n",
    "    if op == '+':\n",
    "        res = str(num1 + num2)\n",
    "    elif op == '-':\n",
    "        res = str(num1 - num2)\n",
    "    elif op == '*':\n",
    "        res = str(num1 * num2)\n",
    "    elif op == '/':\n",
    "        if num2 != 0:\n",
    "            res = str(num1 / num2)\n",
    "        else:\n",
    "            res = \"Error : division by zero\"\n",
    "    else:\n",
    "        res = \"Invalid Operator\"\n",
    "\n",
    "    print(f\"Result: {res}\")\n",
    "    conn_soc.send(res.encode('utf-8'))\n",
    "    conn_soc.close()\n",
    "\n"
   ]
  },
  {
   "cell_type": "markdown",
   "metadata": {},
   "source": [
    "# Client Code \n",
    "# ===========\n",
    "- Use a Separate file for this as 2 cells can't simultaneously run in a Python Notebook \n",
    "- The Client must connect to the sever at this socket \n",
    "- Take input from Serial Monitor and send it to server "
   ]
  },
  {
   "cell_type": "code",
   "execution_count": null,
   "metadata": {},
   "outputs": [],
   "source": [
    "import socket\n",
    "host = '127.0.0.1'\n",
    "port = 9999\n",
    "conn_soc = socket.socket()\n",
    "conn_soc.connect((host, port))\n",
    "\n",
    "etn = input(\"Enter your equation using '+'-*/': \")\n",
    "conn_soc.send(etn.encode('utf-8'))\n",
    "res = conn_soc.recv(1024).decode('utf-8')\n",
    "print(res)\n",
    "conn_soc.close()\n",
    "\n",
    "input(\"enter any button to exit...\")   #to prevent terminal from closing just after result shown."
   ]
  },
  {
   "cell_type": "markdown",
   "metadata": {},
   "source": [
    "# Try running 2 client python file separately in 2 terminals \n",
    "- What happens to the output ? "
   ]
  },
  {
   "cell_type": "code",
   "execution_count": null,
   "metadata": {},
   "outputs": [],
   "source": [
    "correct result is shown on client side terminal. "
   ]
  }
 ],
 "metadata": {
  "language_info": {
   "name": "python"
  }
 },
 "nbformat": 4,
 "nbformat_minor": 2
}
