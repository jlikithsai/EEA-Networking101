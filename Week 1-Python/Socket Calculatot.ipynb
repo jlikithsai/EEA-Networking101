{
 "cells": [
  {
   "cell_type": "markdown",
   "metadata": {},
   "source": [
    "# Create a Calculator server using socket programming \n",
    " The Server should take string input from the client and use this input and perform the required operation and return the value as an integer \n",
    " <br>\n",
    "Ex : \n",
    "- Client Says \"Please calculate 2*4\" the server should return \"8\" \n",
    "- The Client could as say \"Cal 2*4\" and the server should return \"8\" \n",
    "- The client could say \"Add 2+4\" and the server should return \"6\"\n",
    "> Look for the operator in the string and check for integers preceding and following the operator"
   ]
  },
  {
   "cell_type": "markdown",
   "metadata": {},
   "source": [
    "# Server Code\n",
    "- Create a Socket at 127.0.0.1 or any other IP and some port no Ex :  8080"
   ]
  },
  {
   "cell_type": "code",
   "execution_count": null,
   "metadata": {},
   "outputs": [],
   "source": [
    "import socket\n",
    "import re\n",
    "def calculation(data):\n",
    "    match = re.search(r'(\\d+)\\s*([\\+\\-\\*\\/])\\s*(\\d+)', data)\n",
    "    if match:\n",
    "        num1 = match.group(1)\n",
    "        operation = match.group(2)\n",
    "        num2 = match.group(3)\n",
    "        if operation == '/' and num2=='0':\n",
    "            return f'Not defined'\n",
    "        else :\n",
    "            data = eval(f'{num1}{operation}{num2}')\n",
    "            return data\n",
    "    else:\n",
    "        return f\"Input correct operation\"\n",
    "\n",
    "HOST = \"127.0.0.1\"\n",
    "PORT = 8080\n",
    "with socket.socket(socket.AF_INET, socket.SOCK_STREAM) as s:\n",
    "    s.bind((HOST,PORT))\n",
    "    s.listen()\n",
    "    print(f'Server listening on {HOST}:{PORT}....')\n",
    "    conn, addr = s.accept()\n",
    "    with conn:\n",
    "        print(f\"Connected by {addr}\")\n",
    "        while True:\n",
    "            data = conn.recv(1024).decode('utf-8')\n",
    "            if not data:\n",
    "                print(f\"Connection with {addr} closed\")\n",
    "                break\n",
    "            result = calculation(data)\n",
    "            conn.send(str(result).encode('utf-8'))\n"
   ]
  },
  {
   "cell_type": "markdown",
   "metadata": {},
   "source": [
    "# Client Code \n",
    "# ===========\n",
    "- Use a Separate file for this as 2 cells can't simultaneously run in a Python Notebook \n",
    "- The Client must connect to the sever at this socket \n",
    "- Take input from Serial Monitor and send it to server "
   ]
  },
  {
   "cell_type": "code",
   "execution_count": null,
   "metadata": {},
   "outputs": [],
   "source": [
    "import socket\n",
    "HOST = \"127.0.0.1\"\n",
    "PORT = 8080\n",
    "\n",
    "with socket.socket(socket.AF_INET, socket.SOCK_STREAM) as s:\n",
    "    s.connect((HOST, PORT))\n",
    "    while True:\n",
    "        calculate = input(\"Enter a calculation or type exit to quit\")\n",
    "        if calculate.lower() == 'exit':\n",
    "            print(\"Closing Connection\")\n",
    "            break\n",
    "        s.sendall(calculate.encode('utf-8'))\n",
    "        value = s.recv(1024).decode('utf-8')\n",
    "        print(f\"{value}\")\n"
   ]
  },
  {
   "cell_type": "markdown",
   "metadata": {},
   "source": [
    "# Try running 2 client python file separately in 2 terminals \n",
    "- What happens to the output ? "
   ]
  }
 ],
 "metadata": {
  "language_info": {
   "name": "python"
  }
 },
 "nbformat": 4,
 "nbformat_minor": 2
}
