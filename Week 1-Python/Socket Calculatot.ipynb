{
 "cells": [
  {
   "cell_type": "markdown",
   "metadata": {},
   "source": [
    "# Create a Calculator server using socket programming \n",
    " The Server should take string input from the client and use this input and perform the required operation and return the value as an integer \n",
    " <br>\n",
    "Ex : \n",
    "- Client Says \"Please calculate 2*4\" the server should return \"8\" \n",
    "- The Client could as say \"Cal 2*4\" and the server should return \"8\" \n",
    "- The client could say \"Add 2+4\" and the server should return \"6\"\n",
    "> Look for the operator in the string and check for integers preceding and following the operator"
   ]
  },
  {
   "cell_type": "markdown",
   "metadata": {},
   "source": [
    "# Server Code\n",
    "- Create a Socket at 127.0.0.1 or any other IP and some port no Ex :  8080"
   ]
  },
  {
   "cell_type": "code",
   "execution_count": null,
   "metadata": {},
   "outputs": [
    {
     "name": "stdout",
     "output_type": "stream",
     "text": [
      "[STARTING] Server is starting on 192.168.31.209:5050\n"
     ]
    }
   ],
   "source": [
    "import socket\n",
    "import re  # For parsing math problems\n",
    "\n",
    "PORT = 5050\n",
    "SERVER = socket.gethostbyname(socket.gethostname())\n",
    "ADDR = (SERVER, PORT)\n",
    "\n",
    "server = socket.socket(socket.AF_INET, socket.SOCK_STREAM)\n",
    "server.bind(ADDR)\n",
    "server.listen()\n",
    "\n",
    "def parse_and_calculate(message):\n",
    "    operators = ['+', '-', '*', '/']\n",
    "    for operator in operators:\n",
    "        if operator in message:\n",
    "            parts = re.split(rf'\\{operator}', message)  # Split by the operator\n",
    "            if len(parts) == 2:\n",
    "                try:\n",
    "                    num1 = int(re.search(r'\\d+', parts[0]).group())  # First number\n",
    "                    num2 = int(re.search(r'\\d+', parts[1]).group())  # Second number\n",
    "                except (ValueError, AttributeError):\n",
    "                    return \"Error: Could not parse numbers.\"\n",
    "\n",
    "                # Perform calculation\n",
    "                if operator == '+':\n",
    "                    return num1 + num2\n",
    "                elif operator == '-':\n",
    "                    return num1 - num2\n",
    "                elif operator == '*':\n",
    "                    return num1 * num2\n",
    "                elif operator == '/':\n",
    "                    return num1 // num2 if num2 != 0 else \"Error: Division by zero\"\n",
    "    return \"Error: No valid operator found.\"\n",
    "\n",
    "print(f\"[STARTING] Server is starting on {SERVER}:{PORT}\")\n",
    "while True:\n",
    "    conn, addr = server.accept()\n",
    "    print(f\"[NEW CONNECTION] {addr} connected.\")\n",
    "\n",
    "    msg = conn.recv(1024).decode('utf-8')\n",
    "    print(f\"[CLIENT] {msg}\")\n",
    "    result = parse_and_calculate(msg)\n",
    "    conn.send(str(result).encode('utf-8'))\n",
    "    conn.close()\n"
   ]
  },
  {
   "cell_type": "markdown",
   "metadata": {},
   "source": [
    "# Client Code \n",
    "# ===========\n",
    "- Use a Separate file for this as 2 cells can't simultaneously run in a Python Notebook \n",
    "- The Client must connect to the sever at this socket \n",
    "- Take input from Serial Monitor and send it to server "
   ]
  },
  {
   "cell_type": "code",
   "execution_count": null,
   "metadata": {},
   "outputs": [],
   "source": [
    "import socket\n",
    "\n",
    "PORT = 5050\n",
    "SERVER = socket.gethostbyname(socket.gethostname())\n",
    "ADDR = (SERVER, PORT)\n",
    "\n",
    "client = socket.socket(socket.AF_INET, socket.SOCK_STREAM)\n",
    "client.connect(ADDR)\n",
    "\n",
    "message = \"Please calculate 9*5\"\n",
    "client.send(message.encode('utf-8'))  # Send math problem to server\n",
    "response = client.recv(1024).decode('utf-8')  # Receive result\n",
    "print(f\"[SERVER RESPONSE] {response}\")\n",
    "client.close()\n"
   ]
  },
  {
   "cell_type": "markdown",
   "metadata": {},
   "source": [
    "# Try running 2 client python file separately in 2 terminals \n",
    "- What happens to the output ? "
   ]
  }
 ],
 "metadata": {
  "kernelspec": {
   "display_name": "Python 3",
   "language": "python",
   "name": "python3"
  },
  "language_info": {
   "codemirror_mode": {
    "name": "ipython",
    "version": 3
   },
   "file_extension": ".py",
   "mimetype": "text/x-python",
   "name": "python",
   "nbconvert_exporter": "python",
   "pygments_lexer": "ipython3",
   "version": "3.9.6"
  }
 },
 "nbformat": 4,
 "nbformat_minor": 2
}
