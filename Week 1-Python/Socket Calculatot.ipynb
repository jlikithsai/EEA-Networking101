{
 "cells": [
  {
   "cell_type": "markdown",
   "metadata": {},
   "source": [
    "# Create a Calculator server using socket programming \n",
    " The Server should take string input from the client and use this input and perform the required operation and return the value as an integer \n",
    " <br>\n",
    "Ex : \n",
    "- Client Says \"Please calculate 2*4\" the server should return \"8\" \n",
    "- The Client could as say \"Cal 2*4\" and the server should return \"8\" \n",
    "- The client could say \"Add 2+4\" and the server should return \"6\"\n",
    "> Look for the operator in the string and check for integers preceding and following the operator"
   ]
  },
  {
   "cell_type": "markdown",
   "metadata": {},
   "source": [
    "# Server Code\n",
    "- Create a Socket at 127.0.0.1 or any other IP and some port no Ex :  8080"
   ]
  },
  {
   "cell_type": "code",
   "execution_count": null,
   "metadata": {},
   "outputs": [],
   "source": [
    "import socket\n",
    "import re\n",
    "\n",
    "server_socket = socket.socket(socket.AF_INET, socket.SOCK_STREAM)\n",
    "server_socket.bind((\"127.0.0.1\", 8080)) \n",
    "server_socket.listen()\n",
    "\n",
    "def calculate_expression(input_str):\n",
    "    \n",
    "    match = re.search(r\"(\\d+)\\s*([\\+\\-\\*/])\\s*(\\d+)\", input_str)\n",
    "    if match:\n",
    "        num1, operator, num2 = match.groups()\n",
    "        num1, num2 = int(num1), int(num2)\n",
    "\n",
    "       \n",
    "        if operator == '+':\n",
    "            return num1 + num2\n",
    "        elif operator == '-':\n",
    "            return num1 - num2\n",
    "        elif operator == '*':\n",
    "            return num1 * num2\n",
    "        elif operator == '/':\n",
    "            return num1 // num2 if num2 != 0 else \"Error: Division by zero\"\n",
    "    else:\n",
    "        return \"Error: Invalid input format\"\n",
    "\n",
    "# Accept connections and process client requests\n",
    "while True:\n",
    "    client_socket, client_address = server_socket.accept()\n",
    "    print(f\"Connected to client: {client_address}\")\n",
    "    \n",
    "    # Receive data from client\n",
    "    client_data = client_socket.recv(1024).decode('utf-8').lower()\n",
    "    print(f\"Received from client: {client_data}\")\n",
    "    \n",
    "    # Identify and calculate the operation\n",
    "    if \"add\" in client_data or \"+\" in client_data:\n",
    "        result = calculate_expression(client_data)\n",
    "    elif \"subtract\" in client_data or \"-\" in client_data:\n",
    "        result = calculate_expression(client_data)\n",
    "    elif \"multiply\" in client_data or \"*\" in client_data:\n",
    "        result = calculate_expression(client_data)\n",
    "    elif \"divide\" in client_data or \"/\" in client_data:\n",
    "        result = calculate_expression(client_data)\n",
    "    else:\n",
    "        result = \"Error: Unsupported operation or invalid format\"\n",
    "\n",
    "    \n",
    "    client_socket.send(str(result).encode('utf-8'))\n",
    "    \n",
    "    client_socket.close()\n"
   ]
  },
  {
   "cell_type": "markdown",
   "metadata": {},
   "source": [
    "# Client Code \n",
    "# ===========\n",
    "- Use a Separate file for this as 2 cells can't simultaneously run in a Python Notebook \n",
    "- The Client must connect to the sever at this socket \n",
    "- Take input from Serial Monitor and send it to server "
   ]
  },
  {
   "cell_type": "code",
   "execution_count": null,
   "metadata": {},
   "outputs": [],
   "source": [
    "import socket\n",
    "\n",
    "\n",
    "client_socket = socket.socket(socket.AF_INET, socket.SOCK_STREAM)\n",
    "\n",
    "\n",
    "server_address = (\"127.0.0.1\", 8080)\n",
    "client_socket.connect(server_address)\n",
    "\n",
    "\n",
    "\n",
    "expression = input(\"Enter your calculation: \")\n",
    "\n",
    "# Send the input to the server\n",
    "client_socket.send(expression.encode('utf-8'))\n",
    "\n",
    "# Receive the result from the server\n",
    "result = client_socket.recv(1024).decode('utf-8')\n",
    "print(f\"Result from server: {result}\")\n",
    "\n",
    "# Close the connection\n",
    "client_socket.close()\n"
   ]
  },
  {
   "cell_type": "markdown",
   "metadata": {},
   "source": [
    "# Try running 2 client python file separately in 2 terminals \n",
    "- What happens to the output ? "
   ]
  },
  {
   "cell_type": "markdown",
   "metadata": {},
   "source": [
    "It gave ConnectionRefusedError"
   ]
  }
 ],
 "metadata": {
  "language_info": {
   "name": "python"
  }
 },
 "nbformat": 4,
 "nbformat_minor": 2
}
