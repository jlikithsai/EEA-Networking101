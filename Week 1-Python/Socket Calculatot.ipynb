{
 "cells": [
  {
   "cell_type": "markdown",
   "metadata": {},
   "source": [
    "# Create a Calculator server using socket programming \n",
    " The Server should take string input from the client and use this input and perform the required operation and return the value as an integer \n",
    " <br>\n",
    "Ex : \n",
    "- Client Says \"Please calculate 2*4\" the server should return \"8\" \n",
    "- The Client could as say \"Cal 2*4\" and the server should return \"8\" \n",
    "- The client could say \"Add 2+4\" and the server should return \"6\"\n",
    "> Look for the operator in the string and check for integers preceding and following the operator"
   ]
  },
  {
   "cell_type": "markdown",
   "metadata": {},
   "source": [
    "# Server Code\n",
    "- Create a Socket at 127.0.0.1 or any other IP and some port no Ex :  8080"
   ]
  },
  {
   "cell_type": "code",
   "execution_count": null,
   "metadata": {},
   "outputs": [],
   "source": [
    "import socket\n",
    "import re\n",
    "\n",
    "def perform_calculation(expression):\n",
    "    # Find the operator and operands in the string\n",
    "    match = re.search(r\"(\\d+)\\s*([+\\-*/^])\\s*(\\d+)\", expression)\n",
    "    if match:\n",
    "        num1 = int(match.group(1))\n",
    "        operator = match.group(2)\n",
    "        num2 = int(match.group(3))\n",
    "        \n",
    "        # Perform the operation based on the operator\n",
    "        if operator == '+':\n",
    "            return num1 + num2\n",
    "        elif operator == '-':\n",
    "            return num1 - num2\n",
    "        elif operator == '*':\n",
    "            return num1 * num2\n",
    "        elif operator == '/':\n",
    "            if num2 != 0:\n",
    "                return num1 / num2\n",
    "            else:\n",
    "                return \"Error: Division by zero\"\n",
    "        elif operator == '^':\n",
    "            return num1 ** num2\n",
    "    else:\n",
    "        return \"Invalid operation format\"\n",
    "\n",
    "def start_server():\n",
    "    server = socket.socket(socket.AF_INET, socket.SOCK_STREAM)\n",
    "    server.bind((\"127.0.0.1\", 8080))  # Bind to IP and Port\n",
    "    server.listen(5)\n",
    "    print(\"Server listening on port 8080...\")\n",
    "    \n",
    "    while True:\n",
    "        client_socket, client_address = server.accept()\n",
    "        print(f\"Connection established with {client_address}\")\n",
    "        \n",
    "        message = client_socket.recv(1024).decode(\"utf-8\")\n",
    "        print(f\"Received from client: {message}\")\n",
    "        \n",
    "        # Perform the calculation\n",
    "        result = perform_calculation(message)\n",
    "        \n",
    "        # Send the result back to the client\n",
    "        client_socket.send(str(result).encode(\"utf-8\"))\n",
    "        \n",
    "        client_socket.close()\n",
    "\n",
    "if __name__ == \"__main__\":\n",
    "    start_server()"
   ]
  },
  {
   "cell_type": "markdown",
   "metadata": {},
   "source": [
    "# Client Code \n",
    "# ===========\n",
    "- Use a Separate file for this as 2 cells can't simultaneously run in a Python Notebook \n",
    "- The Client must connect to the sever at this socket \n",
    "- Take input from Serial Monitor and send it to server "
   ]
  },
  {
   "cell_type": "code",
   "execution_count": null,
   "metadata": {},
   "outputs": [],
   "source": [
    "import socket\n",
    "\n",
    "def start_client():\n",
    "    client = socket.socket(socket.AF_INET, socket.SOCK_STREAM)\n",
    "    client.connect((\"127.0.0.1\", 8080))  # Connect to server\n",
    "\n",
    "    # Take input from the user (or serial monitor)\n",
    "    expression = input(\"Enter a calculation (e.g., 2+3, 4*5): \")\n",
    "    \n",
    "    # Send the input expression to the server\n",
    "    client.send(expression.encode(\"utf-8\"))\n",
    "\n",
    "    # Receive the result from the server\n",
    "    result = client.recv(1024).decode(\"utf-8\")\n",
    "    print(f\"Result from server: {result}\")\n",
    "    \n",
    "    client.close()\n",
    "\n",
    "if __name__ == \"__main__\":\n",
    "    start_client()"
   ]
  },
  {
   "cell_type": "markdown",
   "metadata": {},
   "source": [
    "# Try running 2 client python file separately in 2 terminals \n",
    "- What happens to the output ? "
   ]
  }
 ],
 "metadata": {
  "kernelspec": {
   "display_name": "Python 3",
   "language": "python",
   "name": "python3"
  },
  "language_info": {
   "codemirror_mode": {
    "name": "ipython",
    "version": 3
   },
   "file_extension": ".py",
   "mimetype": "text/x-python",
   "name": "python",
   "nbconvert_exporter": "python",
   "pygments_lexer": "ipython3",
   "version": "3.12.1"
  }
 },
 "nbformat": 4,
 "nbformat_minor": 2
}
