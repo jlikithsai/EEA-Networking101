{
 "cells": [
  {
   "cell_type": "markdown",
   "metadata": {},
   "source": [
    "# Create a Calculator server using socket programming \n",
    " The Server should take string input from the client and use this input and perform the required operation and return the value as an integer \n",
    " <br>\n",
    "Ex : \n",
    "- Client Says \"Please calculate 2*4\" the server should return \"8\" \n",
    "- The Client could as say \"Cal 2*4\" and the server should return \"8\" \n",
    "- The client could say \"Add 2+4\" and the server should return \"6\"\n",
    "> Look for the operator in the string and check for integers preceding and following the operator"
   ]
  },
  {
   "cell_type": "markdown",
   "metadata": {},
   "source": [
    "# Server Code\n",
    "- Create a Socket at 127.0.0.1 or any other IP and some port no Ex :  8080"
   ]
  },
  {
   "cell_type": "code",
   "execution_count": null,
   "metadata": {},
   "outputs": [
    {
     "name": "stdout",
     "output_type": "stream",
     "text": [
      "Server is listening on 127.0.0.1:8080\n",
      "Connection established with ('127.0.0.1', 65375)\n",
      "Received: add 2+3\n",
      "Result: 5\n",
      "Connection established with ('127.0.0.1', 65381)\n",
      "Received: add 5+6\n",
      "Result: 11\n"
     ]
    }
   ],
   "source": [
    "import socket\n",
    "import re\n",
    "\n",
    "def evaluate_expression(expression):\n",
    "    \"\"\"\n",
    "    Extracts the operator and numbers from the string, performs the calculation, and returns the result.\n",
    "    \"\"\"\n",
    "    try:\n",
    "        # Regular expression to find numbers and operators in the string\n",
    "        match = re.search(r'([-+]?\\d+)\\s*([+\\-*/])\\s*([-+]?\\d+)', expression)\n",
    "        if not match:\n",
    "            return \"Error: Could not parse expression\"\n",
    "\n",
    "        num1, operator, num2 = match.groups()\n",
    "        num1, num2 = int(num1), int(num2)\n",
    "\n",
    "        # Perform the operation\n",
    "        if operator == '+':\n",
    "            return num1 + num2\n",
    "        elif operator == '-':\n",
    "            return num1 - num2\n",
    "        elif operator == '*':\n",
    "            return num1 * num2\n",
    "        elif operator == '/':\n",
    "            return num1 // num2 if num2 != 0 else \"Error: Division by zero\"\n",
    "        else:\n",
    "            return \"Error: Unknown operator\"\n",
    "    except Exception as e:\n",
    "        return f\"Error: {e}\"\n",
    "\n",
    "\n",
    "def start_server(host='127.0.0.1', port=8080):\n",
    "    \"\"\"\n",
    "    Starts a socket server that listens for calculator requests.\n",
    "    \"\"\"\n",
    "    with socket.socket(socket.AF_INET, socket.SOCK_STREAM) as server_socket:\n",
    "        server_socket.bind((host, port))\n",
    "        server_socket.listen(5)\n",
    "        print(f\"Server is listening on {host}:{port}\")\n",
    "\n",
    "        while True:\n",
    "            client_socket, client_address = server_socket.accept()\n",
    "            print(f\"Connection established with {client_address}\")\n",
    "\n",
    "            with client_socket:\n",
    "                while True:\n",
    "                    # Receive data from the client\n",
    "                    data = client_socket.recv(1024)\n",
    "                    if not data:\n",
    "                        break\n",
    "\n",
    "                    # Decode the received data\n",
    "                    input_string = data.decode('utf-8')\n",
    "                    print(f\"Received: {input_string}\")\n",
    "\n",
    "                    # Evaluate the expression\n",
    "                    result = evaluate_expression(input_string)\n",
    "                    print(f\"Result: {result}\")\n",
    "\n",
    "                    # Send the result back to the client\n",
    "                    client_socket.sendall(str(result).encode('utf-8'))\n",
    "\n",
    "if __name__ == \"__main__\":\n",
    "    start_server()"
   ]
  },
  {
   "cell_type": "markdown",
   "metadata": {},
   "source": [
    "# Client Code \n",
    "# ===========\n",
    "- Use a Separate file for this as 2 cells can't simultaneously run in a Python Notebook \n",
    "- The Client must connect to the sever at this socket \n",
    "- Take input from Serial Monitor and send it to server "
   ]
  },
  {
   "cell_type": "code",
   "execution_count": null,
   "metadata": {},
   "outputs": [],
   "source": []
  },
  {
   "cell_type": "markdown",
   "metadata": {},
   "source": [
    "# Try running 2 client python file separately in 2 terminals \n",
    "- What happens to the output ? \n",
    "-If both clients send requests simultaneously, the server processes one client at a time. The second client's request will only be processed after the first client's connection is handled.\n",
    "Server Error During Communication:\n",
    "\n",
    "If the server encounters an unhandled exception while processing a request, it may cause the connection to break."
   ]
  }
 ],
 "metadata": {
  "kernelspec": {
   "display_name": "Python 3",
   "language": "python",
   "name": "python3"
  },
  "language_info": {
   "codemirror_mode": {
    "name": "ipython",
    "version": 3
   },
   "file_extension": ".py",
   "mimetype": "text/x-python",
   "name": "python",
   "nbconvert_exporter": "python",
   "pygments_lexer": "ipython3",
   "version": "3.12.2"
  }
 },
 "nbformat": 4,
 "nbformat_minor": 2
}
