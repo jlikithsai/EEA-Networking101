{
 "cells": [
  {
   "cell_type": "markdown",
   "metadata": {},
   "source": [
    "# Create a Calculator server using socket programming \n",
    " The Server should take string input from the client and use this input and perform the required operation and return the value as an integer \n",
    " <br>\n",
    "Ex : \n",
    "- Client Says \"Please calculate 2*4\" the server should return \"8\" \n",
    "- The Client could as say \"Cal 2*4\" and the server should return \"8\" \n",
    "- The client could say \"Add 2+4\" and the server should return \"6\"\n",
    "> Look for the operator in the string and check for integers preceding and following the operator"
   ]
  },
  {
   "cell_type": "markdown",
   "metadata": {},
   "source": [
    "# Server Code\n",
    "- Create a Socket at 127.0.0.1 or any other IP and some port no Ex :  8080"
   ]
  },
  {
   "cell_type": "code",
   "execution_count": null,
   "metadata": {},
   "outputs": [],
   "source": [
    "import socket\n",
    "import re\n",
    "import threading\n",
    "\n",
    "def handle_client(client_socket):\n",
    "    try:\n",
    "        while True:\n",
    "            data = client_socket.recv(1024).decode()\n",
    "            if not data:\n",
    "                break\n",
    "            \n",
    "            print(f\"Received: {data}\")\n",
    "            response = calculate(data)\n",
    "            client_socket.send(response.encode())\n",
    "    except:\n",
    "        print(\"Client disconnected\")\n",
    "    finally:\n",
    "        client_socket.close()\n",
    "\n",
    "def calculate(expression):\n",
    "    try:\n",
    "        # Extract the mathematical expression using regex\n",
    "        match = re.search(r'(\\d+)\\s*([\\+\\-\\*/])\\s*(\\d+)', expression)\n",
    "        if not match:\n",
    "            return \"Error: Invalid expression\"\n",
    "        \n",
    "        operand1, operator, operand2 = match.groups()\n",
    "        operand1 = int(operand1)\n",
    "        operand2 = int(operand2)\n",
    "        \n",
    "        if operator == '+':\n",
    "            result = operand1 + operand2\n",
    "        elif operator == '-':\n",
    "            result = operand1 - operand2\n",
    "        elif operator == '*':\n",
    "            result = operand1 * operand2\n",
    "        elif operator == '/':\n",
    "            if operand2 == 0:\n",
    "                return \"Error: Division by zero\"\n",
    "            result = operand1 / operand2\n",
    "        else:\n",
    "            return \"Error: Unsupported operator\"\n",
    "        \n",
    "        return str(int(result)) if operator != '/' else str(result)\n",
    "    except Exception as e:\n",
    "        return f\"Error: {str(e)}\"\n",
    "def start_server(host, port):\n",
    "    server = socket.socket(socket.AF_INET, socket.SOCK_STREAM)\n",
    "    server.bind((host, port))\n",
    "    server.listen(5)\n",
    "    print(f\"Server listening on {host}:{port}\")\n",
    "    \n",
    "    while True:\n",
    "        client_socket, addr = server.accept()\n",
    "        print(f\"Accepted connection from {addr}\")\n",
    "        client_handler = threading.Thread(target=handle_client, args=(client_socket,))\n",
    "        client_handler.start()\n",
    "\n",
    "if __name__ == \"__main__\":\n",
    "    HOST, PORT = \"127.0.0.1\", 9999\n",
    "    start_server(HOST, PORT)\n"
   ]
  },
  {
   "cell_type": "markdown",
   "metadata": {},
   "source": [
    "# Client Code \n",
    "# ===========\n",
    "- Use a Separate file for this as 2 cells can't simultaneously run in a Python Notebook \n",
    "- The Client must connect to the sever at this socket \n",
    "- Take input from Serial Monitor and send it to server "
   ]
  },
  {
   "cell_type": "code",
   "execution_count": null,
   "metadata": {},
   "outputs": [],
   "source": [
    "import socket\n",
    "\n",
    "def start_client(host, port):\n",
    "    client = socket.socket(socket.AF_INET, socket.SOCK_STREAM)\n",
    "    client.connect((host, port))\n",
    "\n",
    "    try:\n",
    "        while True:\n",
    "            expression = input(\"Enter a mathematical expression (or 'exit' to quit): \")\n",
    "            if expression.lower() == 'exit':\n",
    "                break\n",
    "            client.send(expression.encode())\n",
    "            response = client.recv(1024).decode()\n",
    "            print(f\"Result: {response}\")\n",
    "    except:\n",
    "        print(\"Disconnected from server\")\n",
    "    finally:\n",
    "        client.close()\n",
    "\n",
    "if __name__ == \"__main__\":\n",
    "    HOST, PORT = \"127.0.0.1\", 9999\n",
    "    start_client(HOST, PORT)"
   ]
  },
  {
   "cell_type": "markdown",
   "metadata": {},
   "source": [
    "# Try running 2 client python file separately in 2 terminals \n",
    "- What happens to the output ? "
   ]
  }
 ],
 "metadata": {
  "language_info": {
   "name": "python"
  }
 },
 "nbformat": 4,
 "nbformat_minor": 2
}
