{
 "cells": [
  {
   "cell_type": "markdown",
   "metadata": {},
   "source": [
    "# Create a Calculator server using socket programming \n",
    " The Server should take string input from the client and use this input and perform the required operation and return the value as an integer \n",
    " <br>\n",
    "Ex : \n",
    "- Client Says \"Please calculate 2*4\" the server should return \"8\" \n",
    "- The Client could as say \"Cal 2*4\" and the server should return \"8\" \n",
    "- The client could say \"Add 2+4\" and the server should return \"6\"\n",
    "> Look for the operator in the string and check for integers preceding and following the operator"
   ]
  },
  {
   "cell_type": "markdown",
   "metadata": {},
   "source": [
    "# Server Code\n",
    "- Create a Socket at 127.0.0.1 or any other IP and some port no Ex :  8080"
   ]
  },
  {
   "cell_type": "code",
   "execution_count": 15,
   "metadata": {},
   "outputs": [
    {
     "name": "stdout",
     "output_type": "stream",
     "text": [
      "Connected by ('127.0.0.1', 56584)\n"
     ]
    }
   ],
   "source": [
    "import socket,re\n",
    "\n",
    "def calci(expression):\n",
    "    match = re.search(r'(\\d+)\\s*([\\+\\-\\*/])\\s*(\\d+)', expression)\n",
    "    if not match:\n",
    "        return \"Invalid expression\"\n",
    "    \n",
    "    num1, sign, num2 = match.groups()\n",
    "    num1, num2 = int(num1), int(num2)\n",
    "    \n",
    "    if sign == '+':\n",
    "        return str(num1 + num2)\n",
    "    elif sign == '-':\n",
    "        return str(num1 - num2)\n",
    "    elif sign == '*':\n",
    "        return str(num1 * num2)\n",
    "    elif sign == '/':\n",
    "        if num2 == 0:\n",
    "            return \"Division by zero\"\n",
    "        return str(num1 / num2)\n",
    "    else:\n",
    "        return \"Invalid operation\"\n",
    "\n",
    "with socket.socket(socket.AF_INET, socket.SOCK_STREAM) as s:\n",
    "    s.bind(('127.0.0.1', 8080))\n",
    "    s.listen()\n",
    "    conn, addr = s.accept()\n",
    "    with conn:\n",
    "        print(f\"Connected by {addr}\")\n",
    "        while True:\n",
    "            data = conn.recv(1024)\n",
    "            if not data:\n",
    "                break\n",
    "            ans=calci(data.decode())\n",
    "            conn.sendall(ans.encode())\n",
    "    "
   ]
  },
  {
   "cell_type": "markdown",
   "metadata": {},
   "source": [
    "# Client Code \n",
    "# ===========\n",
    "- Use a Separate file for this as 2 cells can't simultaneously run in a Python Notebook \n",
    "- The Client must connect to the sever at this socket \n",
    "- Take input from Serial Monitor and send it to server "
   ]
  },
  {
   "cell_type": "code",
   "execution_count": null,
   "metadata": {},
   "outputs": [],
   "source": []
  },
  {
   "cell_type": "markdown",
   "metadata": {},
   "source": [
    "# Try running 2 client python file separately in 2 terminals \n",
    "- What happens to the output ? "
   ]
  }
 ],
 "metadata": {
  "kernelspec": {
   "display_name": "Python 3",
   "language": "python",
   "name": "python3"
  },
  "language_info": {
   "codemirror_mode": {
    "name": "ipython",
    "version": 3
   },
   "file_extension": ".py",
   "mimetype": "text/x-python",
   "name": "python",
   "nbconvert_exporter": "python",
   "pygments_lexer": "ipython3",
   "version": "3.12.2"
  }
 },
 "nbformat": 4,
 "nbformat_minor": 2
}
