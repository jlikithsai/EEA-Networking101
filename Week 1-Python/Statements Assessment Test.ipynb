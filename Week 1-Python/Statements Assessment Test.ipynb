{
 "cells": [
  {
   "cell_type": "markdown",
   "metadata": {
    "collapsed": true
   },
   "source": [
    "# Statements Assessment Test\n",
    "Let's test your knowledge!"
   ]
  },
  {
   "cell_type": "markdown",
   "metadata": {},
   "source": [
    "_____\n",
    "**Use <code>for</code>, .split(), and <code>if</code> to create a Statement that will print out words that start with 's':**"
   ]
  },
  {
   "cell_type": "code",
   "execution_count": 2,
   "metadata": {},
   "outputs": [],
   "source": [
    "st = 'Print only the words that start with s in this sentence'"
   ]
  },
  {
   "cell_type": "code",
   "execution_count": 3,
   "metadata": {},
   "outputs": [
    {
     "name": "stdout",
     "output_type": "stream",
     "text": [
      "start\n",
      "s\n",
      "sentence\n"
     ]
    }
   ],
   "source": [
    "#Code here\n",
    "for x in st.split():\n",
    "    if x[0]=='s':\n",
    "        print(x)"
   ]
  },
  {
   "cell_type": "markdown",
   "metadata": {},
   "source": [
    "______\n",
    "**Use range() to print all the even numbers from 0 to 10.**"
   ]
  },
  {
   "cell_type": "code",
   "execution_count": 8,
   "metadata": {},
   "outputs": [
    {
     "data": {
      "text/plain": [
       "[0, 2, 4, 6, 8]"
      ]
     },
     "execution_count": 8,
     "metadata": {},
     "output_type": "execute_result"
    }
   ],
   "source": [
    "#Code Here\n",
    "list(range(0,10,2))"
   ]
  },
  {
   "cell_type": "markdown",
   "metadata": {},
   "source": [
    "___\n",
    "**Use a List Comprehension to create a list of all numbers between 1 and 50 that are divisible by 3.**"
   ]
  },
  {
   "cell_type": "code",
   "execution_count": 10,
   "metadata": {},
   "outputs": [
    {
     "data": {
      "text/plain": [
       "[3, 6, 9, 12, 15, 18, 21, 24, 27, 30, 33, 36, 39, 42, 45, 48]"
      ]
     },
     "execution_count": 10,
     "metadata": {},
     "output_type": "execute_result"
    }
   ],
   "source": [
    "#Code in this cell\n",
    "[x for x in range(1,50) if x%3==0]"
   ]
  },
  {
   "cell_type": "markdown",
   "metadata": {},
   "source": [
    "_____\n",
    "**Go through the string below and if the length of a word is even print \"even!\"**"
   ]
  },
  {
   "cell_type": "code",
   "execution_count": 11,
   "metadata": {},
   "outputs": [],
   "source": [
    "st = 'Print every word in this sentence that has an even number of letters'"
   ]
  },
  {
   "cell_type": "code",
   "execution_count": 12,
   "metadata": {},
   "outputs": [
    {
     "name": "stdout",
     "output_type": "stream",
     "text": [
      "word even\n",
      "in even\n",
      "this even\n",
      "sentence even\n",
      "that even\n",
      "an even\n",
      "even even\n",
      "number even\n",
      "of even\n"
     ]
    }
   ],
   "source": [
    "#Code in this cell\n",
    "for x in st.split():\n",
    "    if len(x)%2 == 0:\n",
    "        print(x+\" even\")"
   ]
  },
  {
   "cell_type": "markdown",
   "metadata": {},
   "source": [
    "____\n",
    "**Write a program that prints the integers from 1 to 100. But for multiples of three print \"Fizz\" instead of the number, and for the multiples of five print \"Buzz\". For numbers which are multiples of both three and five print \"FizzBuzz\".**"
   ]
  },
  {
   "cell_type": "code",
   "execution_count": 13,
   "metadata": {},
   "outputs": [
    {
     "name": "stdout",
     "output_type": "stream",
     "text": [
      "1\n",
      "2\n",
      "Frizz\n",
      "4\n",
      "Buzz\n",
      "Frizz\n",
      "7\n",
      "8\n",
      "Frizz\n",
      "Buzz\n",
      "11\n",
      "Frizz\n",
      "13\n",
      "14\n",
      "FrizzBuzz\n",
      "16\n",
      "17\n",
      "Frizz\n",
      "19\n",
      "Buzz\n",
      "Frizz\n",
      "22\n",
      "23\n",
      "Frizz\n",
      "Buzz\n",
      "26\n",
      "Frizz\n",
      "28\n",
      "29\n",
      "FrizzBuzz\n",
      "31\n",
      "32\n",
      "Frizz\n",
      "34\n",
      "Buzz\n",
      "Frizz\n",
      "37\n",
      "38\n",
      "Frizz\n",
      "Buzz\n",
      "41\n",
      "Frizz\n",
      "43\n",
      "44\n",
      "FrizzBuzz\n",
      "46\n",
      "47\n",
      "Frizz\n",
      "49\n",
      "Buzz\n",
      "Frizz\n",
      "52\n",
      "53\n",
      "Frizz\n",
      "Buzz\n",
      "56\n",
      "Frizz\n",
      "58\n",
      "59\n",
      "FrizzBuzz\n",
      "61\n",
      "62\n",
      "Frizz\n",
      "64\n",
      "Buzz\n",
      "Frizz\n",
      "67\n",
      "68\n",
      "Frizz\n",
      "Buzz\n",
      "71\n",
      "Frizz\n",
      "73\n",
      "74\n",
      "FrizzBuzz\n",
      "76\n",
      "77\n",
      "Frizz\n",
      "79\n",
      "Buzz\n",
      "Frizz\n",
      "82\n",
      "83\n",
      "Frizz\n",
      "Buzz\n",
      "86\n",
      "Frizz\n",
      "88\n",
      "89\n",
      "FrizzBuzz\n",
      "91\n",
      "92\n",
      "Frizz\n",
      "94\n",
      "Buzz\n",
      "Frizz\n",
      "97\n",
      "98\n",
      "Frizz\n"
     ]
    }
   ],
   "source": [
    "#Code in this cell\n",
    "for x in range(1,100):\n",
    "    if x%3==0 and x%5==0:\n",
    "        print('FrizzBuzz')\n",
    "    elif x%3==0:\n",
    "        print('Frizz') \n",
    "    elif x%5==0:\n",
    "        print('Buzz')\n",
    "    else:\n",
    "        print(x)"
   ]
  },
  {
   "cell_type": "markdown",
   "metadata": {},
   "source": [
    "____\n",
    "**Use List Comprehension to create a list of the first letters of every word in the string below:**"
   ]
  },
  {
   "cell_type": "code",
   "execution_count": 15,
   "metadata": {},
   "outputs": [],
   "source": [
    "st = 'Create a list of the first letters of every word in this string'"
   ]
  },
  {
   "cell_type": "code",
   "execution_count": 16,
   "metadata": {},
   "outputs": [
    {
     "data": {
      "text/plain": [
       "['C', 'a', 'l', 'o', 't', 'f', 'l', 'o', 'e', 'w', 'i', 't', 's']"
      ]
     },
     "execution_count": 16,
     "metadata": {},
     "output_type": "execute_result"
    }
   ],
   "source": [
    "#Code in this cell\n",
    "[x[0] for x in st.split()]"
   ]
  },
  {
   "cell_type": "markdown",
   "metadata": {},
   "source": [
    "### Great Job!"
   ]
  }
 ],
 "metadata": {
  "kernelspec": {
   "display_name": "Python 3",
   "language": "python",
   "name": "python3"
  },
  "language_info": {
   "codemirror_mode": {
    "name": "ipython",
    "version": 3
   },
   "file_extension": ".py",
   "mimetype": "text/x-python",
   "name": "python",
   "nbconvert_exporter": "python",
   "pygments_lexer": "ipython3",
   "version": "3.12.0"
  }
 },
 "nbformat": 4,
 "nbformat_minor": 1
}
