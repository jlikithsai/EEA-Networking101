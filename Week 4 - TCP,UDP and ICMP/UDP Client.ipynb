{
 "cells": [
  {
   "cell_type": "code",
   "execution_count": null,
   "metadata": {},
   "outputs": [
    {
     "name": "stdout",
     "output_type": "stream",
     "text": [
      "Server response for valid input : Message Received\n",
      "Server response to empty input : Empty Message Received\n",
      "Server Response (Long Message): Message is too long\n",
      "Simulating Interrupted Connection...\n"
     ]
    }
   ],
   "source": [
    "import socket\n",
    "import time\n",
    "\n",
    "HOST = \"127.0.0.1\"\n",
    "PORT = 8080 \n",
    "\n",
    "with(socket.socket(socket.AF_INET,socket.SOCK_DGRAM)) as s:\n",
    "    #Test case 1 : Valid Input \n",
    "    message = \"Hi, UDP_SERVER!\"\n",
    "    s.sendto(message.encode(), (HOST, PORT))\n",
    "    data,addr = s.recvfrom(1024)\n",
    "    print(f\"Server response for valid input : {data.decode()}\")\n",
    "\n",
    "    # Test Case 2: Empty Message\n",
    "    message = \"\"\n",
    "    s.sendto(message.encode(),(HOST,PORT))\n",
    "    data,addr =s.recvfrom(1024)\n",
    "    print(f\"Server response to empty input : {data.decode()}\")\n",
    "\n",
    "    # Test Case 3: Long Message\n",
    "    long_message = \"A\" * 2000  # 2000 characters, larger than 1024 bytes\n",
    "    s.sendto(long_message.encode(), (HOST, PORT))\n",
    "    data, addr = s.recvfrom(1024)\n",
    "    print(f\"Server Response (Long Message): {data.decode()}\")\n",
    "\n",
    "    # Test Case 4: Interrupted Connection\n",
    "    print(\"Simulating Interrupted Connection...\")\n",
    "    time.sleep(3)  #stop the server in this time\n",
    "    try:\n",
    "        s.sendto(\"Test Message After Server Stop\".encode(), (HOST, PORT))\n",
    "        data, addr = s.recvfrom(1024)\n",
    "        print(f\"Server Response (After Interrupted Connection): {data.decode()}\")\n",
    "    except socket.timeout:\n",
    "        print(\"Server stopped, no response (Timeout).\") \n",
    "    "
   ]
  }
 ],
 "metadata": {
  "kernelspec": {
   "display_name": "Python 3",
   "language": "python",
   "name": "python3"
  },
  "language_info": {
   "codemirror_mode": {
    "name": "ipython",
    "version": 3
   },
   "file_extension": ".py",
   "mimetype": "text/x-python",
   "name": "python",
   "nbconvert_exporter": "python",
   "pygments_lexer": "ipython3",
   "version": "3.12.7"
  }
 },
 "nbformat": 4,
 "nbformat_minor": 2
}
