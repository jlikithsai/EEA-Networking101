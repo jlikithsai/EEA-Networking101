{
 "cells": [
  {
   "cell_type": "markdown",
   "metadata": {},
   "source": [
    "# SMTP\n"
   ]
  },
  {
   "cell_type": "markdown",
   "metadata": {},
   "source": [
    "Your task is to develop a simple mail client that sends email to any recipient. Your client will need to\n",
    "connect to a mail server, dialogue with the mail server using the SMTP protocol, and send an email\n",
    "message to the mail server. Python provides a module, called smtplib, which has built in methods to send\n",
    "mail using SMTP protocol. However, we will not be using this module in this lab, because it hide the\n",
    "details of SMTP and socket programming.\n",
    "In order to limit spam, some mail servers do not accept TCP connection from arbitrary sources. For the\n",
    "experiment described below, you may want to try connecting both to your university mail server and to a\n",
    "popular Webmail server, such as a AOL mail server. You may also try making your connection both from\n",
    "your home and from your university campus."
   ]
  },
  {
   "cell_type": "code",
   "execution_count": null,
   "metadata": {},
   "outputs": [],
   "source": [
    "from socket import *\n",
    "\n",
    "msg = \"\\r\\n I love computer networks!\"\n",
    "endmsg = \"\\r\\n.\\r\\n\"\n",
    "\n",
    "# Choose a mail server (e.g. Google mail server) and call it mailserver\n",
    "mailserver = ''  # Fill in the mail server address\n",
    "\n",
    "# Create socket called clientSocket and establish a TCP connection with mailserver\n",
    "# Fill in start\n",
    "# Fill in end\n",
    "\n",
    "recv = clientSocket.recv(1024).decode()\n",
    "print(recv)\n",
    "if recv[:3] != '220':\n",
    "    print('220 reply not received from server.')\n",
    "\n",
    "# Send HELO command and print server response.\n",
    "heloCommand = 'HELO Alice\\r\\n'\n",
    "clientSocket.send(heloCommand.encode())\n",
    "recv1 = clientSocket.recv(1024).decode()\n",
    "print(recv1)\n",
    "if recv1[:3] != '250':\n",
    "    print('250 reply not received from server.')\n",
    "\n",
    "# Send MAIL FROM command and print server response.\n",
    "# Fill in start\n",
    "# Fill in end\n",
    "\n",
    "# Send RCPT TO command and print server response.\n",
    "# Fill in start\n",
    "# Fill in end\n",
    "\n",
    "# Send DATA command and print server response.\n",
    "# Fill in start\n",
    "# Fill in end\n",
    "\n",
    "# Send message data.\n",
    "# Fill in start\n",
    "# Fill in end\n",
    "\n",
    "# Message ends with a single period.\n",
    "# Fill in start\n",
    "# Fill in end\n",
    "\n",
    "# Send QUIT command and get server response.\n",
    "# Fill in start\n",
    "# Fill in end\n"
   ]
  }
 ],
 "metadata": {
  "language_info": {
   "name": "python"
  }
 },
 "nbformat": 4,
 "nbformat_minor": 2
}
